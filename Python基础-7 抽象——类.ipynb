{
 "cells": [
  {
   "cell_type": "markdown",
   "metadata": {},
   "source": [
    "# 7 类\n",
    "\n",
    "- 类这个项目里面的内容非常的多，它属于面向对象编程的核心。\n",
    "- 类的概述：\n",
    "    - 类是一类事物的概述，包含属性和方法。\n",
    "    - 类可以继承，可以以非常多，非常复杂的方式继承。\n",
    "    - 类的继承可以避免重复造轮子，可以很方便的使用已有的代码。（标准库）\n",
    "    "
   ]
  },
  {
   "cell_type": "markdown",
   "metadata": {},
   "source": [
    "### 类的基本概念：\n",
    "\n",
    "    - 定义：class Student():\n",
    "            name = None\n",
    "            age = 10\n",
    "            def dosth(self):\n",
    "               print('学生做作业')\n",
    "         \n",
    "            \n",
    "    - 创建类实例：\n",
    "        - a = Studeng('小明'，'12')\n",
    "        - 可以访问实例的属性和方法：\n",
    "            - a.name \n",
    "            - a.dosth()\n",
    "            \n",
    "        - 可以修改属性的值，可以设置默认值。\n",
    "        \n",
    "    - 类实例化的时候，括号里的参数要跟构造函数的参数相同，如果构造函数只有self，可不写，因为是自动调用的\n",
    "        \n",
    "    - 继承：\n",
    "        - class Collage_student(Student):\n",
    "            def __init__(self,name,age)\n",
    "            super().__init__(name,age)\n",
    "            \n",
    "            def work(self):\n",
    "                print('可以实习了')\n",
    "          - 继承里面涉及到多继承的概念，一个类继承多个类的话，需要注意书写排序。\n",
    "          - 因为各个类中，可能会有重名的 方法。\n",
    "          - 继承的类中，位于前面的类的方法，会覆盖位于后面的类的方法\n",
    "          \n",
    "     - 封装：\n",
    "         - 这个没看懂\n",
    "         \n",
    "         "
   ]
  },
  {
   "cell_type": "markdown",
   "metadata": {},
   "source": [
    "### 如何确定：面向对象的模型\n",
    "\n",
    "- 在确定需要哪些类，已经这些类应该包含哪些方法时：\n",
    "    - 将有关问题的描述记录下来，并给所有的名词动词形容词加上标记；\n",
    "    - 在名词中间寻找可能的类；\n",
    "    - 在动词中找可能的方法；\n",
    "    - 在形容词中找可能的属性；\n",
    "    - 将找出的方法和属性分配给各个类"
   ]
  },
  {
   "cell_type": "markdown",
   "metadata": {
    "collapsed": true
   },
   "source": [
    "## 关于self的问题 \n",
    "\n",
    "    - self是指向实例。\n",
    "    - 类中的方法，如果没有参数，那么在调用的时候，是无法用实例对象去调用，只能用类本身\n",
    "    - 而没有参数的方法，类本身或者其他有属性的类可以作为参数"
   ]
  },
  {
   "cell_type": "code",
   "execution_count": 8,
   "metadata": {},
   "outputs": [
    {
     "name": "stdout",
     "output_type": "stream",
     "text": [
      "aaaa\n",
      "200\n",
      "aaaa\n",
      "200\n",
      " liuying\n",
      "18\n",
      "bbbb\n",
      "90\n",
      " liuying\n",
      "18\n",
      "aaaa\n"
     ]
    }
   ],
   "source": [
    "# 直接复制 老师的代码\n",
    "# 关于self的案例\n",
    "\n",
    "class A():\n",
    "    name = \" liuying\"\n",
    "    age = 18\n",
    "    \n",
    "    def __init__(self):\n",
    "        self.name = \"aaaa\"\n",
    "        self.age = 200\n",
    "        \n",
    "    def say(self):\n",
    "        print(self.name)\n",
    "        print(self.age)\n",
    "        \n",
    "class B():\n",
    "    name = \"bbbb\"\n",
    "    age = 90\n",
    "    \n",
    "a = A()\n",
    "# 此时，系统会默认把a作为第一个参数传入函数\n",
    "a.say()\n",
    "   \n",
    "# 此时，self被a替换\n",
    "A.say(a)\n",
    "# 同样可以把A作为参数传入\n",
    "A.say(A)\n",
    "\n",
    "# 此时，传入的是类实例B，因为B具有name和age属性，所以不会报错\n",
    "A.say(B)\n",
    "\n",
    "# 以上代码，利用了鸭子模型\n",
    "\n",
    "\n",
    "# 类本身的属性可以用类来访问\n",
    "print(A.name)\n",
    "print(A.age)\n",
    "print(a.name)\n",
    "\n"
   ]
  },
  {
   "cell_type": "markdown",
   "metadata": {},
   "source": [
    "### 私有变量的访问：\n",
    "\n",
    "- 私有变量：\n",
    "        \n",
    "        class A():\n",
    "           name = None\n",
    "           __age = 18\n",
    "       \n",
    "       p = A()\n",
    "       p._A__age  就可以访问了\n",
    "- 私有不是真私有，只是想告诉别人，这个值，需要注意\n",
    "       \n",
    "       \n",
    "### 受保护的变量：\n",
    "- 变量前添加一个下划线"
   ]
  },
  {
   "cell_type": "markdown",
   "metadata": {},
   "source": [
    "### 构造函数\n",
    "- 构造函数：\n",
    "        - 构造函数优先从子类，子类没有再按照顺序网上去找"
   ]
  },
  {
   "cell_type": "code",
   "execution_count": null,
   "metadata": {
    "collapsed": true
   },
   "outputs": [],
   "source": []
  }
 ],
 "metadata": {
  "kernelspec": {
   "display_name": "Python 3",
   "language": "python",
   "name": "python3"
  },
  "language_info": {
   "codemirror_mode": {
    "name": "ipython",
    "version": 3
   },
   "file_extension": ".py",
   "mimetype": "text/x-python",
   "name": "python",
   "nbconvert_exporter": "python",
   "pygments_lexer": "ipython3",
   "version": "3.6.3"
  }
 },
 "nbformat": 4,
 "nbformat_minor": 2
}
