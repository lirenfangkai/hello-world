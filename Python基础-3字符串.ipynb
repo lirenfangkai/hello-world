{
 "cells": [
  {
   "cell_type": "markdown",
   "metadata": {},
   "source": [
    "# 使用字符串\n",
    "\n",
    "### 字符串的基本操作\n",
    "    \n",
    "    - 适合左右序列的标准操作：索引、切片、乘法、成员资格检查、长度、最小值、最大值"
   ]
  },
  {
   "cell_type": "markdown",
   "metadata": {},
   "source": [
    "### 设置字符串的格式\n",
    "\n",
    "    - 设置格式的基本方法是：调用format函数，提供参数，和要设置的值。\n",
    "    \n",
    "    - 待替换字段：\n",
    "        - 字段名：很多个花括号，其中的内容\n",
    "        - 转换标志： 转换成字符串!s(str)   转换成原始内容!r(repr)   转换成ASCⅡ码，最常用的就是!s\n",
    "        - 格式说明符：包含 二进制，八进制，十六进制，小数，指数，空格，等等等\n",
    "        - 格式说明的方法是，使用冒号，格式放在冒号后面。"
   ]
  },
  {
   "cell_type": "markdown",
   "metadata": {},
   "source": [
    "### 转换标志\n",
    "\n",
    "- 转换标志：print('{name!s},{age!r},{job!r}'.format(name='python',age=18,job='programmer'))"
   ]
  },
  {
   "cell_type": "code",
   "execution_count": 1,
   "metadata": {},
   "outputs": [
    {
     "name": "stdout",
     "output_type": "stream",
     "text": [
      "python,18,'programmer'\n"
     ]
    }
   ],
   "source": [
    "print('{name!s},{age!r},{job!r}'.format(name='python',age=18,job='programmer'))"
   ]
  },
  {
   "cell_type": "markdown",
   "metadata": {},
   "source": [
    "### 格式说明\n",
    "\n",
    "    - 将要转换的格式，在冒号后说明\n",
    "    - 冒号后的顺序是：宽度- -精度\n",
    "    - 如果没有宽度，直接使用  冒号句点号+精度"
   ]
  },
  {
   "cell_type": "code",
   "execution_count": 10,
   "metadata": {},
   "outputs": [
    {
     "name": "stdout",
     "output_type": "stream",
     "text": [
      "weight is      75.42Kg, height is 10101010cm\n"
     ]
    }
   ],
   "source": [
    "# 下面的待替换字符段，设置了宽度10 ，精度小数点后2位，以及二进制\n",
    "message = 'weight is {0:10.2f}Kg, height is {1:b}cm'.format(75.422321,170)\n",
    "print(message)"
   ]
  },
  {
   "cell_type": "code",
   "execution_count": 11,
   "metadata": {},
   "outputs": [
    {
     "name": "stdout",
     "output_type": "stream",
     "text": [
      "1,000,000\n"
     ]
    }
   ],
   "source": [
    "# 使用逗号来添加分隔符\n",
    "num = '{:,}'.format(pow(10,6))\n",
    "print(num)"
   ]
  },
  {
   "cell_type": "markdown",
   "metadata": {},
   "source": [
    "### 宽度、精度、千位分隔符\n",
    "\n",
    "    - 设置浮点数的时候，默认在小数点后显示6位。\n",
    "    \n",
    "    - 可以根据需要设置字段的宽度，而不进行任何形式的填充。\n",
    "    \n",
    "    - 数字设置的宽度，添加的默认在前，字符默认在后，例子见上面\n",
    "    \n",
    "    - 千位分隔符，如果需要添加的话，位置在宽度和精度之间。"
   ]
  },
  {
   "cell_type": "code",
   "execution_count": 24,
   "metadata": {},
   "outputs": [
    {
     "name": "stdout",
     "output_type": "stream",
     "text": [
      "0,000,001,000,000.00\n"
     ]
    }
   ],
   "source": [
    "# 按照顺序，添加的分别是：填充0，宽度20 ，千位分隔符， 精度\n",
    "number1 = '{0:020,.2f}'.format(pow(10,6))\n",
    "print(number1)"
   ]
  },
  {
   "cell_type": "markdown",
   "metadata": {},
   "source": [
    "### 符号\n",
    "\n",
    "    - 符号：设置格式前面，添加空格、加好、减号、零，\n",
    "    - 其中零就是上面的例子，用零填充"
   ]
  },
  {
   "cell_type": "code",
   "execution_count": 38,
   "metadata": {},
   "outputs": [
    {
     "name": "stdout",
     "output_type": "stream",
     "text": [
      "+1,000,000.00\n",
      "                       10,000,000,000.00\n",
      "-   100.00\n",
      "    300.00\n"
     ]
    }
   ],
   "source": [
    "# 分别用加号，空格填充\n",
    "number2 = '{0:+10,.2f}'.format(pow(10,6))\n",
    "print(number2)\n",
    "number3 = '{0: 40,.2f}'.format(pow(10,10))\n",
    "print(number3)\n",
    "number4 = '{0:=10,.2f}'.format(-100)\n",
    "print(number4)\n",
    "number5 = '{0:10,.2f}'.format(300)\n",
    "print(number5)"
   ]
  },
  {
   "cell_type": "markdown",
   "metadata": {},
   "source": [
    "### 对齐\n",
    "\n",
    "    - 左对齐 <\n",
    "    - 右对齐>\n",
    "    - 居中^\n",
    "    - 位置在填充物和宽度之间"
   ]
  },
  {
   "cell_type": "code",
   "execution_count": 43,
   "metadata": {},
   "outputs": [
    {
     "name": "stdout",
     "output_type": "stream",
     "text": [
      "10.00$$$$$$$$$$$$$$$\n",
      "$$$$$$$$$$$$$$$10.00\n",
      "$$$$$$$10.00$$$$$$$$\n"
     ]
    }
   ],
   "source": [
    "number6 = '{0:$<20.2f}'.format(10)\n",
    "print(number6)\n",
    "\n",
    "number6 = '{0:$>20.2f}'.format(10)\n",
    "print(number6)\n",
    "\n",
    "number6 = '{0:$^20.2f}'.format(10)\n",
    "print(number6)"
   ]
  },
  {
   "cell_type": "markdown",
   "metadata": {},
   "source": [
    "## 字符串方法\n",
    "\n",
    "- 字符串的方法很多，大部分是从string模块那里“继承”来的。\n",
    "- 常用方法如下：\n",
    "\n",
    "    - center：居中\n",
    "    - find：查找字符串\n",
    "    - join: 合并\n",
    "    - lower: 小写\n",
    "    - replace：替换\n",
    "    - split：分拆\n",
    "    - strip：消除空格\n",
    "    - translate:替换多个字符\n",
    "    "
   ]
  },
  {
   "cell_type": "markdown",
   "metadata": {},
   "source": [
    "### 字符串方法详解：\n",
    "\n",
    "    - center：通过在字符串两遍添加填充物，让字符串居中。\n",
    "    - 两个参数：第一个是打印出来的宽度，第二个是两遍的填充物"
   ]
  },
  {
   "cell_type": "code",
   "execution_count": 4,
   "metadata": {},
   "outputs": [
    {
     "name": "stdout",
     "output_type": "stream",
     "text": [
      "-------python-------\n"
     ]
    }
   ],
   "source": [
    "a = 'python'.center(20,'-')\n",
    "print(a)"
   ]
  },
  {
   "cell_type": "markdown",
   "metadata": {},
   "source": [
    "    - find：在字符串中查找目标字符串，返回索引，如果有多个相同的，那么返回第一个。\n",
    "        - 有两个参数，第一个是查找的字符串，第二个是起始的索引值，第三个是终止的索引值\n",
    "        - 同切片一样，只包含开头，不包含结尾。\n",
    "    - index:正好相反，它是提供索引值，给你返回要找的元素\n",
    "        - 也可以提供搜索范围"
   ]
  },
  {
   "cell_type": "code",
   "execution_count": 9,
   "metadata": {},
   "outputs": [
    {
     "name": "stdout",
     "output_type": "stream",
     "text": [
      "1\n"
     ]
    }
   ],
   "source": [
    "subject = ' $$$ Get rich now! $$$'\n",
    "b = subject.find('$$$')\n",
    "print(b)"
   ]
  },
  {
   "cell_type": "markdown",
   "metadata": {},
   "source": [
    "    - join：与split相反，用于合并序列的元素。\n",
    "        - 所能合并的，必须是字符串元素"
   ]
  },
  {
   "cell_type": "code",
   "execution_count": 16,
   "metadata": {},
   "outputs": [
    {
     "name": "stdout",
     "output_type": "stream",
     "text": [
      "1 2 3 4 5\n",
      "12345\n",
      "1^2^3^4^5\n"
     ]
    }
   ],
   "source": [
    "seq = ['1','2','3','4','5']\n",
    "sep = ' '\n",
    "seo = ''\n",
    "sei = '^'\n",
    "print(sep.join(seq))\n",
    "print(seo.join(seq))\n",
    "print(sei.join(seq))"
   ]
  },
  {
   "cell_type": "markdown",
   "metadata": {},
   "source": [
    "    - lower:返回字符串的全小写\n",
    "        - title:返回字符串的单词首字母大写\n",
    "        - upper：返回的字符串，字母全大写\n",
    "        - 有时候title不好用，比如let's这种单词的时候，会把S大写\n",
    "            - 这时候就可以引入string模块使用函数capwords\n",
    "            - 具体方法是：string.capwords('待转换的字符串')"
   ]
  },
  {
   "cell_type": "code",
   "execution_count": 19,
   "metadata": {},
   "outputs": [
    {
     "name": "stdout",
     "output_type": "stream",
     "text": [
      "Let's Go!\n"
     ]
    }
   ],
   "source": [
    "# 如果不先导入模块string，则会报错。\n",
    "import string\n",
    "saysh = \"Let's go!\"\n",
    "a = string.capwords(saysh)\n",
    "print(a)"
   ]
  },
  {
   "cell_type": "markdown",
   "metadata": {},
   "source": [
    "    - replace：将制定字符串都换为另外一个。"
   ]
  },
  {
   "cell_type": "code",
   "execution_count": 22,
   "metadata": {},
   "outputs": [
    {
     "data": {
      "text/plain": [
       "'It was a test'"
      ]
     },
     "execution_count": 22,
     "metadata": {},
     "output_type": "execute_result"
    }
   ],
   "source": [
    "'It is a test'.replace('is','was')"
   ]
  },
  {
   "cell_type": "markdown",
   "metadata": {},
   "source": [
    "    - split:将字符串，分拆为 序列\n",
    "        - 如果字符串有分隔符，从分隔符出分拆\n",
    "        - 如果没有，将默认在单个或者多个连续的空白字符出拆分\n"
   ]
  },
  {
   "cell_type": "code",
   "execution_count": 26,
   "metadata": {},
   "outputs": [
    {
     "name": "stdout",
     "output_type": "stream",
     "text": [
      "['1', '2', '3', '4', '5']\n",
      "['I', 'love', 'python']\n"
     ]
    }
   ],
   "source": [
    "a = '1=2=3=4=5'\n",
    "print(a.split('='))\n",
    "b = 'I love python'\n",
    "print(b.split())"
   ]
  },
  {
   "cell_type": "markdown",
   "metadata": {},
   "source": [
    "    - strip:将字符串开头和结尾的空白删除，不包括中间的。\n",
    "        - 可以在参数中指定要删除的元素。\n",
    "        - 以上指定的要删除的元素的顺序，没有影响"
   ]
  },
  {
   "cell_type": "code",
   "execution_count": 30,
   "metadata": {},
   "outputs": [
    {
     "name": "stdout",
     "output_type": "stream",
     "text": [
      "SPAM * for * everyone\n"
     ]
    }
   ],
   "source": [
    "a1 = '*** SPAM * for * everyone!!! ***'\n",
    "print(a1.strip(' *!'))"
   ]
  },
  {
   "cell_type": "markdown",
   "metadata": {},
   "source": [
    "    - translate：只能进行单字符串替换，但是可以同时进行很多个。\n",
    "        - 必须先调用字符串方法：str.maketrans()\n",
    "        - 还有第三个参数，指定要将哪些字母删除。\n",
    "        \n",
    "        - 还可以替换汉字\n",
    "        \n",
    "        - 替换的元素之间的长度必须相等。\n",
    "  "
   ]
  },
  {
   "cell_type": "code",
   "execution_count": 42,
   "metadata": {},
   "outputs": [
    {
     "name": "stdout",
     "output_type": "stream",
     "text": [
      "{72: 84}\n",
      "Tere is my ticket\n"
     ]
    }
   ],
   "source": [
    "words = 'Here is my ticket'\n",
    "table = words.maketrans('H','T')\n",
    "words.translate(table)\n",
    "print(table)\n",
    "print(words.translate(table))"
   ]
  },
  {
   "cell_type": "markdown",
   "metadata": {},
   "source": [
    "    - 判断字符串是否满足特定的条件：\n",
    "        - 有很多方法，都是以is开头的\n",
    "        - isdigit、isspace、isupper等等，返回值都是布尔值"
   ]
  }
 ],
 "metadata": {
  "kernelspec": {
   "display_name": "Python 3",
   "language": "python",
   "name": "python3"
  },
  "language_info": {
   "codemirror_mode": {
    "name": "ipython",
    "version": 3
   },
   "file_extension": ".py",
   "mimetype": "text/x-python",
   "name": "python",
   "nbconvert_exporter": "python",
   "pygments_lexer": "ipython3",
   "version": "3.6.3"
  }
 },
 "nbformat": 4,
 "nbformat_minor": 2
}
