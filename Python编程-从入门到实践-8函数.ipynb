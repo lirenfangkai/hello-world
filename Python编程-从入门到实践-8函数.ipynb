{
 "cells": [
  {
   "cell_type": "markdown",
   "metadata": {},
   "source": [
    "# 函数\n",
    "\n",
    "    - 函数概述:\n",
    "        - 用来完成特定任务的代码,可通过函数名进行调用,是编程最基本的单位.\n",
    "        - 反复执行相同的任务,只需反复调用即可, 无须反复编写代码.\n",
    "    - 本章内容结构:\n",
    "        - 定义函数\n",
    "        - 传递实参\n",
    "        - 返回值\n",
    "        - 传递列表\n",
    "        - 传递任意数量的实参\n",
    "        - 将函数存储在模块中"
   ]
  },
  {
   "cell_type": "markdown",
   "metadata": {},
   "source": [
    "## 8.1 定义函数\n",
    "\n",
    "    - 语法:\n",
    "            def functionname():\n",
    "                代码\n",
    "                代码\n",
    "                ....\n",
    "        - 关键字 def 告诉python 你要定义一个函数\n",
    "        - 只是定义函数, 并不会执行任何操作.\n",
    "        - 后面的冒号不能少\n",
    "        - 括号里参数不强制.\n",
    "    - 调用函数:\n",
    "    \n",
    "            functionname()\n",
    "        - 函数并非总是直接显示输出, 纵然也有执行结果.\n",
    "        - 没直接显示的输出,可以用return 将值返回到调用函数的位置.\n",
    "        \n",
    "    - 参数:\n",
    "        - 函数执行时,需要的数据,都可以通过参数传递给它. 在函数定义时括号内的是形参,调用时赋的值是实参.\n",
    "    \n",
    "    - 参数分类:\n",
    "        - 位置参数: 在定义阶段和调用函数阶段,参数按照位置一一对应.\n",
    "        - 关键字参数: 在定义和调用阶段, 使用关键字来绑定参数.\n",
    "        - 默认参数: 在定义阶段参数有默认值, 在调用时 如果没有重新赋值, 则使用默认值.\n",
    "        - 其他参数:参数可以是列表,可以是字典.\n",
    "                - 列表类型的形参: *args\n",
    "                - 字典类型的形参: **args, 在调用的时候, 是键值对的形式,\n",
    "                    -  for key,value in **args:\n",
    "    "
   ]
  },
  {
   "cell_type": "code",
   "execution_count": 5,
   "metadata": {},
   "outputs": [
    {
     "name": "stdout",
     "output_type": "stream",
     "text": [
      "我的宠物叫:阿飞\n",
      "它是一只:小狗\n",
      "\n",
      "我的宠物叫:咪咪\n",
      "它是一只:猫\n",
      "\n"
     ]
    }
   ],
   "source": [
    "# 默认参数的实例\n",
    "def animal_message(animal_name,animal_type = '小狗'):\n",
    "    print(\"我的宠物叫:\" + animal_name)\n",
    "    print(\"它是一只:\" + animal_type + '\\n')\n",
    "\n",
    "# 在定义的时候,有默认参数,调用的时候如果不给这个参数赋值, 则使用默认值\n",
    "animal_message('阿飞')\n",
    "animal_message('咪咪','猫')"
   ]
  },
  {
   "cell_type": "markdown",
   "metadata": {},
   "source": [
    "### 如何让参数变成可选的\n",
    "\n",
    "        - 定义的时候,形参中的某一个,想让它在调用的时候, 有选择的使用它\n",
    "        - 对可能会可选的形参使用默认值,并且把默认值指定为空字符串\n",
    "        - 然后使用if 语句做条件判断\n",
    "            - Python将空字符串解读为 False\n",
    "            - 非空字符串解读为 True\n",
    "            \n",
    "        - 可选参数也是默认参数的一种, 但是注意 一定要放在最后"
   ]
  },
  {
   "cell_type": "code",
   "execution_count": 15,
   "metadata": {},
   "outputs": [
    {
     "name": "stdout",
     "output_type": "stream",
     "text": [
      "王 力宏\n"
     ]
    }
   ],
   "source": [
    "def get_name(first_name,last_name,middle_name=''):\n",
    "    if middle_name:\n",
    "        fullname = first_name + \" \" + middle_name + \" \" + last_name\n",
    "    else:\n",
    "        fullname = first_name + ' ' + last_name\n",
    "        \n",
    "    return fullname\n",
    "    \n",
    "# 这里注意一点, 定义的时候,把可选参数放在最后\n",
    "name = get_name(first_name='王',last_name='力宏')\n",
    "print(name)"
   ]
  },
  {
   "cell_type": "markdown",
   "metadata": {},
   "source": [
    "### 返回值\n",
    "\n",
    "    - 上面的例子就说明了, 函数并非总是直接显示输出.\n",
    "    - 可以改一下上面的代码,让函数直接显示,但是有时候程序中不需要强行显示\n",
    "    - 这时候可以使用return 来将值返回到调用函数的代码行."
   ]
  },
  {
   "cell_type": "code",
   "execution_count": 24,
   "metadata": {},
   "outputs": [
    {
     "name": "stdout",
     "output_type": "stream",
     "text": [
      "王 力宏\n",
      "李 建 国\n"
     ]
    }
   ],
   "source": [
    "def get_name(first_name,last_name,middle_name=''):\n",
    "    if middle_name:\n",
    "        fullname = first_name + \" \" + middle_name + \" \" + last_name\n",
    "    else:\n",
    "        fullname = first_name + ' ' + last_name\n",
    "        \n",
    "    print(fullname)\n",
    "    \n",
    "# 这里注意一点, 定义的时候,把可选参数放在最后\n",
    "get_name(first_name='王',last_name='力宏')\n",
    "get_name('李','国','建')"
   ]
  },
  {
   "cell_type": "markdown",
   "metadata": {},
   "source": [
    "#### 返回字典\n",
    "\n",
    "    - 函数可返回任何类型的值.包括字典列表等复杂的数据结构.\n",
    "    "
   ]
  },
  {
   "cell_type": "code",
   "execution_count": 23,
   "metadata": {},
   "outputs": [
    {
     "name": "stdout",
     "output_type": "stream",
     "text": [
      "{'firstname': '李', 'lastnaem': '凯'}\n",
      "{'firstname': '张', 'lastnaem': '三', 'age': 8}\n"
     ]
    }
   ],
   "source": [
    "def get_name(first_name,last_name,age=''):\n",
    "    msg = {}\n",
    "    if age:\n",
    "        msg['firstname'] = first_name\n",
    "        msg['lastnaem'] = last_name\n",
    "        msg['age'] = age\n",
    "        print(msg)\n",
    "    else:\n",
    "        msg['firstname'] = first_name\n",
    "        msg['lastnaem'] = last_name\n",
    "        print(msg)\n",
    "        \n",
    "    \n",
    "get_name('李','凯')\n",
    "get_name('张','三', 8)"
   ]
  },
  {
   "cell_type": "markdown",
   "metadata": {
    "collapsed": true
   },
   "source": [
    "## 向函数传递列表及在函数中修改列表、禁止修改列表\n",
    "\n",
    "    - 向函数传递列表，是将列表做为参数传递给函数，这也说明了 函数的参数可以是多种类型数值\n",
    "    - 函数对列表的所有修改都是永久性的， 所以要禁止修改列表，在函数的操作中，使用切片。"
   ]
  },
  {
   "cell_type": "code",
   "execution_count": 4,
   "metadata": {},
   "outputs": [
    {
     "name": "stdout",
     "output_type": "stream",
     "text": [
      "你好： 张\n",
      "你好： 王\n",
      "你好： 李\n"
     ]
    }
   ],
   "source": [
    "def greet_users(names):\n",
    "    for name in names:\n",
    "        print('你好： ' + name)\n",
    "        \n",
    "names = ['张','王','李']\n",
    "greet_users(names)"
   ]
  },
  {
   "cell_type": "code",
   "execution_count": 10,
   "metadata": {},
   "outputs": [
    {
     "name": "stdout",
     "output_type": "stream",
     "text": [
      "已打印的手机：\n",
      "['三星', '华为', '苹果']\n"
     ]
    }
   ],
   "source": [
    "# 下面的代码 是在不使用函数的情况下， 将未打印的列表中的元素，打印后移到另外一个列表。\n",
    "unprinted_phones = ['苹果','华为','三星']\n",
    "printed_phones = []\n",
    "while unprinted_phones:\n",
    "    phone = unprinted_phones.pop()\n",
    "    printed_phones.append(phone)\n",
    "    \n",
    "print('已打印的手机：')\n",
    "print(printed_phones)\n"
   ]
  },
  {
   "cell_type": "code",
   "execution_count": 1,
   "metadata": {},
   "outputs": [
    {
     "name": "stdout",
     "output_type": "stream",
     "text": [
      "['三星', '华为', '苹果']\n",
      "['苹果', '华为', '三星']\n"
     ]
    }
   ],
   "source": [
    "# 可以使用函数去操作，但是最后，不能清空未打印的列表。使用切片去操作\n",
    "def print_phone(unprinted_phones,printed_phones):\n",
    "    while unprinted_phones:\n",
    "        # 将列表中的 手机拿出来打印\n",
    "        phone = unprinted_phones.pop()\n",
    "        # 再将打印好的手机存入另外一个列表\n",
    "        printed_phones.append(phone)\n",
    "        \n",
    "    return printed_phones\n",
    "\n",
    "unprinted_phones = ['苹果','华为','三星']\n",
    "printed_phones = []\n",
    "a = print_phone(unprinted_phones[:],printed_phones)\n",
    "print(a)\n",
    "print(unprinted_phones)"
   ]
  },
  {
   "cell_type": "markdown",
   "metadata": {},
   "source": [
    "### 传递数量未知的参数\n",
    "\n",
    "    - 使用形参前加*，来创建一个空元组，并将所有收集到的值都存储在这个元组中，然后通过元组去调用\n",
    "    - 语法： def function(*args):\n",
    "    - 在调用的时候，就可以放进去很多参数。\n",
    "    - \n",
    "    - 这个方法还可以结合位置参数，但是*args 需要放在参数的最后。\n",
    "    - 接受任意数量的关键字参数，关键字参数的格式是 变量=值，是键值对的形式，在函数内使用字典。语法： **args"
   ]
  },
  {
   "cell_type": "code",
   "execution_count": 3,
   "metadata": {},
   "outputs": [
    {
     "name": "stdout",
     "output_type": "stream",
     "text": [
      "制作pizza的原料有：\n",
      "芝士\n",
      "\n",
      "制作pizza的原料有：\n",
      "培根\n",
      "\n",
      "水果\n",
      "\n"
     ]
    }
   ],
   "source": [
    "# 任意数量的参数\n",
    "def make_pizza(*args):\n",
    "    print(\"制作pizza的原料有：\")\n",
    "    for i in args:\n",
    "        print(i + '\\n')\n",
    "make_pizza('芝士')\n",
    "make_pizza('培根','水果')"
   ]
  },
  {
   "cell_type": "code",
   "execution_count": 7,
   "metadata": {},
   "outputs": [
    {
     "name": "stdout",
     "output_type": "stream",
     "text": [
      "{'first_name': '李', 'last_name': '凯', 'job': '程序员', 'location': '合肥'}\n"
     ]
    }
   ],
   "source": [
    "def build_message(first,last,**args):\n",
    "    message = {}\n",
    "    message['first_name'] = first\n",
    "    message['last_name'] = last\n",
    "    for k,v in args.items():\n",
    "        message[k] = v\n",
    "    return message\n",
    "\n",
    "a = build_message('李','凯',job='程序员',location='合肥')\n",
    "print(a)"
   ]
  },
  {
   "cell_type": "markdown",
   "metadata": {},
   "source": [
    "### 函数存储在模块中\n",
    "\n",
    "    - 使用import 模块名，来允许在当前的程序中使用模块中的 所有函数\n",
    "    - 使用导入的模块中的函数的方法：\n",
    "                    \n",
    "                        - 模块名.模块中要使用的函数名（参数）\n",
    "                        - 可以使用上面的方式，调用导入的模块中的 所有函数\n",
    "                        \n",
    "    - 使用导入中的特定函数： from 模块名 import 函数名  或者使用特定数量的函数： from 模块名 import 函数,函数,函数\n",
    "    - 后一种方法导入的函数， 在使用的时候， 就不需要使用模块名.函数名 来使用了，可以直接使用函数\n",
    "    - \n",
    "    - 使用as 给函数指定别名。\n",
    "            - 如果你要导入的函数可能与程序中的现有名称冲突，或者函数名字太长，可以 指定一个别名来代替。\n",
    "            - 还可以使用as来给模块指定别名。\n",
    "            "
   ]
  },
  {
   "cell_type": "code",
   "execution_count": null,
   "metadata": {
    "collapsed": true
   },
   "outputs": [],
   "source": [
    "# 模块名：pizza ，里面有函数 make_pizza  \n",
    "# 调用函数\n",
    "import pizza\n",
    "\n",
    "pizza.make_pizza(实参1，实参2)\n",
    "\n",
    "# 模块 food 中有函数： make_cake  make_bread 。。。。。。\n",
    "# 一个模块中有多个函数，导入几种函数的方法：\n",
    "from food import make_cake,make_bread\n",
    "make_cake(实参1, 实参2)  # 使用这种方法， 就不需要使用 句点号，因为已经指定了 函数名\n",
    "\n",
    "# 如果在导入函数时，此时有重名函数，可以使用 as 指定别名\n",
    "\n",
    "from food import make_cake as mc\n",
    "mc(实参1,实参2)\n",
    "\n",
    "\n",
    "# 还可以给模块指定别名 \n",
    "import food as fd"
   ]
  }
 ],
 "metadata": {
  "kernelspec": {
   "display_name": "Python 3",
   "language": "python",
   "name": "python3"
  },
  "language_info": {
   "codemirror_mode": {
    "name": "ipython",
    "version": 3
   },
   "file_extension": ".py",
   "mimetype": "text/x-python",
   "name": "python",
   "nbconvert_exporter": "python",
   "pygments_lexer": "ipython3",
   "version": "3.6.3"
  }
 },
 "nbformat": 4,
 "nbformat_minor": 2
}
