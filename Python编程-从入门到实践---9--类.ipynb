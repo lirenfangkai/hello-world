{
 "cells": [
  {
   "cell_type": "markdown",
   "metadata": {},
   "source": [
    "# 9 类\n",
    "\n",
    "### 9.1 类的定义\n",
    "    - 类中包含 类的属性，类的方法\n",
    "    - 使用类，叫实例化，实例化的类叫对象。\n",
    "    \n",
    "### 类的结构：\n",
    "\n",
    "    - class People():  # 这里是定义类，类的首字母要大写\n",
    "        \n",
    "        def __init__(self,name,age) # 初始化类的属性\n",
    "            self.name = name    # 将属性赋予类中的所有方法去使用\n",
    "            self.age = age\n",
    "            \n",
    "        def work(self):        # 方法的参数只需要一个self 即可以使用类的所有属性\n",
    "            语句块\n",
    "            \n",
    "        def work2(self)：\n",
    "            语句块\n",
    "           \n",
    "           \n",
    "### 9.2 类的实例化：\n",
    "\n",
    "    - student = People('John',18)  这样就实例化了一个类\n",
    "    - 访问类的属性： student.name   \n",
    "                student.age\n",
    "                \n",
    "    - 调用类的方法：\n",
    "            - student.work()"
   ]
  },
  {
   "cell_type": "code",
   "execution_count": 32,
   "metadata": {},
   "outputs": [
    {
     "name": "stdout",
     "output_type": "stream",
     "text": [
      "audi A4 2016\n",
      "40\n",
      "this car has 40 miles.\n"
     ]
    }
   ],
   "source": [
    "class Car():\n",
    "    \n",
    "    def __init__(self,make,car_type,year):\n",
    "        # 后面在做 类的实例化作为参数遇到的问题，这里展开分析一下，QQ群里请教的别人告诉我的。\n",
    "        # 在__init__里 你给属性 赋上默认值的话，在__init__后面的括号里就不要提供初始值的形参了。\n",
    "        # 如果没有默认值的话，需要再括号里提供 提供初始的形参，初始值在哪里呢？ 这时候默认是 null \n",
    "        self.make = make\n",
    "        self.car_type = car_type\n",
    "        self.year = year\n",
    "        self.odometer_reading = 0  # 设置默认值时，如果在__init__内指定初始值，则不需要包含形参。\n",
    "        \n",
    "    def get_describe(self):\n",
    "        print(self.make + \" \" + self.car_type + \" \" + str(self.year))\n",
    "        \n",
    "    def read_odometer(self):\n",
    "        print(\"this car has \" + str(self.odometer_reading) +  ' miles.')\n",
    "        \n",
    "my_car = Car('audi','A4',2016)\n",
    "my_car.get_describe()  # 调用类的方法时 ，因为用的是类的参数，所以不需要参数，如果是在类中初始化的属性，则需要参数，见下面的例子\n",
    "my_car.odometer_reading = 40 # 修改类的属性，或者对类的属性赋值，直接使用对象.属性即可，运行时，python会自动使用self初始化属性\n",
    "print(my_car.odometer_reading) # \n",
    "my_car.read_odometer() "
   ]
  },
  {
   "cell_type": "markdown",
   "metadata": {},
   "source": [
    "#### 备注：\n",
    "\n",
    "    - 修改属性的方法：\n",
    "        - 在初始化属性是__init__是形参的情况下，实例化以后，可以使用访问属性的形式去修改，称为直接修改\n",
    "        - 可以在类的方法中去使用方法去修改属性，见下面的例子\n",
    "        - "
   ]
  },
  {
   "cell_type": "code",
   "execution_count": 21,
   "metadata": {},
   "outputs": [
    {
     "name": "stdout",
     "output_type": "stream",
     "text": [
      "this car has 200 miles.\n"
     ]
    }
   ],
   "source": [
    "class Car():\n",
    "    \n",
    "    def __init__(self,make,car_type,year):\n",
    "        self.make = make\n",
    "        self.car_type = car_type\n",
    "        self.year = year\n",
    "        self.odometer_reading = 10\n",
    "        \n",
    "    def get_describe(self):\n",
    "        print(self.make + \" \" + self.car_type + \" \" + str(self.year))\n",
    "        \n",
    "    def read_odometer(self):\n",
    "        print(\"this car has \" + str(self.odometer_reading) +  ' miles.')\n",
    "    \n",
    "    # 使用方法去修改属性的值，方法的参数有一个进行传递的变量，它接受传递的修改的值\n",
    "    def update_odometer(self,mileage):\n",
    "        self.odometer_reading = mileage \n",
    "        \n",
    "my_newcar = Car('吉利','缤越',2018)\n",
    "my_newcar.update_odometer(200)     # 调用方法，传递实参，因为 mileage不是类的参数。\n",
    "my_newcar.read_odometer()\n"
   ]
  },
  {
   "cell_type": "code",
   "execution_count": 32,
   "metadata": {},
   "outputs": [
    {
     "name": "stdout",
     "output_type": "stream",
     "text": [
      "斯柯达 明锐 2012\n",
      "The car has 10 miles.\n",
      "The car has 119763 miles.\n"
     ]
    }
   ],
   "source": [
    "class Car():\n",
    "    \n",
    "    def __init__(self,make,car_type,year):\n",
    "        self.make = make\n",
    "        self.car_type = car_type\n",
    "        self.year = year\n",
    "        self.odometer_reading = 10\n",
    "        \n",
    "    def get_describe(self):\n",
    "        print(self.make + \" \" + self.car_type + \" \" + str(self.year))\n",
    "        \n",
    "    def read_odometer(self):\n",
    "        print(\"The car has \" + str(self.odometer_reading) +  ' miles.')\n",
    "    \n",
    "    # 使用方法去修改属性的值，方法的参数有一个进行传递的变量，它接受传递的修改的值\n",
    "    def update_odometer(self,mileage):\n",
    "        if mileage > self.odometer_reading:  # 在类中的所有参数，必须要用self.参数。\n",
    "            self.odometer_reading = mileage\n",
    "        else:\n",
    "            print('不能回调里程表')\n",
    "            \n",
    "my_oldcar = Car('斯柯达','明锐',2012)\n",
    "my_oldcar.get_describe()\n",
    "my_oldcar.read_odometer()\n",
    "my_oldcar.update_odometer(119763)     # 调用方法，传递实参，因为 mileage不是类的参数。\n",
    "my_oldcar.read_odometer()"
   ]
  },
  {
   "cell_type": "markdown",
   "metadata": {},
   "source": [
    "### 9.3  类的继承\n",
    "\n",
    "    - 一个类继承另一个类，自动获得另一个类的所有属性和方法；原来的类称为：父类，新类称为：子类。\n",
    "    - 子类继承的父类的属性和方法，同时还可以定义自己的属性和方法。\n",
    "    - 创建子类的实例时，Python首先需要给父类的所有属性赋值。\n",
    "    - 继承时，子类在定义时，括号内 要添加父类的名称。"
   ]
  },
  {
   "cell_type": "code",
   "execution_count": 1,
   "metadata": {},
   "outputs": [
    {
     "name": "stdout",
     "output_type": "stream",
     "text": [
      "the batterr is 70Kwh.\n",
      "这是一辆电动车\n",
      "the batterr is 80Kwh.\n",
      "吉利 缤越 2018\n"
     ]
    }
   ],
   "source": [
    "class Car():\n",
    "    \n",
    "    def __init__(self,make,car_type,year):\n",
    "        self.make = make\n",
    "        self.car_type = car_type\n",
    "        self.year = year\n",
    "        self.odometer_reading = 10 \n",
    "        \n",
    "    def get_describe(self):\n",
    "        print(self.make + \" \" + self.car_type + \" \" + str(self.year))\n",
    "        \n",
    "class Electric(Car):\n",
    "    \n",
    "    def __init__(self,make,car_type,year):\n",
    "        super().__init__(make,car_type,year)\n",
    "        self.battery = 70  # 给子类添加属性的方法跟父类一样，包括修改属性\n",
    "        \n",
    "    def get_batterysize(self):\n",
    "        print( 'the batterr is ' + str(self.battery) + 'Kwh.')\n",
    "        \n",
    "    def get_describe(self):\n",
    "        print(\"这是一辆电动车\")\n",
    "        \n",
    "my_tesla = Electric('Tesla','model X',2018)\n",
    "my_tesla.get_batterysize() #使用子类自己的方法\n",
    "my_tesla.get_describe()   # 调用父类的方法，并重写\n",
    "my_tesla.battery = 80\n",
    "my_tesla.get_batterysize()\n",
    "\n",
    "my_car = Car('吉利','缤越',2018)\n",
    "my_car.get_describe()"
   ]
  },
  {
   "cell_type": "markdown",
   "metadata": {},
   "source": [
    "### 9.31 将实例作为属性\n",
    "\n",
    "    - 使用代码模拟实物时，需要添加的细节越来越多，属性和方法清单都越来越长，这时候可以将类的一部分作为一个独立的类提取出来。\n",
    "    "
   ]
  },
  {
   "cell_type": "code",
   "execution_count": 29,
   "metadata": {},
   "outputs": [
    {
     "name": "stdout",
     "output_type": "stream",
     "text": [
      "2016 Tesla Model S\n",
      "This car has a 70-Kwh battery.\n",
      "This car gan go to  240 miles on a full charge \n"
     ]
    }
   ],
   "source": [
    "\"\"\"\n",
    "创建一个总的车子的类\n",
    "\"\"\"\n",
    "class Car():\n",
    "    \n",
    "    def __init__(self,make,model,year):\n",
    "        self.make = make\n",
    "        self.model = model\n",
    "        self.year = year\n",
    "        self.odometer_reading = 0\n",
    "        \n",
    "    def get_descriptive_name(self):\n",
    "        long_name = str(self.year) + ' ' + self.make + \" \" + self.model\n",
    "        return long_name.title()\n",
    "    \n",
    "    def read_odometer(self):\n",
    "        print(\"This car has \" + str(self.odometer_reading) + \" miles on it.\")\n",
    "        \n",
    "    def update_odometer(self,mileage):\n",
    "        if self.odometer_reading > mileage:\n",
    "            self.odometer_reading = mileage\n",
    "        else:\n",
    "            print(\"You can`t roll back an odometer.\")\n",
    "            \n",
    "    def increment_odometer(self,miles):\n",
    "        self.odometer_reading += miles\n",
    "        \n",
    "        \n",
    "\"\"\"\n",
    "创建一个电动车的类\n",
    "\"\"\"      \n",
    "class ElectricCar(Car):\n",
    "    \n",
    "    def __init__(self,make,model,year):\n",
    "        super().__init__(make,model,year)\n",
    "        self.battery_size = 70\n",
    "        \n",
    "    def describe_battery(self):\n",
    "        print(\"This car has a \" + str(self.battery_size) + \"-Kwh battery.\")\n",
    "        \n",
    "    def get_range(self):\n",
    "        \n",
    "        if self.battery_size == 70:\n",
    "            range = 240\n",
    "        elif self.battery_size == 80:\n",
    "            range = 300\n",
    "            \n",
    "        print(\"This car gan go to  \" + str(range) + \" miles on a full charge \")\n",
    "        \n",
    "    \n",
    "\n",
    "        \n",
    "my_ecar = ElectricCar('tesla','model S',2016)\n",
    "a = my_ecar.get_descriptive_name()\n",
    "print(a)\n",
    "my_ecar.describe_battery()\n",
    "my_ecar.get_range()\n",
    "    \n",
    "    "
   ]
  },
  {
   "cell_type": "code",
   "execution_count": 35,
   "metadata": {
    "scrolled": true
   },
   "outputs": [
    {
     "name": "stdout",
     "output_type": "stream",
     "text": [
      "This car can go approximately 240 miles on a full charge.\n",
      "model X\n"
     ]
    }
   ],
   "source": [
    "#  实例作为属性\n",
    "\n",
    "class Car():\n",
    "    \"\"\"定义一个车子的类，这是一个总的类，描述车这个总类的一些情况\"\"\"\n",
    "    \n",
    "    # 初始化车子的属性，调用self，以便下面的方法使用属性，在类内部，所有属性都是self. 开头\n",
    "    def __init__(self,make,model,year):\n",
    "        self.make = make\n",
    "        self.model = model\n",
    "        self.year = year\n",
    "        self.odometer_reading = 0\n",
    "        \n",
    "    def get_descriptive_name(self):\n",
    "        long_name = str(self.year) + ' ' + self.make + \" \" + self.model\n",
    "        return long_name.title()\n",
    "    \n",
    "    def read_odometer(self):\n",
    "        print(\"This car has \" + str(self.odometer_reading) + \" miles on it.\")\n",
    "        \n",
    "    def update_odometer(self,mileage):\n",
    "        if self.odometer_reading > mileage:\n",
    "            self.odometer_reading = mileage\n",
    "        else:\n",
    "            print(\"You can`t roll back an odometer.\")\n",
    "            \n",
    "    def increment_odometer(self,miles):\n",
    "        self.odometer_reading += miles\n",
    "        \n",
    "        \n",
    "    \n",
    "class Battery():\n",
    "    \n",
    "    def __init__(self,battery_size=70):\n",
    "        self.battery_size = battery_size\n",
    "        \n",
    "    def describe_battery(self):\n",
    "        print(\"This car has a \" + str(self.battery_size) + \"-Kwh battery.\")\n",
    "        \n",
    "    def get_range(self):\n",
    "        if self.battery_size == 70:\n",
    "            range =240\n",
    "        elif self.battery_size == 85:\n",
    "            range = 270\n",
    "            \n",
    "        message = \"This car can go approximately \" + str(range) + \" miles on a full charge.\"\n",
    "        print(message)\n",
    "\n",
    "        \n",
    "# def get_range(self):\n",
    "        \n",
    "      # if self.battery_size == 70:\n",
    "         #   range = 240\n",
    "      #  elif self.battery_size == 80:\n",
    "         #   range = 300\n",
    "            \n",
    "     #   print(\"This car gan go to  \" + str(range) + \" miles on a full charge \")\n",
    "        \n",
    "# 将上面的代码做成一个类，然后实例化作为一个属性 ，放到ElectricCar  中来引用。\n",
    "class ElectricCar(Car):\n",
    "    \n",
    "    def __init__(self,make,model,year):\n",
    "        \n",
    "        super().__init__(make,model,year)\n",
    "        self.battery = Battery()   # 这行代码让Python创建一个 battery 的属性 。这就是将实例作为属性\n",
    "        # 将实例作为属性的时候，每个Electric 的实例， 都包含一个自动创建的 Battery 实例\n",
    "        \n",
    "my_tesla = ElectricCar('tesla','model X',2016)\n",
    "my_tesla.battery.get_range()   # 为什么这里在调用方法的时候，中间要加一个battery？\n",
    "# 首先 battery 是一个属性，实例my_tesla 要访问这个属性，my_tesla.battery 这样的用法没毛病\n",
    "# 但是这个属性的值来自于一个类实例中的一个方法，因此后面需要加一个类的方法。\n",
    "# 获取属性的值，来自于实例化属性中的 一个方法，这个方法有值，或者叫返回值。像类本身的属性，没有返回值的调用，就需要用print 函数来实现\n",
    "print(my_tesla.model)"
   ]
  },
  {
   "cell_type": "code",
   "execution_count": null,
   "metadata": {
    "collapsed": true
   },
   "outputs": [],
   "source": []
  },
  {
   "cell_type": "markdown",
   "metadata": {},
   "source": [
    "## 9.4 导入类\n",
    "\n",
    "    - 随着代码的增多，程序结构的增大，在一个主程序中写过多的代码会显得很凌乱，臃肿，不易于阅读代码\n",
    "    - 可以把某些功能做成类，做一个单独的模块，然后引入这个类，这样会让主程序结构情绪易懂。\n",
    "    - 导入类的方法：\n",
    "                - from 模块名 import 类名\n",
    "                    - 这样就相当于在这里有一个类，但是所有代码隐藏起来了。\n",
    "                - "
   ]
  },
  {
   "cell_type": "code",
   "execution_count": 39,
   "metadata": {},
   "outputs": [
    {
     "ename": "ModuleNotFoundError",
     "evalue": "No module named 'car'",
     "output_type": "error",
     "traceback": [
      "\u001b[1;31m---------------------------------------------------------------------------\u001b[0m",
      "\u001b[1;31mModuleNotFoundError\u001b[0m                       Traceback (most recent call last)",
      "\u001b[1;32m<ipython-input-39-6a738b8671f6>\u001b[0m in \u001b[0;36m<module>\u001b[1;34m()\u001b[0m\n\u001b[0;32m      1\u001b[0m \u001b[1;31m# 导入类\u001b[0m\u001b[1;33m\u001b[0m\u001b[1;33m\u001b[0m\u001b[0m\n\u001b[1;32m----> 2\u001b[1;33m \u001b[1;32mfrom\u001b[0m \u001b[0mcar\u001b[0m \u001b[1;32mimport\u001b[0m \u001b[0mCar\u001b[0m\u001b[1;33m\u001b[0m\u001b[0m\n\u001b[0m\u001b[0;32m      3\u001b[0m \u001b[1;33m\u001b[0m\u001b[0m\n\u001b[0;32m      4\u001b[0m \u001b[0mmy_new_car\u001b[0m \u001b[1;33m=\u001b[0m \u001b[0mCar\u001b[0m\u001b[1;33m(\u001b[0m\u001b[1;34m'tesla'\u001b[0m\u001b[1;33m,\u001b[0m\u001b[1;34m'model S'\u001b[0m\u001b[1;33m,\u001b[0m\u001b[1;36m2016\u001b[0m\u001b[1;33m)\u001b[0m\u001b[1;33m\u001b[0m\u001b[0m\n",
      "\u001b[1;31mModuleNotFoundError\u001b[0m: No module named 'car'"
     ]
    }
   ],
   "source": [
    "# 导入类\n",
    "from car import Car  #  import 是让Python打开模块car ，然后导入其中的Car类。\n",
    "\n",
    "my_new_car = Car('tesla','model S',2016)\n"
   ]
  },
  {
   "cell_type": "code",
   "execution_count": null,
   "metadata": {
    "collapsed": true
   },
   "outputs": [],
   "source": [
    "# 从一个模块中导入多个类\n",
    "from car import Car,ElectricCar"
   ]
  },
  {
   "cell_type": "code",
   "execution_count": null,
   "metadata": {
    "collapsed": true
   },
   "outputs": [],
   "source": [
    "# 导入整个模块\n",
    "import car"
   ]
  },
  {
   "cell_type": "code",
   "execution_count": null,
   "metadata": {
    "collapsed": true
   },
   "outputs": [],
   "source": [
    "# 在一个模块中导入另一个模块\n",
    "# 好几个模块，其中一个模块中的类依赖另个一个模块\n",
    "# 那么在这个模块的最上面要有引入， \n",
    "from car import Car\n",
    "\n",
    "class ElectricCar():\n",
    "    "
   ]
  }
 ],
 "metadata": {
  "kernelspec": {
   "display_name": "Python 3",
   "language": "python",
   "name": "python3"
  },
  "language_info": {
   "codemirror_mode": {
    "name": "ipython",
    "version": 3
   },
   "file_extension": ".py",
   "mimetype": "text/x-python",
   "name": "python",
   "nbconvert_exporter": "python",
   "pygments_lexer": "ipython3",
   "version": "3.6.3"
  }
 },
 "nbformat": 4,
 "nbformat_minor": 2
}
