{
 "cells": [
  {
   "cell_type": "markdown",
   "metadata": {
    "collapsed": true
   },
   "source": [
    "# 常用模块\n",
    "\n",
    "- calendar\n",
    "- time\n",
    "- datetime\n",
    "- timeit\n",
    "- os\n",
    "- shutil\n",
    "- zip\n",
    "- math\n",
    "- string\n",
    "- 上述所有模块，在使用时理论上都应该先导入，string是特例\n",
    "- calendar，time，datetime 的区别参考中文翻译\n",
    "    - calendar 日历，年历，月历\n",
    "    - time  时间（貌似只关注时间）\n",
    "    - datetime 日期时间（同事关注时间和日期）"
   ]
  },
  {
   "cell_type": "markdown",
   "metadata": {},
   "source": [
    "## calendar 模块\n",
    "\n",
    "- 跟日历相关的模块\n",
    "- 使用前需要导入\n",
    "- 获取一年的日历字符串\n",
    "- 三个参数：\n",
    "    - w : 每个日期之间的间隔字符数\n",
    "    - l ：每周所占的行数\n",
    "    - c ：每个月之间间隔的字符数"
   ]
  },
  {
   "cell_type": "markdown",
   "metadata": {},
   "source": [
    "### calendar模块之calendar"
   ]
  },
  {
   "cell_type": "code",
   "execution_count": 12,
   "metadata": {},
   "outputs": [
    {
     "name": "stdout",
     "output_type": "stream",
     "text": [
      "                                      2018\n",
      "\n",
      "      January                       February                       March\n",
      "Mo Tu We Th Fr Sa Su          Mo Tu We Th Fr Sa Su          Mo Tu We Th Fr Sa Su\n",
      " 1  2  3  4  5  6  7                    1  2  3  4                    1  2  3  4\n",
      " 8  9 10 11 12 13 14           5  6  7  8  9 10 11           5  6  7  8  9 10 11\n",
      "15 16 17 18 19 20 21          12 13 14 15 16 17 18          12 13 14 15 16 17 18\n",
      "22 23 24 25 26 27 28          19 20 21 22 23 24 25          19 20 21 22 23 24 25\n",
      "29 30 31                      26 27 28                      26 27 28 29 30 31\n",
      "\n",
      "       April                          May                           June\n",
      "Mo Tu We Th Fr Sa Su          Mo Tu We Th Fr Sa Su          Mo Tu We Th Fr Sa Su\n",
      "                   1              1  2  3  4  5  6                       1  2  3\n",
      " 2  3  4  5  6  7  8           7  8  9 10 11 12 13           4  5  6  7  8  9 10\n",
      " 9 10 11 12 13 14 15          14 15 16 17 18 19 20          11 12 13 14 15 16 17\n",
      "16 17 18 19 20 21 22          21 22 23 24 25 26 27          18 19 20 21 22 23 24\n",
      "23 24 25 26 27 28 29          28 29 30 31                   25 26 27 28 29 30\n",
      "30\n",
      "\n",
      "        July                         August                      September\n",
      "Mo Tu We Th Fr Sa Su          Mo Tu We Th Fr Sa Su          Mo Tu We Th Fr Sa Su\n",
      "                   1                 1  2  3  4  5                          1  2\n",
      " 2  3  4  5  6  7  8           6  7  8  9 10 11 12           3  4  5  6  7  8  9\n",
      " 9 10 11 12 13 14 15          13 14 15 16 17 18 19          10 11 12 13 14 15 16\n",
      "16 17 18 19 20 21 22          20 21 22 23 24 25 26          17 18 19 20 21 22 23\n",
      "23 24 25 26 27 28 29          27 28 29 30 31                24 25 26 27 28 29 30\n",
      "30 31\n",
      "\n",
      "      October                       November                      December\n",
      "Mo Tu We Th Fr Sa Su          Mo Tu We Th Fr Sa Su          Mo Tu We Th Fr Sa Su\n",
      " 1  2  3  4  5  6  7                    1  2  3  4                          1  2\n",
      " 8  9 10 11 12 13 14           5  6  7  8  9 10 11           3  4  5  6  7  8  9\n",
      "15 16 17 18 19 20 21          12 13 14 15 16 17 18          10 11 12 13 14 15 16\n",
      "22 23 24 25 26 27 28          19 20 21 22 23 24 25          17 18 19 20 21 22 23\n",
      "29 30 31                      26 27 28 29 30                24 25 26 27 28 29 30\n",
      "                                                            31\n",
      "\n",
      "<class 'str'>\n"
     ]
    }
   ],
   "source": [
    "#  获取一年的日历字符串\n",
    "# 打印type类型\n",
    "import calendar \n",
    "cal = calendar.calendar(2018,l=1,c=10)\n",
    "print(cal)\n",
    "print(type(cal))"
   ]
  },
  {
   "cell_type": "code",
   "execution_count": 18,
   "metadata": {},
   "outputs": [
    {
     "name": "stdout",
     "output_type": "stream",
     "text": [
      "Help on method formatyear in module calendar:\n",
      "\n",
      "formatyear(theyear, w=2, l=1, c=6, m=3) method of calendar.TextCalendar instance\n",
      "    Returns a year's calendar as a multi-line string.\n",
      "\n",
      "None\n"
     ]
    }
   ],
   "source": [
    "# 注意在使用help的时候，help(calendar) 和help(calendar.calendar)的区别。\n",
    "print(help(calendar.calendar))"
   ]
  },
  {
   "cell_type": "markdown",
   "metadata": {},
   "source": [
    "### calendar模块之isleap   \n",
    "\n",
    "- 判断一个年份是不是闰年"
   ]
  },
  {
   "cell_type": "code",
   "execution_count": 19,
   "metadata": {},
   "outputs": [
    {
     "data": {
      "text/plain": [
       "False"
      ]
     },
     "execution_count": 19,
     "metadata": {},
     "output_type": "execute_result"
    }
   ],
   "source": [
    "calendar.isleap(2018)"
   ]
  },
  {
   "cell_type": "markdown",
   "metadata": {},
   "source": [
    "### calendar 模块之leapdays \n",
    "\n",
    "- 获取指定年份之间的闰年的个数\n"
   ]
  },
  {
   "cell_type": "code",
   "execution_count": 21,
   "metadata": {},
   "outputs": [
    {
     "name": "stdout",
     "output_type": "stream",
     "text": [
      "7\n"
     ]
    }
   ],
   "source": [
    "#  参数中，默认前一个比后一个小\n",
    "num = calendar.leapdays(1990,2018)\n",
    "print(num)"
   ]
  },
  {
   "cell_type": "markdown",
   "metadata": {},
   "source": [
    "### calendar模块之 month\n",
    "\n",
    "- month() 获取某个月的日历字符串\n",
    "- 格式：calendar.month（）"
   ]
  },
  {
   "cell_type": "code",
   "execution_count": 29,
   "metadata": {},
   "outputs": [
    {
     "name": "stdout",
     "output_type": "stream",
     "text": [
      "     March 2018\n",
      "Mo Tu We Th Fr Sa Su\n",
      "          1  2  3  4\n",
      " 5  6  7  8  9 10 11\n",
      "12 13 14 15 16 17 18\n",
      "19 20 21 22 23 24 25\n",
      "26 27 28 29 30 31\n",
      "\n",
      "Help on method formatmonth in module calendar:\n",
      "\n",
      "formatmonth(theyear, themonth, w=0, l=0) method of calendar.TextCalendar instance\n",
      "    Return a month's calendar string (multi-line).\n",
      "\n"
     ]
    }
   ],
   "source": [
    "a = calendar.month(2018,3)\n",
    "print(a)\n",
    "help(calendar.month)"
   ]
  },
  {
   "cell_type": "markdown",
   "metadata": {},
   "source": [
    "### calendar模块之 monthrange\n",
    "\n",
    "- 格式：calendar.monthrange(年,月)\n",
    "- 返回一个元组（周几开始，总天数）\n",
    "- 周几是从0开始计算的"
   ]
  },
  {
   "cell_type": "code",
   "execution_count": 31,
   "metadata": {},
   "outputs": [
    {
     "name": "stdout",
     "output_type": "stream",
     "text": [
      "(3, 30)\n"
     ]
    }
   ],
   "source": [
    "a1 = calendar.monthrange(2018,11)\n",
    "print(a1)"
   ]
  },
  {
   "cell_type": "markdown",
   "metadata": {},
   "source": [
    "### calendar 模块之 monthcalendar\n",
    "\n",
    "- 返回一个月，每天的矩阵列表\n",
    "- 是一个二级矩阵，类似于列表中嵌套列表"
   ]
  },
  {
   "cell_type": "code",
   "execution_count": 34,
   "metadata": {},
   "outputs": [
    {
     "name": "stdout",
     "output_type": "stream",
     "text": [
      "[[0, 0, 0, 1, 2, 3, 4], [5, 6, 7, 8, 9, 10, 11], [12, 13, 14, 15, 16, 17, 18], [19, 20, 21, 22, 23, 24, 25], [26, 27, 28, 29, 30, 0, 0]]\n",
      "<class 'list'>\n"
     ]
    }
   ],
   "source": [
    "# 打印一个月的矩阵列表，\n",
    "# 打印出monthcalendar 的类型\n",
    "a2 = calendar.monthcalendar(2018,11)\n",
    "print(a2)\n",
    "print(type(a2))"
   ]
  },
  {
   "cell_type": "markdown",
   "metadata": {},
   "source": [
    "### calendar模块之 prcal     prmonth"
   ]
  },
  {
   "cell_type": "code",
   "execution_count": 42,
   "metadata": {},
   "outputs": [
    {
     "name": "stdout",
     "output_type": "stream",
     "text": [
      "                                  2018\n",
      "\n",
      "      January                   February                   March\n",
      "Mo Tu We Th Fr Sa Su      Mo Tu We Th Fr Sa Su      Mo Tu We Th Fr Sa Su\n",
      " 1  2  3  4  5  6  7                1  2  3  4                1  2  3  4\n",
      " 8  9 10 11 12 13 14       5  6  7  8  9 10 11       5  6  7  8  9 10 11\n",
      "15 16 17 18 19 20 21      12 13 14 15 16 17 18      12 13 14 15 16 17 18\n",
      "22 23 24 25 26 27 28      19 20 21 22 23 24 25      19 20 21 22 23 24 25\n",
      "29 30 31                  26 27 28                  26 27 28 29 30 31\n",
      "\n",
      "       April                      May                       June\n",
      "Mo Tu We Th Fr Sa Su      Mo Tu We Th Fr Sa Su      Mo Tu We Th Fr Sa Su\n",
      "                   1          1  2  3  4  5  6                   1  2  3\n",
      " 2  3  4  5  6  7  8       7  8  9 10 11 12 13       4  5  6  7  8  9 10\n",
      " 9 10 11 12 13 14 15      14 15 16 17 18 19 20      11 12 13 14 15 16 17\n",
      "16 17 18 19 20 21 22      21 22 23 24 25 26 27      18 19 20 21 22 23 24\n",
      "23 24 25 26 27 28 29      28 29 30 31               25 26 27 28 29 30\n",
      "30\n",
      "\n",
      "        July                     August                  September\n",
      "Mo Tu We Th Fr Sa Su      Mo Tu We Th Fr Sa Su      Mo Tu We Th Fr Sa Su\n",
      "                   1             1  2  3  4  5                      1  2\n",
      " 2  3  4  5  6  7  8       6  7  8  9 10 11 12       3  4  5  6  7  8  9\n",
      " 9 10 11 12 13 14 15      13 14 15 16 17 18 19      10 11 12 13 14 15 16\n",
      "16 17 18 19 20 21 22      20 21 22 23 24 25 26      17 18 19 20 21 22 23\n",
      "23 24 25 26 27 28 29      27 28 29 30 31            24 25 26 27 28 29 30\n",
      "30 31\n",
      "\n",
      "      October                   November                  December\n",
      "Mo Tu We Th Fr Sa Su      Mo Tu We Th Fr Sa Su      Mo Tu We Th Fr Sa Su\n",
      " 1  2  3  4  5  6  7                1  2  3  4                      1  2\n",
      " 8  9 10 11 12 13 14       5  6  7  8  9 10 11       3  4  5  6  7  8  9\n",
      "15 16 17 18 19 20 21      12 13 14 15 16 17 18      10 11 12 13 14 15 16\n",
      "22 23 24 25 26 27 28      19 20 21 22 23 24 25      17 18 19 20 21 22 23\n",
      "29 30 31                  26 27 28 29 30            24 25 26 27 28 29 30\n",
      "                                                    31\n",
      "\n",
      "None\n",
      "   November 2018\n",
      "Mo Tu We Th Fr Sa Su\n",
      "          1  2  3  4\n",
      " 5  6  7  8  9 10 11\n",
      "12 13 14 15 16 17 18\n",
      "19 20 21 22 23 24 25\n",
      "26 27 28 29 30\n",
      "None\n"
     ]
    }
   ],
   "source": [
    "# calendar.prcal 直接打印日历\n",
    "a3 = calendar.prcal(2018)\n",
    "print(a3)\n",
    "\n",
    "a4 = calendar.prmonth(2018,11)\n",
    "print(a4)\n",
    "\n",
    "# 注意没有 模块calendar中，没有prday "
   ]
  },
  {
   "cell_type": "markdown",
   "metadata": {},
   "source": [
    "### calendar模块之 weekday\n",
    "\n",
    "- weekday获取一个日期是周几\n",
    "- 返回值对应的是周几。\n",
    "- 注意周一是从0开始"
   ]
  },
  {
   "cell_type": "code",
   "execution_count": 44,
   "metadata": {},
   "outputs": [
    {
     "name": "stdout",
     "output_type": "stream",
     "text": [
      "1\n"
     ]
    }
   ],
   "source": [
    "# 获取今天的日期\n",
    "a6 = calendar.weekday(2018,11,20)\n",
    "print(a6)"
   ]
  },
  {
   "cell_type": "markdown",
   "metadata": {},
   "source": [
    "# time 模块\n",
    "\n",
    "### 时间戳\n",
    "\n",
    "    - 一个时间的表示，根据不同语言，可以是整数或者浮点数\n",
    "    - 是从1970年1月1日0时0分0秒到现在所经历的  秒 数，有的语言是整数，有的是浮点数\n",
    "    - 如果是更早以前的时间，会出错\n",
    "    - 32位系统能够支持到2038年\n",
    "    \n",
    "    \n",
    "### UTC时间\n",
    "    - 世界协调时间，以格林尼治的时间作为参考时间\n",
    "    - 中国时间是UTC + 8 ,东8区 的时间\n",
    "    \n",
    "    \n",
    "### 时间元组\n",
    "    -- 一个包含时间内容的普通元组\n",
    "\n",
    "\n",
    "    索引      内容    属性            值\n",
    "\n",
    "    0       年       tm_year     2015\n",
    "    1       月       tm_mon      1～12\n",
    "    2       日       tm_mday     1～31\n",
    "    3       时       tm_hour     0～23\n",
    "    4       分       tm_min      0～59\n",
    "    5       秒       tm_sec      0～61  60表示闰秒  61保留值\n",
    "    6       周几     tm_wday     0～6\n",
    "    7       第几天    tm_yday     1～366\n",
    "    8       夏令时    tm_isdst    0，1，-1（表示夏令时）\n",
    "    \n",
    "    - time模块需要单独导入\n",
    "        - timezone 当前时间与UTC时间相差的秒数，没有夏令时的情况下，东八区是 -28800\n",
    "        - altzone 获取当前时间与UTC想差的秒数，在有夏令时的情况下\n",
    "        - daylight 测当前是不是夏令时时间状态， 0 表示是\n",
    "        - time   获得时间戳\n",
    "        - localtime 得到当前时间的时间结构\n",
    "            - 使用time.localtime 获得的是一个时间元组\n",
    "        - asctime 返回元组的正常字符串化之后的时间格式\n",
    "        - ctime  获取字符串化的当前时间\n",
    "        - mktime 使用时间元组获取对应的时间戳\n",
    "        - sleep  使程序进入睡眠，n 秒后继续\n",
    "        - strftime 将时间元组转化为自定义的字符串格式\n",
    "        - \n",
    "        \n",
    "   - 常用的几个：\n",
    "       - time.time获得当前时间戳（与1970相比走过的秒数）\n",
    "       - time.localtime 获得当前的时间元组，可以用 点号分别获取年月日之类的具体指\n",
    "       - asctime 可以直接操作localtime 得到一个直观的时间结构。\n",
    "       - ctime 结果与上面的asctime一样，只是ctime 可以直接获得当前的时间结构\n",
    "       - sleep 控制睡眠时间\n",
    "       - strftime 是自定义字符串形式获得时间结构。 "
   ]
  },
  {
   "cell_type": "code",
   "execution_count": 2,
   "metadata": {
    "collapsed": true
   },
   "outputs": [],
   "source": [
    "import time"
   ]
  },
  {
   "cell_type": "code",
   "execution_count": null,
   "metadata": {
    "collapsed": true
   },
   "outputs": [],
   "source": []
  },
  {
   "cell_type": "code",
   "execution_count": 49,
   "metadata": {},
   "outputs": [
    {
     "name": "stdout",
     "output_type": "stream",
     "text": [
      "-28800\n"
     ]
    }
   ],
   "source": [
    "# timezone\n",
    "t1 = time.timezone\n",
    "print(t1)"
   ]
  },
  {
   "cell_type": "code",
   "execution_count": 51,
   "metadata": {},
   "outputs": [
    {
     "name": "stdout",
     "output_type": "stream",
     "text": [
      "1542708700.219269\n"
     ]
    }
   ],
   "source": [
    "#  当前的时间戳，与1970年1月1日 0时0分0秒开始计算\n",
    "t2 = time.time()\n",
    "print(t2)"
   ]
  },
  {
   "cell_type": "code",
   "execution_count": 57,
   "metadata": {},
   "outputs": [
    {
     "name": "stdout",
     "output_type": "stream",
     "text": [
      "time.struct_time(tm_year=2018, tm_mon=11, tm_mday=20, tm_hour=18, tm_min=17, tm_sec=4, tm_wday=1, tm_yday=324, tm_isdst=0)\n",
      "324\n"
     ]
    }
   ],
   "source": [
    "#  localtime 得到当前时间内容\n",
    "# 结果中包含 年份，月份，天数，小时，分钟等等，还有今年的第多少天\n",
    "# 最后一个tm_isdst 是表示是否是夏令时\n",
    "# 可以通过点号，来访问具体内容，比如今年的第多少天\n",
    "t3= time.localtime()\n",
    "print(t3)\n",
    "# 获得今年的第多少天\n",
    "print(t3.tm_yday)"
   ]
  },
  {
   "cell_type": "code",
   "execution_count": 59,
   "metadata": {},
   "outputs": [
    {
     "name": "stdout",
     "output_type": "stream",
     "text": [
      "Tue Nov 20 18:21:45 2018\n"
     ]
    }
   ],
   "source": [
    "# 上面的localtime返回的时间 不是 人能看的格式，所以使用asctime 来转化为字符串\n",
    "# asctime 返回元组的正常字符串化之后的时间格式\n",
    "# 格式 time.asctime(时间元组)  时间元组通常是\n",
    "\n",
    "t4 = time.localtime()\n",
    "tt4 = time.asctime(t4)\n",
    "print(tt4)\n",
    "# 下面是 周几  月份， 时间， 年份"
   ]
  },
  {
   "cell_type": "code",
   "execution_count": 61,
   "metadata": {},
   "outputs": [
    {
     "name": "stdout",
     "output_type": "stream",
     "text": [
      "Tue Nov 20 18:22:58 2018\n"
     ]
    }
   ],
   "source": [
    "# ctime 获取字符串化的当前时间\n",
    "t5 = time.ctime()\n",
    "print(t5)"
   ]
  },
  {
   "cell_type": "code",
   "execution_count": 67,
   "metadata": {},
   "outputs": [
    {
     "name": "stdout",
     "output_type": "stream",
     "text": [
      "1542709641.0\n"
     ]
    }
   ],
   "source": [
    "# mktime 使用时间元组 获得 对应的时间戳\n",
    "lt = time.localtime()\n",
    "t6 = time.mktime(lt)\n",
    "print(t6)"
   ]
  },
  {
   "cell_type": "code",
   "execution_count": 68,
   "metadata": {
    "collapsed": true
   },
   "outputs": [],
   "source": [
    "# clock  获取cpu时间    但是 3.0 · 3.3 直接使用，  3.6调用有问题\n"
   ]
  },
  {
   "cell_type": "code",
   "execution_count": 77,
   "metadata": {},
   "outputs": [
    {
     "name": "stdout",
     "output_type": "stream",
     "text": [
      "0\n",
      "1\n",
      "2\n",
      "3\n"
     ]
    }
   ],
   "source": [
    "# sleep，使程序休眠n秒后继续\n",
    "for i in range(4):\n",
    "    time.sleep(1)\n",
    "    print(i)\n",
    "    "
   ]
  },
  {
   "cell_type": "code",
   "execution_count": 76,
   "metadata": {},
   "outputs": [
    {
     "name": "stdout",
     "output_type": "stream",
     "text": [
      "0\n",
      "1\n",
      "2\n",
      "3\n"
     ]
    }
   ],
   "source": [
    "#  对比上面的代码，\n",
    "# sleep放的位置不同，开始休眠的顺序不同\n",
    "# 这里是先休眠，在执行，再休眠\n",
    "for i in range(4):\n",
    "    \n",
    "    print(i)\n",
    "    time.sleep(1)"
   ]
  },
  {
   "cell_type": "code",
   "execution_count": 6,
   "metadata": {
    "collapsed": true
   },
   "outputs": [],
   "source": [
    "import time"
   ]
  },
  {
   "cell_type": "code",
   "execution_count": 13,
   "metadata": {},
   "outputs": [
    {
     "ename": "UnicodeEncodeError",
     "evalue": "'locale' codec can't encode character '\\u5e74' in position 2: Illegal byte sequence",
     "output_type": "error",
     "traceback": [
      "\u001b[1;31m---------------------------------------------------------------------------\u001b[0m",
      "\u001b[1;31mUnicodeEncodeError\u001b[0m                        Traceback (most recent call last)",
      "\u001b[1;32m<ipython-input-13-0a79508ea031>\u001b[0m in \u001b[0;36m<module>\u001b[1;34m()\u001b[0m\n\u001b[0;32m      2\u001b[0m \u001b[1;31m# 把时间表示成， 2018年11月21日 10:47\u001b[0m\u001b[1;33m\u001b[0m\u001b[1;33m\u001b[0m\u001b[0m\n\u001b[0;32m      3\u001b[0m \u001b[0mt\u001b[0m \u001b[1;33m=\u001b[0m \u001b[0mtime\u001b[0m\u001b[1;33m.\u001b[0m\u001b[0mlocaltime\u001b[0m\u001b[1;33m(\u001b[0m\u001b[1;33m)\u001b[0m\u001b[1;33m\u001b[0m\u001b[0m\n\u001b[1;32m----> 4\u001b[1;33m \u001b[0mft\u001b[0m \u001b[1;33m=\u001b[0m \u001b[0mtime\u001b[0m\u001b[1;33m.\u001b[0m\u001b[0mstrftime\u001b[0m\u001b[1;33m(\u001b[0m\u001b[1;34m\"%Y年%m月%d日 %H:%M\"\u001b[0m \u001b[1;33m,\u001b[0m \u001b[0mt\u001b[0m\u001b[1;33m)\u001b[0m\u001b[1;33m\u001b[0m\u001b[0m\n\u001b[0m\u001b[0;32m      5\u001b[0m \u001b[0mprint\u001b[0m\u001b[1;33m(\u001b[0m\u001b[0mft\u001b[0m\u001b[1;33m)\u001b[0m\u001b[1;33m\u001b[0m\u001b[0m\n",
      "\u001b[1;31mUnicodeEncodeError\u001b[0m: 'locale' codec can't encode character '\\u5e74' in position 2: Illegal byte sequence"
     ]
    }
   ],
   "source": [
    "\n",
    "# 把时间表示成， 2018年11月21日 10:47\n",
    "t = time.localtime()\n",
    "ft = time.strftime(\"%Y年%m月%d日 %H:%M\" , t)\n",
    "print(ft)"
   ]
  },
  {
   "cell_type": "markdown",
   "metadata": {},
   "source": [
    "# datetime 模块\n",
    "\n",
    "- datetime 提供日期和时间的运算和表示\n",
    "- 使用需要先导入\n",
    "- 常用的几个功能：\n",
    "    - datetime.date\n",
    "    - datetime.time  \n",
    "    - datetime.datetime datetime下面的一个模块，提供时间跟日期的组合\n",
    "    - datetime.timedelta 提供一个时间差，时间长度"
   ]
  },
  {
   "cell_type": "code",
   "execution_count": 31,
   "metadata": {},
   "outputs": [
    {
     "name": "stdout",
     "output_type": "stream",
     "text": [
      "<class 'datetime.date'>\n",
      "2801-11-21\n"
     ]
    }
   ],
   "source": [
    "import datetime\n",
    "# datetime的属性：一个理想和的日期，提供年月日属性\n",
    "print(datetime.date)\n",
    "print(datetime.date(2801, 11, 21))"
   ]
  },
  {
   "cell_type": "code",
   "execution_count": 19,
   "metadata": {},
   "outputs": [
    {
     "name": "stdout",
     "output_type": "stream",
     "text": [
      "2018-11-21\n",
      "2018\n",
      "11\n",
      "21\n"
     ]
    }
   ],
   "source": [
    "# 上面的可以这么写：\n",
    "t7 = datetime.date(2018, 11, 21)\n",
    "print(t7)\n",
    "print(t7.year)\n",
    "print(t7.month)\n",
    "print(t7.day)"
   ]
  },
  {
   "cell_type": "code",
   "execution_count": 21,
   "metadata": {},
   "outputs": [
    {
     "name": "stdout",
     "output_type": "stream",
     "text": [
      "2018-11-21 13:55:14\n",
      "2018-11-21 14:55:14\n"
     ]
    }
   ],
   "source": [
    "from datetime import datetime, timedelta\n",
    "# 时间间隔 datetime.timedelta\n",
    "t1 = datetime.now()\n",
    "print( t1.strftime(\"%Y-%m-%d %H:%M:%S\"))\n",
    "# td表示以小时的时间长度\n",
    "td = timedelta(hours=1)\n",
    "# 当前时间加上时间间隔后，把得到的一个小时后的时间格式化输出\n",
    "print( (t1+td).strftime(\"%Y-%m-%d %H:%M:%S\"))"
   ]
  },
  {
   "cell_type": "markdown",
   "metadata": {},
   "source": [
    "### timeit 模块\n",
    "\n",
    "- 一种时间测量工具\n",
    "- timeit 时候模块timeit下面的一个工具\n",
    "- timeit.timeit有几个参数：stmt/ setup /timer / number 等等"
   ]
  },
  {
   "cell_type": "code",
   "execution_count": 25,
   "metadata": {},
   "outputs": [
    {
     "name": "stdout",
     "output_type": "stream",
     "text": [
      "Help on function timeit in module timeit:\n",
      "\n",
      "timeit(stmt='pass', setup='pass', timer=<built-in function perf_counter>, number=1000000, globals=None)\n",
      "    Convenience function to create Timer object and call timeit method.\n",
      "\n",
      "2.709562900000037\n",
      "6.543449200000055\n"
     ]
    }
   ],
   "source": [
    "import timeit\n",
    "# timeit 时间测量工具。\n",
    "help(timeit.timeit)\n",
    "# 下面用例子来练习下 timeit.timeit\n",
    "c = \"\"\"\n",
    "sum = []\n",
    "for i in range(1000):\n",
    "    sum.append(i)\n",
    "\"\"\"\n",
    "# 利用timeit.timeit调试代码，执行1000000次，查看运行时间\n",
    "t1 = timeit.timeit(stmt = \"[i for i in range(1000)]\", number = 100000 )\n",
    "# 测量代码C 执行100000 运行结果\n",
    "t2 = timeit.timeit(stmt=c,number=100000)\n",
    "print(t1)\n",
    "print(t2)"
   ]
  },
  {
   "cell_type": "code",
   "execution_count": 29,
   "metadata": {},
   "outputs": [
    {
     "name": "stdout",
     "output_type": "stream",
     "text": [
      "0.2706166000000394\n"
     ]
    }
   ],
   "source": [
    "t9 = timeit.timeit(stmt = \"[i for i in range(1000)]\", number = 10000 )\n",
    "print(t9)"
   ]
  },
  {
   "cell_type": "markdown",
   "metadata": {},
   "source": [
    "#### timeit注释上面的代码\n",
    "\n",
    "- timeit.timeit 这个模块常用于测量程序的运行时间，比如两个软件都能实现同样的功能，要看哪个效率高是用哪个，\n",
    "- 这个工具正好可以用来测量时间\n",
    "- 注意这里的参数，stmt是要运行的程序  ，number是要运行的次数，有时候怕时间太短\n",
    "- setup负责把环境变量准备好，有的程序是函数，并没有参数，这时候需要再setup里面设定\n",
    "    - setup= s + \"num=3\"   s 是函数， num=3是需要传入的值"
   ]
  },
  {
   "cell_type": "code",
   "execution_count": 4,
   "metadata": {},
   "outputs": [
    {
     "name": "stdout",
     "output_type": "stream",
     "text": [
      "2018\n"
     ]
    }
   ],
   "source": [
    "t = time.localtime()\n",
    "print(t.tm_year)"
   ]
  },
  {
   "cell_type": "code",
   "execution_count": 32,
   "metadata": {},
   "outputs": [
    {
     "name": "stdout",
     "output_type": "stream",
     "text": [
      "2018-11-21 14:24:10.572918\n",
      "2018-11-21 06:24:10.572918\n",
      "2018-11-21 14:24:10.572918\n",
      "2018-11-21 14:24:10.572918\n"
     ]
    }
   ],
   "source": [
    "#  datetime 中的datetime 有以下属性\n",
    "# today\n",
    "# now\n",
    "# utcnow 跟北京时间正好相差8个小时\n",
    "# fromtimestamp 从时间戳中返回本地时间 时间戳 time.time\n",
    "# 如果在本段代码前使用 from datetime import datetime，则下面可以省略一个datetime\n",
    "dt = datetime.datetime(2018,11,21)\n",
    "print(dt.today())\n",
    "print(dt.utcnow())\n",
    "print(dt.now())\n",
    "print(dt.fromtimestamp(time.time()))"
   ]
  },
  {
   "cell_type": "markdown",
   "metadata": {},
   "source": [
    "## datetime 详解\n",
    "- 提供比较好用的时间而已\n",
    "- 类定义\n",
    "\n",
    "       class datetime.datetime(year, month, day[, hour\n",
    "                [, minute\n",
    "                [, second\n",
    "                [, microsecond\n",
    "                [, tzinfo]]]]])\n",
    "      # The year, month and day arguments are required.\n",
    "      MINYEAR <= year <= MAXYEAR\n",
    "      1 <= month <= 12\n",
    "      1 <= day <= n\n",
    "      0 <= hour < 24\n",
    "      0 <= minute < 60\n",
    "      0 <= second < 60\n",
    "      0 <= microsecond < 10**\n",
    "- 类方法\n",
    "\n",
    "               \n",
    "    - datetime.today(): 返回当前本地datetime.随着 tzinfo None. datetime.fromtimestamp(time.time()).\n",
    "    - datetime.now([tz]): 返回当前本地日期和时间, 如果可选参数tz为None或没有详细说明,这个方法会像today().\n",
    "    - datetime.utcnow(): 返回当前的UTC日期和时间, 如果tzinfo None ,那么与now()类似.\n",
    "    - datetime.fromtimestamp(timestamp[, tz]): 根据时间戳返回本地的日期和时间.tz指定时区.\n",
    "    - datetime.utcfromtimestamp(timestamp): 根据时间戳返回 UTC datetime.\n",
    "    - datetime.fromordinal(ordinal): 根据Gregorian ordinal 返回datetime.\n",
    "    - datetime.combine(date, time): 根据date和time返回一个新的datetime.\n",
    "    - datetime.strptime(date_string, format): 根据date_string和format返回一个datetime.\n",
    "\n",
    "    - 实例方法\n",
    "\n",
    "    - datetime.date(): 返回相同年月日的date对象.\n",
    "    - datetime.time(): 返回相同时分秒微秒的time对象.\n",
    "    - datetime.replace(kw): kw in [year, month, day, hour, minute, second, microsecond, tzinfo], 与date类似.\n",
    "    - 类属性\n",
    "\n",
    "    - datetime.min: datetime(MINYEAR, 1, 1).\n",
    "    - datetime.max: datetime(MAXYEAR, 12, 31, 23, 59, 59, 999999).\n",
    "\n",
    "    - 实例属性(read-only)\n",
    "\n",
    "    - datetime.year: 1 至 9999\n",
    "    - datetime.month: 1 至 12\n",
    "    - datetime.day: 1 至 n\n",
    "    - datetime.hour: In range(24). 0 至 23\n",
    "    - datetime.minute: In range(60).\n",
    "    - datetime.second: In range(60).\n",
    "    - datetime.microsecond: In range(1000000).\n",
    "   \n"
   ]
  },
  {
   "cell_type": "code",
   "execution_count": null,
   "metadata": {
    "collapsed": true
   },
   "outputs": [],
   "source": []
  },
  {
   "cell_type": "markdown",
   "metadata": {},
   "source": [
    "# OS -操作系统相关\n",
    "\n",
    "- 跟操作系统相关，主要是文件操作\n",
    "- 与操作系统相关，主要包含在三个模块里\n",
    "    - os   操作系统目录相关\n",
    "    - os.path 系统路径相关操作\n",
    "    - shutil  高级文件操作，目录树的操作，文件赋值，删除，移动\n",
    "\n",
    "- 路径：\n",
    "    - 绝对路径：总是从根目录开始\n",
    "    - 相对路径：基本上是以当前环境为开始的一个相对的地方\n",
    "    \n",
    "- 常用的几个方法：\n",
    "    - getcwd 获得当前的工作目录\n",
    "    - chdir  改变当前的工作目录\n",
    "    - listdir 获取一个目录中所有的子目录 和文件的名称列表\n",
    "    - makedirs创建一个文件夹\n",
    "        - 一个是makedirs 没有返回值，所有函数没有返回值，默认返回None\n",
    "        - 这个函数的意义不在于返回值，而在于创建了一个文件夹\n",
    "    - system() 运行系统shell命令，\n",
    "        - 这个方法在丘比特里运行有点问题\n",
    "        - 使用方法为：os.system() 里面有参数\n",
    "    - \n",
    "    - getenv获取指定的系统环境变量\n",
    "    - putenv\n",
    "    - exit() 退出当前程序"
   ]
  },
  {
   "cell_type": "code",
   "execution_count": 33,
   "metadata": {
    "collapsed": true
   },
   "outputs": [],
   "source": [
    "import os"
   ]
  },
  {
   "cell_type": "code",
   "execution_count": 35,
   "metadata": {},
   "outputs": [
    {
     "name": "stdout",
     "output_type": "stream",
     "text": [
      "C:\\Users\\李凯\\Desktop\\我的python\n"
     ]
    }
   ],
   "source": [
    "mydir = os.getcwd()\n",
    "print(mydir)"
   ]
  },
  {
   "cell_type": "code",
   "execution_count": 41,
   "metadata": {},
   "outputs": [
    {
     "name": "stdout",
     "output_type": "stream",
     "text": [
      "C:\\Users\\李凯\\Desktop\\我的python\n"
     ]
    }
   ],
   "source": [
    "os.chdir('\\\\Users\\\\李凯\\\\Desktop\\\\我的python')\n",
    "mydir = os.getcwd()\n",
    "print(mydir)\n"
   ]
  },
  {
   "cell_type": "code",
   "execution_count": 43,
   "metadata": {},
   "outputs": [
    {
     "name": "stdout",
     "output_type": "stream",
     "text": [
      "['.ipynb_checkpoints', '02-python基础知识.ipynb', '03- 格式化字符串及运算符.ipynb', '04-主讲if分支   for循环.ipynb', '05- 主讲while循环 和 函数入门.ipynb', '06- 主讲函数参数，文档.ipynb', '07-函数作用域和列表.ipynb', '08-函数收尾+数据结构.ipynb', '09-继续数据结构.ipynb', '10-列表结尾.ipynb', '2018-10-29练习.ipynb', 'OOP.ipynb', 'oop练习专用.ipynb', 'Python基础-10常用模块.ipynb', 'Python基础-1字符串.ipynb', 'Python基础-2列表和元组.ipynb', 'Python基础-3字符串.ipynb', 'Python基础-4字典.ipynb', 'Python基础-5 条件循环.ipynb', 'Python基础-6 抽象.ipynb', 'Python基础-7 抽象——类.ipynb', 'Python基础-8 异常.ipynb', 'Python基础-9高级语法- 包.ipynb', 'Python编程-从入门到实践---10--文件.ipynb', 'Python编程-从入门到实践---9--类.ipynb', 'python编程-从入门到实践-1-6章.ipynb', 'Python编程-从入门到实践-8函数.ipynb', 'Python编程从入门到实践---7 循环控制.ipynb', 'Untitled.ipynb', '基础练习实例2018-11-15.ipynb', '数据.json', '文件读取练习1.txt', '文件读取练习3.txt', '文件读取练习4.txt', '用户名.json', '类的练习题代码.ipynb', '练习题.ipynb']\n"
     ]
    }
   ],
   "source": [
    "#  不给参数，默认是当前的文件的所在的文件夹下的文件\n",
    "ld = os.listdir()\n",
    "print(ld)"
   ]
  },
  {
   "cell_type": "code",
   "execution_count": 52,
   "metadata": {},
   "outputs": [
    {
     "name": "stdout",
     "output_type": "stream",
     "text": [
      "None\n"
     ]
    }
   ],
   "source": [
    "# makedirs  创建一个文件夹\n",
    "lt = os.makedirs('我是练习os.makedirs的')\n",
    "print(lt)"
   ]
  },
  {
   "cell_type": "code",
   "execution_count": 54,
   "metadata": {},
   "outputs": [
    {
     "ename": "AttributeError",
     "evalue": "module 'os' has no attribute 'exit'",
     "output_type": "error",
     "traceback": [
      "\u001b[1;31m---------------------------------------------------------------------------\u001b[0m",
      "\u001b[1;31mAttributeError\u001b[0m                            Traceback (most recent call last)",
      "\u001b[1;32m<ipython-input-54-af734e5a1930>\u001b[0m in \u001b[0;36m<module>\u001b[1;34m()\u001b[0m\n\u001b[1;32m----> 1\u001b[1;33m \u001b[0mrst\u001b[0m \u001b[1;33m=\u001b[0m \u001b[0mos\u001b[0m\u001b[1;33m.\u001b[0m\u001b[0mexit\u001b[0m\u001b[1;33m(\u001b[0m\u001b[1;33m)\u001b[0m\u001b[1;33m\u001b[0m\u001b[0m\n\u001b[0m\u001b[0;32m      2\u001b[0m \u001b[0mprint\u001b[0m\u001b[1;33m(\u001b[0m\u001b[0mrst\u001b[0m\u001b[1;33m)\u001b[0m\u001b[1;33m\u001b[0m\u001b[0m\n",
      "\u001b[1;31mAttributeError\u001b[0m: module 'os' has no attribute 'exit'"
     ]
    }
   ],
   "source": [
    "rst = os.exit()\n",
    "print(rst)   "
   ]
  },
  {
   "cell_type": "code",
   "execution_count": 60,
   "metadata": {},
   "outputs": [
    {
     "name": "stdout",
     "output_type": "stream",
     "text": [
      "\\\n",
      "\r\n",
      "\n"
     ]
    }
   ],
   "source": [
    "print(os.sep)\n",
    "a = os.linesep\n",
    "print(str(a))\n"
   ]
  },
  {
   "cell_type": "code",
   "execution_count": 47,
   "metadata": {},
   "outputs": [
    {
     "name": "stdout",
     "output_type": "stream",
     "text": [
      "C:\\我的Python\n"
     ]
    }
   ],
   "source": [
    "import os.path\n",
    "a = os.path.abspath('\\我的Python')\n",
    "print(a)"
   ]
  },
  {
   "cell_type": "markdown",
   "metadata": {},
   "source": [
    "# shutil 模块\n",
    "\n",
    "- 常用的功能：\n",
    "    - shutil.copy()    复制\n",
    "    - shutil.copy2()   复制文件，并且保留原数据\n",
    "    - shutil.copyfile() 将一个文件中的内容复制到另外一个文件当中\n",
    "    - shutil.move()    可以移动文件或者文件夹，到另外一个文件夹中。这不是复制，是移动。"
   ]
  },
  {
   "cell_type": "code",
   "execution_count": 2,
   "metadata": {},
   "outputs": [
    {
     "name": "stdout",
     "output_type": "stream",
     "text": [
      "\\Users\\李凯\\Desktop\\新\\数据.json\n"
     ]
    }
   ],
   "source": [
    "import shutil\n",
    "# copy() 复制文件，返回值：返回目标路径\n",
    "# 拷贝的同事可以给文件重命名\n",
    "a = shutil.copy('\\\\Users\\\\李凯\\\\Desktop\\\\我的python\\\\数据.json','\\\\Users\\\\李凯\\\\Desktop\\\\新')\n",
    "print(a)"
   ]
  },
  {
   "cell_type": "code",
   "execution_count": 55,
   "metadata": {},
   "outputs": [
    {
     "name": "stdout",
     "output_type": "stream",
     "text": [
      "\\Users\\李凯\\Desktop\\新\\数据1.json\n"
     ]
    }
   ],
   "source": [
    "# 注意是复制文件，不是文件夹，\n",
    "a = shutil.copy('\\\\Users\\\\李凯\\\\Desktop\\\\我的python\\\\数据.json','\\\\Users\\\\李凯\\\\Desktop\\\\新\\\\数据1.json')\n",
    "print(a)"
   ]
  },
  {
   "cell_type": "code",
   "execution_count": 59,
   "metadata": {},
   "outputs": [
    {
     "name": "stdout",
     "output_type": "stream",
     "text": [
      "\\Users\\李凯\\Desktop\\我的python\\文件读取练习3.txt\n"
     ]
    }
   ],
   "source": [
    "# 将一个文件中的内容复制到另外一个文件中，注意参数的路径末尾是文件，需要带上文件格式\n",
    "b = shutil.copyfile('\\\\Users\\\\李凯\\\\Desktop\\\\我的python\\\\文件读取练习1.txt',\n",
    "                    '\\\\Users\\\\李凯\\\\Desktop\\\\我的python\\\\文件读取练习3.txt')\n",
    "print(b)"
   ]
  },
  {
   "cell_type": "code",
   "execution_count": 68,
   "metadata": {},
   "outputs": [
    {
     "name": "stdout",
     "output_type": "stream",
     "text": [
      "\\Users\\李凯\\Desktop\\新\\移动.txt\n"
     ]
    }
   ],
   "source": [
    "# 之前 路径没有输入正确，\n",
    "# shutil.move是将一个文件移动到另外一个文件夹中\n",
    "c = shutil.move('\\\\Users\\\\李凯\\\\Desktop\\\\我的python\\\\移动.txt',\n",
    "                '\\\\Users\\\\李凯\\\\Desktop\\\\新')\n",
    "print(c)"
   ]
  },
  {
   "cell_type": "code",
   "execution_count": 69,
   "metadata": {},
   "outputs": [
    {
     "name": "stdout",
     "output_type": "stream",
     "text": [
      "\\Users\\李凯\\Desktop\\新\\练习\n"
     ]
    }
   ],
   "source": [
    "c = shutil.move('\\\\Users\\\\李凯\\\\Desktop\\\\我的python\\\\练习',\n",
    "                '\\\\Users\\\\李凯\\\\Desktop\\\\新')\n",
    "print(c)"
   ]
  },
  {
   "cell_type": "markdown",
   "metadata": {},
   "source": [
    "# 归档和压缩\n",
    "\n",
    "- 属于shutil 中的方法\n",
    "- 归档：把多个文件或者文件夹合并到一个文件中    归档可以说是压缩\n",
    "- 压缩：用算法把多个文件或者文件夹无损或者有损合并到一个文件当中\n",
    "\n",
    "- 常用介绍：\n",
    "    - shutil.make_archive()\n",
    "    - shutil.unpack_archive()"
   ]
  },
  {
   "cell_type": "code",
   "execution_count": 2,
   "metadata": {},
   "outputs": [
    {
     "name": "stdout",
     "output_type": "stream",
     "text": [
      "C:\\Users\\李凯\\Desktop\\新\\归档结果.zip\n"
     ]
    }
   ],
   "source": [
    "import shutil\n",
    "# shutil.make_archive('归档之后的目录和文件名'，'后缀','需要归档的文件夹')\n",
    "# 我的理解是，最后一个参数是需要被归档的文件，第一个参数是归档成什么名字，中间参数是格式\n",
    "# 注意后缀只能是特殊的几个，zip  rar之类的，具体可以使用help查看\n",
    "d = shutil.make_archive('\\\\Users\\\\李凯\\\\Desktop\\\\新\\\\归档结果','zip',\n",
    "                        '\\\\Users\\\\李凯\\\\Desktop\\\\我的python\\\\需要被归档的文件')\n",
    "print(d)"
   ]
  },
  {
   "cell_type": "code",
   "execution_count": 18,
   "metadata": {},
   "outputs": [
    {
     "name": "stdout",
     "output_type": "stream",
     "text": [
      "None\n"
     ]
    }
   ],
   "source": [
    "# shutil.unpack_archive() \n",
    "d1 = shutil.unpack_archive('\\\\Users\\\\李凯\\\\Desktop\\\\新\\\\归档结果.zip','\\\\Users\\\\李凯\\\\Desktop\\\\新\\\\归档结果')\n",
    "print(d1)"
   ]
  },
  {
   "cell_type": "code",
   "execution_count": 5,
   "metadata": {},
   "outputs": [
    {
     "name": "stdout",
     "output_type": "stream",
     "text": [
      "Help on function unpack_archive in module shutil:\n",
      "\n",
      "unpack_archive(filename, extract_dir=None, format=None)\n",
      "    Unpack an archive.\n",
      "    \n",
      "    `filename` is the name of the archive.\n",
      "    \n",
      "    `extract_dir` is the name of the target directory, where the archive\n",
      "    is unpacked. If not provided, the current working directory is used.\n",
      "    \n",
      "    `format` is the archive format: one of \"zip\", \"tar\", \"gztar\", \"bztar\",\n",
      "    or \"xztar\".  Or any other registered format.  If not provided,\n",
      "    unpack_archive will use the filename extension and see if an unpacker\n",
      "    was registered for that extension.\n",
      "    \n",
      "    In case none is found, a ValueError is raised.\n",
      "\n"
     ]
    }
   ],
   "source": [
    "help(shutil.unpack_archive)"
   ]
  },
  {
   "cell_type": "markdown",
   "metadata": {},
   "source": [
    "# random\n",
    "\n",
    "- 生成随机数\n",
    "- 所有的随机模块都是伪随机\n",
    "- 常用方法介绍：\n",
    "    - random.random()    获取0,1之间的某个小数,没有参数\n",
    "    - random.choice(list)  随机返回序列中的某个值\n",
    "    - random.shuffle(list)  随机打乱列表\n",
    "    - ramdom.randint(a,b)  返回一个a 和 b 之间的随机整数，包含a,b\n",
    "    - random.randrange(a,b,step) 两个数之间随机取一个整数，带步进的。 包含开头不包含结尾\n",
    "    - random.shuffle  随机打乱序列，返回值是None \n",
    "    - random.uniform  随机获取固定范围内的值，包含小数\n",
    "    \n",
    "- 同样，使用要想先导入"
   ]
  },
  {
   "cell_type": "code",
   "execution_count": 2,
   "metadata": {
    "collapsed": true
   },
   "outputs": [],
   "source": [
    "import random"
   ]
  },
  {
   "cell_type": "code",
   "execution_count": null,
   "metadata": {
    "collapsed": true
   },
   "outputs": [],
   "source": []
  },
  {
   "cell_type": "code",
   "execution_count": 17,
   "metadata": {},
   "outputs": [
    {
     "name": "stdout",
     "output_type": "stream",
     "text": [
      "0.24963676524123946\n"
     ]
    }
   ],
   "source": [
    "print(random.random())"
   ]
  },
  {
   "cell_type": "code",
   "execution_count": 31,
   "metadata": {},
   "outputs": [
    {
     "name": "stdout",
     "output_type": "stream",
     "text": [
      "[0, 1, 2, 3, 4]\n",
      "3\n"
     ]
    }
   ],
   "source": [
    "a = list(range(5))\n",
    "print(a)\n",
    "print(random.choice(a))"
   ]
  },
  {
   "cell_type": "code",
   "execution_count": 38,
   "metadata": {},
   "outputs": [
    {
     "name": "stdout",
     "output_type": "stream",
     "text": [
      "[0, 1, 3, 2, 4]\n"
     ]
    }
   ],
   "source": [
    "#  random.shuffle()是随机打乱列表，所以参数是列表\n",
    "#  本身没有返回值，因为操作的是类表，最后看列表的结果就可以了\n",
    "random.shuffle(a)\n",
    "print(a)"
   ]
  },
  {
   "cell_type": "code",
   "execution_count": 3,
   "metadata": {},
   "outputs": [
    {
     "name": "stdout",
     "output_type": "stream",
     "text": [
      "41\n"
     ]
    }
   ],
   "source": [
    "# 反复运行，每次的结果都不一样 \n",
    "print(random.randint(1,100))"
   ]
  },
  {
   "cell_type": "markdown",
   "metadata": {},
   "source": [
    "# math 模块\n",
    "\n",
    "- 常用模块：\n",
    "    - celi:向上取整\n",
    "    - floor：向下取整\n",
    " \n",
    "    - fabs 返回绝对值，是浮点数\n",
    "    - sqrt:取开平方，浮点数\n",
    "    - fsum 求和，参数可以是可迭代的，比如列表，返回的是浮点数\n",
    "    - modf()将参数拆分为整数部分和小数部分，小数部分在前面，整数在后\n",
    "    - copysign() 两个参数，将第二个数的符号，传给第一个数，返回第一个数的浮点数。\n",
    "- 不属于math的\n",
    "    - round 四舍五入操作，如果两个相同（如果是5.5），向偶数方向取整\n",
    "    - pow: 两个参数，计算平方，第一个是底数，第二个是指数\n",
    "    - abs() 获取绝对值，不是math模块的，是python内置的。返回值由它自身决定\n",
    "    - sum() 求和，参数可以是可迭代的，返回的不一定是浮点数，由自身决定\n",
    "    - keyword.kwlist()查看python关键字"
   ]
  },
  {
   "cell_type": "markdown",
   "metadata": {},
   "source": [
    "## 如何求百位、十位、个位\n",
    "\n",
    "- 百位,直接对数字 使用整除运算\n",
    "- 十位使用对10求余数，得到十位数字，然后求第一个数字，都是整除\n",
    "- 个位，直接对数字 使用求余运算"
   ]
  },
  {
   "cell_type": "code",
   "execution_count": 45,
   "metadata": {},
   "outputs": [
    {
     "name": "stdout",
     "output_type": "stream",
     "text": [
      "3\n",
      "4\n",
      "5\n",
      "6\n",
      "7\n"
     ]
    }
   ],
   "source": [
    "print(34567//10000)\n",
    "print((34567%10000)//1000)\n",
    "print((34567%1000)//100)\n",
    "print((34567%100)//10)\n",
    "print(34567%10)"
   ]
  },
  {
   "cell_type": "markdown",
   "metadata": {},
   "source": [
    "### ASCII码 与 数字 互转\n",
    "\n",
    "- 使用函数ord，ASCII转数字\n",
    "- 使用chr 数字转ASCII"
   ]
  },
  {
   "cell_type": "code",
   "execution_count": 4,
   "metadata": {},
   "outputs": [
    {
     "name": "stdout",
     "output_type": "stream",
     "text": [
      "65\n",
      "F\n",
      "68\n",
      "100\n",
      "0b11111110101000000110100000000110110111000011000\n"
     ]
    }
   ],
   "source": [
    "print(ord('A'))\n",
    "print(chr(70))\n",
    "print(ord('D'))\n",
    "print(ord('d'))\n",
    "print(bin(0x7f5034036e18))"
   ]
  },
  {
   "cell_type": "markdown",
   "metadata": {},
   "source": [
    "## python 中各种进制的转换\n",
    "\n",
    "- 二进制 0b \n",
    "    - 函数: bin()\n",
    "- 八进制 0o \n",
    "    - 函数：oct()\n",
    "- 十进制\n",
    "    - 函数：int()\n",
    "- 十六进制0x\n",
    "    - 函数：hex()"
   ]
  },
  {
   "cell_type": "code",
   "execution_count": 5,
   "metadata": {},
   "outputs": [
    {
     "name": "stdout",
     "output_type": "stream",
     "text": [
      "Help on built-in function bin in module builtins:\n",
      "\n",
      "bin(number, /)\n",
      "    Return the binary representation of an integer.\n",
      "    \n",
      "    >>> bin(2796202)\n",
      "    '0b1010101010101010101010'\n",
      "\n"
     ]
    }
   ],
   "source": [
    "help(bin)"
   ]
  },
  {
   "cell_type": "markdown",
   "metadata": {},
   "source": [
    "##  程序入口\n",
    "\n",
    "- if __name__ = __main__:\n",
    "    程序块   \n",
    "    \n",
    "    - 如果我们是直接执行某个.py文件的时候，该文件中那么”__name__ == '__main__'“是True,\n",
    "    - 但是我们如果从另外一个.py文件通过import导入该文件的时候，这时__name__的值就是我们这个py文件的名字而不是__main__。\n",
    "\n",
    "    - 这个功能还有一个用处：调试代码的时候，在”if __name__ == '__main__'“中加入一些我们的调试代码，\n",
    "    - 我们可以让外部模块调用的时候不执行我们的调试代码，但是如果我们想排查问题的时候，直接执行该模块文件，调试代码能够正常运行！"
   ]
  },
  {
   "cell_type": "code",
   "execution_count": 17,
   "metadata": {},
   "outputs": [
    {
     "name": "stdout",
     "output_type": "stream",
     "text": [
      "6\n",
      "2.0\n",
      "64\n",
      "3\n",
      "2.5\n",
      "6.0\n",
      "6\n"
     ]
    }
   ],
   "source": [
    "import math\n",
    "print(round(5.5))\n",
    "print(math.sqrt(4))\n",
    "print(pow(4,3))\n",
    "print(int(math.fabs(-3)))\n",
    "print(abs(-2.5))\n",
    "print(math.fsum([1,2,3]))\n",
    "print(sum([1,2,3]))"
   ]
  },
  {
   "cell_type": "code",
   "execution_count": 31,
   "metadata": {},
   "outputs": [
    {
     "name": "stdout",
     "output_type": "stream",
     "text": [
      "(0.5, 2.0)\n",
      "-2.0\n",
      "2\n",
      "['False', 'None', 'True', 'and', 'as', 'assert', 'break', 'class', 'continue', 'def', 'del', 'elif', 'else', 'except', 'finally', 'for', 'from', 'global', 'if', 'import', 'in', 'is', 'lambda', 'nonlocal', 'not', 'or', 'pass', 'raise', 'return', 'try', 'while', 'with', 'yield']\n"
     ]
    }
   ],
   "source": [
    "print(math.modf(2.5))\n",
    "print(math.copysign(2,-3))\n",
    "print(math.floor(2.8))\n",
    "\n",
    "print(keyword.kwlist)\n"
   ]
  },
  {
   "cell_type": "code",
   "execution_count": 62,
   "metadata": {},
   "outputs": [
    {
     "name": "stdout",
     "output_type": "stream",
     "text": [
      "2.700693486787239\n",
      "Help on method randrange in module random:\n",
      "\n",
      "randrange(start, stop=None, step=1, _int=<class 'int'>) method of random.Random instance\n",
      "    Choose a random item from range(start, stop[, step]).\n",
      "    \n",
      "    This fixes the problem with randint() which includes the\n",
      "    endpoint; in Python this is usually not what you want.\n",
      "\n"
     ]
    }
   ],
   "source": [
    "print(random.uniform(1,3))\n",
    "help(random.randrange)"
   ]
  }
 ],
 "metadata": {
  "kernelspec": {
   "display_name": "Python 3",
   "language": "python",
   "name": "python3"
  },
  "language_info": {
   "codemirror_mode": {
    "name": "ipython",
    "version": 3
   },
   "file_extension": ".py",
   "mimetype": "text/x-python",
   "name": "python",
   "nbconvert_exporter": "python",
   "pygments_lexer": "ipython3",
   "version": "3.6.3"
  }
 },
 "nbformat": 4,
 "nbformat_minor": 2
}
