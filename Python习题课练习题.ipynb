{
 "cells": [
  {
   "cell_type": "markdown",
   "metadata": {},
   "source": [
    "# 水仙花数\n",
    "\n",
    "- 水仙花数的定义：\n",
    "    - 如果一个数，等于其每位数字的立方的和，即水仙花数\n",
    " "
   ]
  },
  {
   "cell_type": "code",
   "execution_count": 6,
   "metadata": {},
   "outputs": [
    {
     "name": "stdout",
     "output_type": "stream",
     "text": [
      "153是水仙花数\n",
      "370是水仙花数\n",
      "371是水仙花数\n",
      "407是水仙花数\n",
      "已找出100到999之间的所有水仙花数\n"
     ]
    }
   ],
   "source": [
    "# 求100 到 999 之间的水仙花数\n",
    "# range 函数是 包含开头，不包含结尾，使用for循环来进行每个数字的尝试，使用条件判断\n",
    "for i in range(100,1000):\n",
    "    # 想办法解决分别提取三位数中的 每一位\n",
    "    # list函数的参数只能是字符串\n",
    "    num = list(str(i))\n",
    "    # 使用列表，分别取出三位数中的每一位\n",
    "    # 但是此时取出的是属性是字符串，需要是用int 函数，将他们变成整数类型\n",
    "    a = int(num[0])\n",
    "    b = int(num[1])\n",
    "    c = int(num[2])\n",
    "    # 使用条件判断，循环中的每个数，是否符合水仙花数的定义\n",
    "    if a**3 + b**3 + c**3 == i:\n",
    "        print('{0}是水仙花数'.format(i))\n",
    "print('已找出100到999之间的所有水仙花数')"
   ]
  },
  {
   "cell_type": "markdown",
   "metadata": {},
   "source": [
    "# 三色球问题\n",
    "\n",
    "- 有红黄蓝三种颜色的球，其中红球3个，黄球3个，绿球6个，先将这12个球混合放在一个盒子里，从中任意摸出8个球\n",
    "- 编程计算摸出的各种球的颜色搭配"
   ]
  },
  {
   "cell_type": "code",
   "execution_count": 8,
   "metadata": {},
   "outputs": [
    {
     "name": "stdout",
     "output_type": "stream",
     "text": [
      "red:0,yellow:1,green:7\n",
      "red:0,yellow:2,green:6\n",
      "red:0,yellow:3,green:5\n",
      "red:1,yellow:0,green:7\n",
      "red:1,yellow:1,green:6\n",
      "red:1,yellow:2,green:5\n",
      "red:1,yellow:3,green:4\n",
      "red:2,yellow:0,green:6\n",
      "red:2,yellow:1,green:5\n",
      "red:2,yellow:2,green:4\n",
      "red:2,yellow:3,green:3\n",
      "red:3,yellow:0,green:5\n",
      "red:3,yellow:1,green:4\n",
      "red:3,yellow:2,green:3\n",
      "red:3,yellow:3,green:2\n"
     ]
    }
   ],
   "source": [
    "#  因为总共摸出8个球，所以，可能会没有红球，或者没有黄球，但是起码会有2个绿球\n",
    "# 计算机是一个一个来进行顺序计算，因此，可以从0个红球开始，然后\n",
    "for red in range(0,4):\n",
    "    for yellow in range(0,4):\n",
    "        for green in range(2,8):\n",
    "            # 在罗列了所有可能的情况下，使用条件判断，\n",
    "            if red + yellow + green == 8:\n",
    "                print('red:{0},yellow:{1},green:{2}'.format(red,yellow,green))"
   ]
  },
  {
   "cell_type": "code",
   "execution_count": 10,
   "metadata": {},
   "outputs": [
    {
     "name": "stdout",
     "output_type": "stream",
     "text": [
      "red:0,yellow:2,green:6\n",
      "red:0,yellow:3,green:5\n",
      "red:1,yellow:1,green:6\n",
      "red:1,yellow:2,green:5\n",
      "red:1,yellow:3,green:4\n",
      "red:2,yellow:0,green:6\n",
      "red:2,yellow:1,green:5\n",
      "red:2,yellow:2,green:4\n",
      "red:2,yellow:3,green:3\n",
      "red:3,yellow:0,green:5\n",
      "red:3,yellow:1,green:4\n",
      "red:3,yellow:2,green:3\n",
      "red:3,yellow:3,green:2\n"
     ]
    }
   ],
   "source": [
    "for red in range(0,4):\n",
    "    for yellow in range(0,4):\n",
    "        for green in range(0,7):\n",
    "            # 在罗列了所有可能的情况下，使用条件判断，\n",
    "            if red + yellow + green == 8:\n",
    "                print('red:{0},yellow:{1},green:{2}'.format(red,yellow,green))\n",
    "                \n",
    "# 这里是想说明，在视频里，说的是绿球的range函数参数是2,7，其实没必要，如果红球是0的话，黄球不可能从0开始循环"
   ]
  },
  {
   "cell_type": "markdown",
   "metadata": {},
   "source": [
    "### 请问如何将下面的这个列表的“图灵学院” 修改为汽车销售呢\n",
    "\n",
    "###      l = [1, [1, 2, ['图灵学院' ]], 3, 5 ,8, 13, 18]\n"
   ]
  },
  {
   "cell_type": "code",
   "execution_count": 13,
   "metadata": {},
   "outputs": [
    {
     "name": "stdout",
     "output_type": "stream",
     "text": [
      "[1, [1, 2, ['汽车销售']], 3, 5, 8, 13, 18]\n"
     ]
    }
   ],
   "source": [
    "# 这里的知识点，说的是列表嵌套的问题，最内层的索引是依次列出来的\n",
    "l = [1, [1, 2, ['图灵学院' ]], 3, 5 ,8, 13, 18]\n",
    "l[1][2][0] = '汽车销售'\n",
    "print(l)"
   ]
  },
  {
   "cell_type": "code",
   "execution_count": 17,
   "metadata": {},
   "outputs": [
    {
     "name": "stdout",
     "output_type": "stream",
     "text": [
      "[(0, 0), (0, 2), (0, 4), (0, 6), (0, 8), (2, 0), (2, 2), (2, 4), (2, 6), (2, 8), (4, 0), (4, 2), (4, 4), (4, 6), (4, 8), (6, 0), (6, 2), (6, 4), (6, 6), (6, 8), (8, 0), (8, 2), (8, 4), (8, 6), (8, 8)]\n"
     ]
    }
   ],
   "source": [
    "l = [(x,y) for x in range(10) for y in range(10) if x%2==0 if y%2==0]\n",
    "print(l)\n",
    "\n"
   ]
  },
  {
   "cell_type": "code",
   "execution_count": 20,
   "metadata": {},
   "outputs": [
    {
     "name": "stdout",
     "output_type": "stream",
     "text": [
      "[(0, 0), (0, 2), (0, 4), (0, 6), (0, 8), (2, 0), (2, 2), (2, 4), (2, 6), (2, 8), (4, 0), (4, 2), (4, 4), (4, 6), (4, 8), (6, 0), (6, 2), (6, 4), (6, 6), (6, 8), (8, 0), (8, 2), (8, 4), (8, 6), (8, 8)]\n"
     ]
    }
   ],
   "source": [
    "l = []\n",
    "for m in range(10):\n",
    "    for n in range(10):\n",
    "        if m%2==0 and n%2==0:\n",
    "            l.append((m,n))\n",
    "print(l)"
   ]
  },
  {
   "cell_type": "markdown",
   "metadata": {},
   "source": [
    "### 写一个程序来管理用于登陆系统的用户信息：登录名和密码，登陆账号建立后，已存在用户可以用登陆名字和密码重返系统，新用户不能用别人的用户名建立账号\n",
    "\n",
    "- 建立账号，包含信息：用户名，密码\n",
    "- 已存在用户可以使用用户名和密码登陆\n",
    "- 不能重复使用已有的用户名"
   ]
  },
  {
   "cell_type": "code",
   "execution_count": 4,
   "metadata": {},
   "outputs": [
    {
     "name": "stdout",
     "output_type": "stream",
     "text": [
      "恭喜，用户名可用\n",
      "{'zhangsan': 123456, 'lisi': 111111, 'wangwu': 222222, 'likai': 111111}\n"
     ]
    }
   ],
   "source": [
    "# 模拟用户信息的数据库\n",
    "user_pass = {'zhangsan':123456,'lisi':111111,'wangwu':222222}\n",
    "\n",
    "# 写一个创建用户信息的函数,包含两个参数：username是用户建立的 用户名，password是用户账号的密码\n",
    "def creat_user(username,password):\n",
    "    # 需要判断用户创建的账号是不是已经存在，为什么不判断密码，因为不同的账户可以密码相同\n",
    "    usernames = user_pass.keys()\n",
    "    if username in usernames:\n",
    "        print(\"用户名已存在\")\n",
    "    else:\n",
    "        # 如果没有存在，那就创建，并且存储到数据库\n",
    "        user_pass[username] = password\n",
    "        print(\"恭喜，用户名可用\")\n",
    "        \n",
    "creat_user('likai',111111)\n",
    "# 此时用户数据库已更新\n",
    "print(user_pass)"
   ]
  },
  {
   "cell_type": "code",
   "execution_count": 8,
   "metadata": {},
   "outputs": [
    {
     "name": "stdout",
     "output_type": "stream",
     "text": [
      "欢迎回来\n",
      "用户名不存在\n",
      "密码不对\n"
     ]
    }
   ],
   "source": [
    "#  补充说明下下面的逻辑，为什么要把密码正确放在最后\n",
    "# 一般类似的流程，都是先把不行的放在前面进行判断最红满足条件的，放在最后。\n",
    "# 可能是条件判断式，最终的else语句，等于是没有其他可能了，只有这一种可能了\n",
    "def login_user(username,password):\n",
    "    # 首先还是要判断，登陆用户名是否存在\n",
    "    usernames = user_pass.keys()\n",
    "    if username not in usernames:\n",
    "        print('用户名不存在')\n",
    "    elif password != user_pass[username]:\n",
    "        # 判断用户的密码是否正确\n",
    "        print('密码不对')\n",
    "    else:\n",
    "        print('欢迎回来')\n",
    "        \n",
    "login_user('lisi',111111)\n",
    "login_user('feifei',1111)\n",
    "login_user('zhangsan',33333)"
   ]
  },
  {
   "cell_type": "markdown",
   "metadata": {},
   "source": [
    "###  定义一个学生类，有下面的属性\n",
    "\n",
    "        1，姓名\n",
    "        2，年龄\n",
    "        3，成绩（语文，数学，英语）每课成绩类型为整数  \n",
    "        类方法：\n",
    "        1，获取学生的姓名：get_name()返回的类型是str\n",
    "        2，获取学生的年纪：get_age()返回类型int\n",
    "        3，返回3门课中的最高的分数，get_course()返回类型：int\n",
    "\n"
   ]
  },
  {
   "cell_type": "code",
   "execution_count": 12,
   "metadata": {},
   "outputs": [
    {
     "name": "stdout",
     "output_type": "stream",
     "text": [
      "jim\n",
      "18\n",
      "95\n"
     ]
    }
   ],
   "source": [
    "class Student():\n",
    "    def __init__(self,name,age,scores):\n",
    "        self.name = name\n",
    "        self.age = age\n",
    "        self.scores = scores\n",
    "        \n",
    "    # 类方法，获取年龄\n",
    "    def get_name(self):\n",
    "        return self.name\n",
    "    \n",
    "    def get_age(self):\n",
    "        return self.age\n",
    "    def get_score(self):\n",
    "        return max(self.scores)\n",
    "    \n",
    "stu = Student('jim',18,[90,95,85])\n",
    "print(stu.get_name())\n",
    "print(stu.get_age())\n",
    "print(stu.get_score())"
   ]
  },
  {
   "cell_type": "markdown",
   "metadata": {},
   "source": [
    "### 定义一个字典类：DictClass，完成如下功能\n",
    "\n",
    "    1，删除某个key  del_dict(key)\n",
    "    2，判断某个键是否在字典中，如果在，返回对应的值，不在，则返回'not found'  get_dict()\n",
    "    3，返回键组成的列表， 返回类型：list  get_key()\n",
    "    4，合并字典，并且返回合并后字典的values组成的类表，返回类型list  update_dict()"
   ]
  },
  {
   "cell_type": "code",
   "execution_count": 49,
   "metadata": {},
   "outputs": [
    {
     "name": "stdout",
     "output_type": "stream",
     "text": [
      "dict_items([('a', 1), ('b', 2)])\n"
     ]
    }
   ],
   "source": [
    "class DictClass(object):\n",
    "    def __init__(self,dict):\n",
    "        self.dict = dict\n",
    "        \n",
    "    def del_dict(self,key):\n",
    "        if key not in self.dict.keys():\n",
    "            return 'not found'\n",
    "        else:\n",
    "            self.dict.pop(key)\n",
    "            return '删除成功'\n",
    "            \n",
    "    def get_dict(self,key):\n",
    "        if key not in self.dict.keys():\n",
    "            return 'not found'\n",
    "        else:\n",
    "            return self.dict[key]\n",
    "    \n",
    "    def get_key(self):\n",
    "        return self.dict.keys()\n",
    "    \n",
    "    def update_dict(self,dict1):\n",
    "        self.dict = dict(self.dict,**dict1)\n",
    "        # 字典方法values，返回一个由字典的值组成的字典视图\n",
    "        # 跟方法keys()一样，返回的都是类表形式\n",
    "        return self.dict.values()\n",
    "    \n",
    "    def get_items(self):\n",
    "        # 同上，方法items 返回一个由字典所有键值对组成的列表\n",
    "        return self.dict.items()\n",
    "            \n",
    "dd = DictClass({'a':1,'b':2})\n",
    "print(dd.get_items())"
   ]
  },
  {
   "cell_type": "markdown",
   "metadata": {},
   "source": [
    "### 定义一个列表的操作类\n",
    "\n",
    "    包括的方法：\n",
    "        1，列表元素添加：add_key() \n",
    "        2，列表元素取值：get_key()\n",
    "        3，列表合并： update_list()\n",
    "        4，删除并且返回最后一个元素：del_key()\n",
    "        \n",
    "        - 修改要求，添加的元素必须是字符串或者是整数"
   ]
  },
  {
   "cell_type": "code",
   "execution_count": 23,
   "metadata": {},
   "outputs": [
    {
     "name": "stdout",
     "output_type": "stream",
     "text": [
      "[1, 2, 3]\n"
     ]
    }
   ],
   "source": [
    "class ListInfo():\n",
    "    \"\"\"\n",
    "    总结一下：\n",
    "    1，每次自己在类中添加方法，都会忘记写self.list1，导致每次都报错，这个需要留意，因为不加self.list1，会让在实例化的时候，无法调用参数\n",
    "    2，开始在视频中，无法理解self.list = list_value是什么意思，其实list_value是一个类的属性，在调用的时候会传入的，所以只是个代号\n",
    "\n",
    "    \"\"\"\n",
    "    \n",
    "    \n",
    "\n",
    "    # 这里的 list_calue，是ListInfo的一个属性，这个类的属性，是一个列表，在实例化的时候，就能看到需要给一个列表参数\n",
    "    def __init__(self,list1):\n",
    "        self.list1 = list1\n",
    "        \n",
    "    # 定义一个列表元素添加的方法  add_key()\n",
    "    def add_key(self,key_name):\n",
    "        if isinstance(key_name,(str,int)):\n",
    "            self.list1.append(key_name)\n",
    "            return 'OK'\n",
    "        else:\n",
    "            return '只能是字符串和数字'\n",
    "    \n",
    "    # 获取列表元素，使用索引\n",
    "    def get_key(self,index):\n",
    "        if index>=0 and index<len(self.list1):\n",
    "            return self.list1[index]\n",
    "        else:\n",
    "            return '超出索引了'\n",
    "    \n",
    "    def update_list(self,list2):\n",
    "        return self.list1+list2\n",
    "    \n",
    "    # 重写上面的方法：使用extend \n",
    "    def update1_list(self,list3):\n",
    "        # 这里不能直接return ，否则会返回一个None\n",
    "        self.list1.extend(list3)\n",
    "        return self.list1\n",
    "    \n",
    "    def del_key(self):\n",
    "        # 这里是大于 0 ，视频课里是大于等于0 ，我觉得是不对的\n",
    "        # 开始我自己写的，并没有if 语句判断，我觉得使用if语句判断，比较严禁一些\n",
    "        if len(self.list1)>0:\n",
    "            return self.list1.pop()\n",
    "        else:\n",
    "            return '已经没有元素了'\n",
    "        \n",
    "ll = ListInfo([1,2,3])\n",
    "# ll.add_key('4')\n",
    "# ll.add_key(5)\n",
    "print(ll.list1)\n",
    "# print(ll.del_key())\n",
    "# print(ll.update1_list([9,10]))\n",
    "# print(ll.del_key())"
   ]
  },
  {
   "cell_type": "markdown",
   "metadata": {},
   "source": [
    "### 定义一个集合的操作类\n",
    "\n",
    "    包括的方法：\n",
    "    1，集合元素添加： add_setinfo()\n",
    "    2，集合的交集: get_intersection()\n",
    "    3，集合的并集: get_union()\n",
    "    4，集合的差集: get_difference()"
   ]
  },
  {
   "cell_type": "code",
   "execution_count": 21,
   "metadata": {},
   "outputs": [
    {
     "name": "stdout",
     "output_type": "stream",
     "text": [
      "{1, 2, 3, 4, 5, 6}\n",
      "{1, 2, 5, 6}\n"
     ]
    }
   ],
   "source": [
    "class Setinfo():\n",
    "    \n",
    "    def __init__(self,new_set):\n",
    "        self.set1 = new_set\n",
    "        \n",
    "    def add_setinfo(self,set2):\n",
    "        self.set1.add(set2)\n",
    "        # 注意这里不能在上面直接return，没有返回值，返回的是None，下面的并集，差集，交集都可以直接return\n",
    "        # 那么如何知道怎么使用return呢，可以先尝试把这些记住，实在不行就在写代码的时候去尝试。\n",
    "        return self.set1\n",
    "      \n",
    "    \n",
    "    def get_intersection(self,set3):\n",
    "        return self.set1 & set3\n",
    "        \n",
    "        \n",
    "    def get_union(self,set4):\n",
    "        return self.set1 | set4\n",
    "        \n",
    "    def get_difference(self,set5):\n",
    "        return self.set1 - set5\n",
    "    \n",
    "my_set = Setinfo({1,2,3,4,5})\n",
    "# 注意这里的参数，可以是单个数字，可以是元组，但是不能是列表\n",
    "# A = (4,5)\n",
    "print(my_set.add_setinfo(6))\n",
    "\n",
    "# print(my_set.get_intersection({3,4}))\n",
    "\n",
    "# print(my_set.get_union({4,5,6}))\n",
    "\n",
    "print(my_set.get_difference({3,4}))"
   ]
  }
 ],
 "metadata": {
  "kernelspec": {
   "display_name": "Python 3",
   "language": "python",
   "name": "python3"
  },
  "language_info": {
   "codemirror_mode": {
    "name": "ipython",
    "version": 3
   },
   "file_extension": ".py",
   "mimetype": "text/x-python",
   "name": "python",
   "nbconvert_exporter": "python",
   "pygments_lexer": "ipython3",
   "version": "3.6.3"
  }
 },
 "nbformat": 4,
 "nbformat_minor": 2
}
