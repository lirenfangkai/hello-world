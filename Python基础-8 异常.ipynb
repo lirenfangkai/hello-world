{
 "cells": [
  {
   "cell_type": "markdown",
   "metadata": {},
   "source": [
    "## 异常概述：\n",
    "\n",
    "- 程序运行中，难免会出现各种错误，为了不让这些错误影响程序运行，或者影响程序总体，我们需要用异常来确保函数的稳定。\n",
    "- 异常可能是错误，也可能是无法预期的情况出现。\n",
    "\n",
    "- Python中使用异常对象，来表示异常状态，这是因为异常本身也是一个类。\n",
    "    - 每个异常，都是某一类的异常的一个对象。"
   ]
  },
  {
   "cell_type": "markdown",
   "metadata": {},
   "source": [
    "####  主动引出异常：\n",
    "\n",
    "- 使用raise语句，并将一个类，(必须是Exception的子类)，或实例作为参数。\n",
    "    - 将类作为参数时，将自动穿件一个实例\n",
    "    \n",
    "- 常见的异常类：\n",
    "    - Exception :  几乎所有的异常类，都是由它派生而来\n",
    "    - AttributeError：属性或者赋值错误\n",
    "    - OsError   ：操作系统不能执行特定任务，有多个子类\n",
    "    - IndexError ： 使用序列中不存在的索引引发的，为LoodupError的子类\n",
    "    - KeyError  ：使用映射中不存在的键，引发的错误，为LookupError的子类\n",
    "    - NameError ：找到变量名的错误\n",
    "    - SytaxError：语法错误\n",
    "    - TyperError：类型错误\n",
    "    - ValueError：值错误\n",
    "    - ZeroDivisionError：零除错误。\n",
    "   \n",
    "-     \n",
    "- 可以自定义异常类，但是必须继承 Exception 这个类。"
   ]
  },
  {
   "cell_type": "code",
   "execution_count": 1,
   "metadata": {},
   "outputs": [
    {
     "ename": "Exception",
     "evalue": "",
     "output_type": "error",
     "traceback": [
      "\u001b[1;31m---------------------------------------------------------------------------\u001b[0m",
      "\u001b[1;31mException\u001b[0m                                 Traceback (most recent call last)",
      "\u001b[1;32m<ipython-input-1-fca2ab0ca76b>\u001b[0m in \u001b[0;36m<module>\u001b[1;34m()\u001b[0m\n\u001b[1;32m----> 1\u001b[1;33m \u001b[1;32mraise\u001b[0m \u001b[0mException\u001b[0m\u001b[1;33m\u001b[0m\u001b[0m\n\u001b[0m",
      "\u001b[1;31mException\u001b[0m: "
     ]
    }
   ],
   "source": [
    "raise Exception"
   ]
  },
  {
   "cell_type": "code",
   "execution_count": 2,
   "metadata": {},
   "outputs": [
    {
     "ename": "Exception",
     "evalue": "hyperdrive overload",
     "output_type": "error",
     "traceback": [
      "\u001b[1;31m---------------------------------------------------------------------------\u001b[0m",
      "\u001b[1;31mException\u001b[0m                                 Traceback (most recent call last)",
      "\u001b[1;32m<ipython-input-2-b31edcf659a9>\u001b[0m in \u001b[0;36m<module>\u001b[1;34m()\u001b[0m\n\u001b[1;32m----> 1\u001b[1;33m \u001b[1;32mraise\u001b[0m \u001b[0mException\u001b[0m\u001b[1;33m(\u001b[0m\u001b[1;34m'hyperdrive overload'\u001b[0m\u001b[1;33m)\u001b[0m\u001b[1;33m\u001b[0m\u001b[0m\n\u001b[0m",
      "\u001b[1;31mException\u001b[0m: hyperdrive overload"
     ]
    }
   ],
   "source": [
    "#  上面只是引发异常，下面有参数，会生成一个实例 hyperdrive overload，我猜这应该是实例的属性。\n",
    "raise Exception('hyperdrive overload')"
   ]
  },
  {
   "cell_type": "markdown",
   "metadata": {},
   "source": [
    "### 捕获异常\n",
    "\n",
    "    - 所称处理异常，使用try/except, 意识是：尝试这个，除此以外.......\n",
    "        - 异常还可以关闭和打开，这个暂时没看懂\n",
    "        \n",
    "    - 多个except子句：\n",
    "        - 多个except子句，为了能够检查出各种不同的异常类型。\n",
    "        \n",
    "    - 只是用一个except：\n",
    "        - 在except后使用元祖作为参数，将不同的异常类型作为元组。\n",
    "        - except(ZeroDivisionError,ValueError,TypeError) as e:\n",
    "            print(e)\n",
    "            print('This is error')\n",
    "        - 这里e 只是代号。\n",
    "        \n",
    "    - 还可以添加else代码块，将正确执行的代码的结果放在这里。适用于没有发生异常的时候，代码放在这里。\n",
    "    \n",
    "    - 最后还有一个finally语句，用于异常以后的清理。"
   ]
  },
  {
   "cell_type": "code",
   "execution_count": null,
   "metadata": {
    "collapsed": true
   },
   "outputs": [],
   "source": []
  },
  {
   "cell_type": "markdown",
   "metadata": {},
   "source": [
    "# 异常 \n",
    "\n",
    "## Python全栈系列异常课程"
   ]
  },
  {
   "cell_type": "markdown",
   "metadata": {},
   "source": [
    "### Python的异常处理模块 全部语法为：\n",
    "\n",
    "- \n",
    "            try:\n",
    "               尝试实现某个操作，\n",
    "               如果没有出现异常，任务可以完成\n",
    "               如果出现异常，将异常从当前代码块扔出去尝试解决异常\n",
    "               \n",
    "           except 异常类型1\n",
    "               解决方案1： 用于尝试再次处出来异常解决问题\n",
    "               \n",
    "           except 异常类型2：\n",
    "               解决方案2,：用于尝试在此处处理异常解决问题\n",
    "           \n",
    "           ...........可能有很多个\n",
    "           else：\n",
    "               如果没有出现任何异常，将会执行此处代码\n",
    "           finally：\n",
    "               管你有没有异常都要执行的代码\n",
    "               \n",
    "- 流程\n",
    "    - 执行try下面的语句\n",
    "    - 如果出现异常，则在except语句里查找对应的异常进行处理\n",
    "    - 如果没有异常，则执行else语句的内容\n",
    "    - 最后，不管是否出现异常，都要执行finally语句。\n",
    "    \n",
    "- 如果有多重错误，越具体的错误，往上放。\n",
    "- 在异常类继承关系中，越是子类的异常，越要往前放\n",
    "- 越是父类的异常，越要往后放\n",
    "- 在处理异常的时候，一旦拦截到某一个异常，则不继续往下查看，直接进行下一个代码\n",
    "    - 即：有finally则执行finally语句块，否则执行下一个大的语句块\n",
    "    \n",
    "- 所有异常都是Exception的子类，如果不知道会有什么异常，就把这个写出来\n",
    "    - Exception会拦截任何可能出现的异常"
   ]
  },
  {
   "cell_type": "code",
   "execution_count": 2,
   "metadata": {},
   "outputs": [
    {
     "name": "stdout",
     "output_type": "stream",
     "text": [
      "请输入数字：0\n",
      "不对\n"
     ]
    }
   ],
   "source": [
    "try:\n",
    "    num = int(input(\"请输入数字：\"))\n",
    "    result = 100/num\n",
    "    print(result)\n",
    "except:\n",
    "    print(\"不对\")\n",
    "    # exit是退出的意思，有这个，丘比特笔记本的终端会断开\n",
    "    exit()"
   ]
  },
  {
   "cell_type": "markdown",
   "metadata": {},
   "source": [
    "### 自定义异常：\n",
    "\n",
    "- 只要是raise异常，则推荐自定义异常\n",
    "- 在自定义异常的时候，一般包含以下内容\n",
    "    - 自定义发生异常的异常代码\n",
    "    - 自定义发生异常后的问题提示\n",
    "    - 自定义发生异常的行数\n",
    "- 最终的目的是，一旦发横异常，方便程序员快速定位错误现场。"
   ]
  }
 ],
 "metadata": {
  "kernelspec": {
   "display_name": "Python 3",
   "language": "python",
   "name": "python3"
  },
  "language_info": {
   "codemirror_mode": {
    "name": "ipython",
    "version": 3
   },
   "file_extension": ".py",
   "mimetype": "text/x-python",
   "name": "python",
   "nbconvert_exporter": "python",
   "pygments_lexer": "ipython3",
   "version": "3.6.3"
  }
 },
 "nbformat": 4,
 "nbformat_minor": 2
}
