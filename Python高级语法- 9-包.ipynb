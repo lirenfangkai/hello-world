{
 "cells": [
  {
   "cell_type": "markdown",
   "metadata": {},
   "source": [
    "# 模块\n",
    "\n",
    "- 模块就是一个包含Python的代码的文件，后缀名称是.py。\n",
    "\n",
    "- 模块的用途：\n",
    "    - 解决程序太大，不方便维护的问题\n",
    "    - 模块可以增加代码重复利用\n",
    "    - 当做命名空间使用，避免命名冲突\n",
    "\n",
    "- 如何定义模块：\n",
    "    - 模块是一个普通文件，任何代码可以直接书写。\n",
    "    - 常包含以下内容：\n",
    "        - 函数（单一功能）\n",
    "        - 类：\n",
    "        - 测试代码，用以防止别修改以后，检查代码安全情况。\n",
    "        \n",
    "- 如何导入模块：\n",
    "    - import module_name\n",
    "        - module_name的命名最好符合变量的命名规范，以纯数字命名的变量名，需要以特殊方式导入。\n",
    "        - module_name.function_name \n",
    "        - module_name.class_name\n",
    "    - from module_name import class_name\n",
    "        - 变量 = class_name，可以直接使用，对比上面的导入方式，这种在实例化的时候，不需要制定模块名了。\n",
    "        - 这种适合只使用你的一个功能\n",
    "    - from module_name import function_name\n",
    "    - import module_name as 别名，为了简化模块名，或者防止命名冲突，采用别名来区分。\n",
    "    - \n",
    "-  借助于importlib包，可以实现导入以数字开头的模块名称。\n",
    "    - import importlib\n",
    "    - tuling = importlib.import_mofule(\"01\") # 相当于导入了一个叫01的模块，并把导入模块赋值给了tuling\n",
    "    \n",
    "- 建议所有程序的入口：\n",
    "    - if __name__ == '__main__':\n",
    "        语句块\n",
    "    - 作用：当模块自己执行的时候需要执行的语句，而被调用的时候不希望被执行的语句，放在if 语句块下面。\n",
    "    - 这里的main是模块主程序本体，当模块自己执行的时候，name 是等于main的，当被调用的时候，name就是模块名了。"
   ]
  },
  {
   "cell_type": "markdown",
   "metadata": {},
   "source": [
    "## 模块的搜索路径和存储\n",
    "\n",
    "- 模块的搜索路径：\n",
    "    - 什么是模块的搜索路径：加载模块的时候，系统会在哪些地方寻找此模块。\n",
    "    - 系统的默认模块搜索路径：\n",
    "        -  import sys\n",
    "          sys.path  属性可以获取路径列表。\n",
    "    - 添加搜索路径：\n",
    "        - sys.path.append(dir)\n",
    "    \n",
    "    - 模块加载顺序：\n",
    "        - 上搜索内存中已加载好的模块\n",
    "        - 搜索Python的内置模块\n",
    "        - 搜索sys.path 路劲"
   ]
  },
  {
   "cell_type": "code",
   "execution_count": 4,
   "metadata": {},
   "outputs": [
    {
     "name": "stdout",
     "output_type": "stream",
     "text": [
      "<class 'list'>\n",
      "\n",
      "C:\\ProgramData\\Anaconda3\\python36.zip\n",
      "C:\\ProgramData\\Anaconda3\\DLLs\n",
      "C:\\ProgramData\\Anaconda3\\lib\n",
      "C:\\ProgramData\\Anaconda3\n",
      "C:\\ProgramData\\Anaconda3\\lib\\site-packages\n",
      "C:\\ProgramData\\Anaconda3\\lib\\site-packages\\Babel-2.5.0-py3.6.egg\n",
      "C:\\ProgramData\\Anaconda3\\lib\\site-packages\\win32\n",
      "C:\\ProgramData\\Anaconda3\\lib\\site-packages\\win32\\lib\n",
      "C:\\ProgramData\\Anaconda3\\lib\\site-packages\\Pythonwin\n",
      "C:\\ProgramData\\Anaconda3\\lib\\site-packages\\IPython\\extensions\n",
      "C:\\Users\\李凯\\.ipython\n"
     ]
    }
   ],
   "source": [
    "import sys\n",
    "print(type(sys.path))\n",
    "for i in sys.path:\n",
    "    print(i)"
   ]
  },
  {
   "cell_type": "markdown",
   "metadata": {},
   "source": [
    "# 包\n",
    "\n",
    "- 包是一个大于模块的概念，一个包里可以有很多模块的文件夹。\n",
    "- 包是一种组织管理代码的方式，包里存放的是模块。\n",
    "\n",
    "- 包的结构：\n",
    "    - ——包\n",
    "    - ——/—— __init__.py  包的标志文件\n",
    "    - ——/—— 模块1\n",
    "    - ——/—— 模块2\n",
    "    - ——/—— 子包（子文件夹）\n",
    "    - ——/——/—— __init__ .py 子包标志文件\n",
    "    - ——/——/—— 子包模块1\n",
    "    - ——/——/—— 子包模块2"
   ]
  },
  {
   "cell_type": "markdown",
   "metadata": {},
   "source": [
    "## 包的导入操作\n",
    "\n",
    "- import package_name\n",
    "    - 直接导入一个包，可以使用__init__.py中的内容\n",
    "    - 使用方式：：\n",
    "        - package_name.func_name\n",
    "        - package_name.class_name.function_name()\\\n",
    "    - 此种方式的方位内容是：\n",
    "        - \n",
    "        \n",
    "    - import package_name as P（别名）\n",
    "        - 具体用法跟上述导入一致\n",
    "        - 此种方法是默认对__init__.py内容的导入\n",
    "        \n",
    "    - import package.module 可以避开上面默认对__init__.py的导入\n",
    "        - 导入包中某一具体的模块\n",
    "        - 使用方法：\n",
    "            - package.module.func_name\n",
    "            - package.module.class.func()\n",
    "            - package.module\n",
    "            \n",
    "- 另外一种导入模式：from package_name import module_name\n",
    "    - 此种模式不执行__init__的内容\n",
    "    \n",
    "- from package_name import *\n",
    "    - 注意此种调入，调入的是所有__init__里面的内容，并没有调入其他模块\n",
    "    \n",
    "- '__all__'的用法\n",
    "    - 当__init__里不为空的情况下，用all来设置哪些需要导入，哪些不需要\n",
    "    - __all__ = ['module_name1','module_name2'......]"
   ]
  },
  {
   "cell_type": "markdown",
   "metadata": {},
   "source": [
    "## 命名空间\n",
    "\n",
    "- 用于区分 不同位置，不同功能，但是相同名称的函数或者变量的一个特定前缀\n",
    "- 作用是防止命名冲突\n",
    "    - setName()\n",
    "    - Student.setName()\n",
    "    - Dog.setName()\n",
    "    - 前面都是前缀，为了区分"
   ]
  }
 ],
 "metadata": {
  "kernelspec": {
   "display_name": "Python 3",
   "language": "python",
   "name": "python3"
  },
  "language_info": {
   "codemirror_mode": {
    "name": "ipython",
    "version": 3
   },
   "file_extension": ".py",
   "mimetype": "text/x-python",
   "name": "python",
   "nbconvert_exporter": "python",
   "pygments_lexer": "ipython3",
   "version": "3.6.3"
  }
 },
 "nbformat": 4,
 "nbformat_minor": 2
}
