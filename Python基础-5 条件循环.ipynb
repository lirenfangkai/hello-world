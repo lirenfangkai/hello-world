{
 "cells": [
  {
   "cell_type": "markdown",
   "metadata": {
    "collapsed": true
   },
   "source": [
    "# 5 条件、循环及其他语句"
   ]
  },
  {
   "cell_type": "markdown",
   "metadata": {},
   "source": [
    "## 5.1 赋值魔法\n",
    "\n",
    "### 5.1.1  序列解包\n",
    "    - 一些打包的值，使用变量分别访问。\n",
    "    - 变量的值，需跟打包的值，在数量上相同。\n",
    "    \n",
    "    - 注意，如果有未知数量的值，可以在赋值语句中，将变量用收集参数 *args 来表示。\n",
    "    \n",
    "    \n",
    "### 5.1.2 链式赋值\n",
    "\n",
    "    - 将多个变量关联到同一个值。\n",
    "    - a = b = c = 2\n",
    "    \n",
    "    \n",
    "### 5.1.3 增强赋值\n",
    "\n",
    "    - 类似于递增赋值：a += 2  等同于  a = a + 2 \n",
    "    \n",
    "    \n",
    "    "
   ]
  },
  {
   "cell_type": "markdown",
   "metadata": {},
   "source": [
    "## 5.2 代码块\n",
    "\n",
    "    - 相同的缩进，属于一个代码块。"
   ]
  },
  {
   "cell_type": "markdown",
   "metadata": {},
   "source": [
    "## 5.3 条件和条件语句\n",
    "\n",
    "\n",
    "### 5.3.1 布尔值\n",
    "\n",
    "    - 在布尔表达式中，下面这些为假：False、 None、 0 、 '' 、 （）、 [] 、 {}\n",
    "    - 除上面的以外都为真： True \n",
    "    - 布尔类型跟list  str tuple 一样，可以转换其他类型\n",
    "        - boor（2），返回True\n",
    "        \n",
    "        \n",
    "### 5.3.2 if条件语句\n",
    "\n",
    "    - 条件表达式可以合起来写：a = 'friend' if name.endswith('S') else 'enemy'\n",
    "    - 要检查多个条件，可以是用elif\n",
    "        - 比较运算：\n",
    "            - 相等运算： 两个等号，表示相等\n",
    "            - is 相同运算，注意，相等不等于相同。\n",
    "            - in 成员资格运算\n",
    "            - 字符串的的比较：按照字母顺序比较，如果第一个分不出大小，就进行第二个。\n",
    "                - 大小写不能直接比较，需要使用lower方法转换为小写进行比较。\n",
    "            - 序列的比较也是，按照前后顺序来依次进行比较，直到分出大小位置\n",
    "            \n",
    "            \n",
    "        - 布尔运算符：and  or  not\n",
    "        \n",
    "        \n",
    "        - 断言：\n",
    "            - 让程序在错误条件出现时立刻崩溃，胜过以后再崩溃。\n",
    "            - 断言关键字：assert。\n",
    "            - 如果知道必须满足特定条件，程序才能运行，可在程序中添加assert 语句充当检查点\n",
    "            - assert 条件后，还可添加字符串，对断言做出说明。\n",
    "                - assert 条件表达式，'对断言做的说明'\n"
   ]
  },
  {
   "cell_type": "markdown",
   "metadata": {},
   "source": [
    "## 5.4 循环\n",
    "\n",
    "    - while循环\n",
    "    - for循环\n",
    "    - 只要能使用for 循环，就不要使用 while循环——书上说的。\n",
    "    \n",
    "    - for 循环的优点是在遍历字典的时候，可以使用解包功能 。"
   ]
  },
  {
   "cell_type": "markdown",
   "metadata": {},
   "source": [
    "### 5.4.1 迭代字典\n",
    "\n",
    "    - 迭代，也就是遍历，一般都是用for循环完成的。\n",
    "    - 遍历字典的键：for key in dict.keys():\n",
    "    - 遍历字典的值：for value in dict.values():\n",
    "    - 遍历字典：for k,v in dict:\n",
    "        - 遍历字典也只遍历键，然后再用键关联值的形式，把值输出。\n",
    "    \n",
    "    - 注意上面的.keys()  .values() 都是字典的方法。"
   ]
  },
  {
   "cell_type": "markdown",
   "metadata": {},
   "source": [
    "### 5.4.2  一些迭代工具\n",
    "\n",
    "    - 并行迭代：\n",
    "        - 当两个序列相同的时候，并行迭代，可以使用索引去做，先迭代其中一个，在最后利用所用去迭代另外一个。\n",
    "        - 使用内置函数zip，它将两个序列缝合起来，返回一个由元组组成的序列，如果两个序列长度不等，缝合到短的结束，停止。\n",
    "            - names = ['张','王','李','高']\n",
    "            - ages = ['22','32','11','42']\n",
    "            - for name,age in zip(names,ages):\n",
    "            -     print(name + 'is' + age + 'years old.')\n",
    "            \n",
    "    - 迭代时，获取索引：\n",
    "        - 使用enumerate（）函数来操作\n",
    "        - for index,string in enumerate(strings):\n",
    "        - 这个函数让你能够迭代索引-值对。\n",
    "        \n",
    "    - 反向迭代：使用函数 sorted（）\n",
    "    - 排序后再迭代： 函数 reversed()\n",
    "    - 注意上面两种函数生成的可迭代对象，不能进行索引和切片，也不能调用列表方法，要执行这些，得先使用list 进行转换才可以。"
   ]
  },
  {
   "cell_type": "markdown",
   "metadata": {},
   "source": [
    "### 5.4.3 跳出循环\n",
    "\n",
    "- break：\n",
    "    - 跳出循环\n",
    "    \n",
    "- continue：\n",
    "    - 结束当前迭代，跳入下一次迭代。"
   ]
  },
  {
   "cell_type": "code",
   "execution_count": 17,
   "metadata": {},
   "outputs": [
    {
     "name": "stdout",
     "output_type": "stream",
     "text": [
      "['chris+clarice', 'arnold+alice', 'bob+bernice']\n"
     ]
    }
   ],
   "source": [
    "girls = ['alice','bernice','clarice']\n",
    "boys = ['chris','arnold','bob']\n",
    "letterGirls = {}\n",
    "for girl in girls:\n",
    "# setfault 方法：从字典获取一个键以及与键关联的值，如果没有，就添加上去。\n",
    "# setdefault 方法操作以后，字典是添加了一个键值对，但是调用方法本身会返回添加的键值对的——值。\n",
    "# append 方法是对前一个操作的结果，进行操作。类似这种表达式，都是这个逻辑。\n",
    "    letterGirls.setdefault(girl[0],[]).append(girl)\n",
    "print([b+'+'+g for b in boys for g in letterGirls[b[0]]])\n"
   ]
  },
  {
   "cell_type": "code",
   "execution_count": null,
   "metadata": {},
   "outputs": [],
   "source": [
    "\n",
    "    "
   ]
  }
 ],
 "metadata": {
  "kernelspec": {
   "display_name": "Python 3",
   "language": "python",
   "name": "python3"
  },
  "language_info": {
   "codemirror_mode": {
    "name": "ipython",
    "version": 3
   },
   "file_extension": ".py",
   "mimetype": "text/x-python",
   "name": "python",
   "nbconvert_exporter": "python",
   "pygments_lexer": "ipython3",
   "version": "3.6.3"
  }
 },
 "nbformat": 4,
 "nbformat_minor": 2
}
