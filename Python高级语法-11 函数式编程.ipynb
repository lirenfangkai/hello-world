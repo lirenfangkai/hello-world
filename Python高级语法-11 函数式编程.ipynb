{
 "cells": [
  {
   "cell_type": "markdown",
   "metadata": {},
   "source": [
    "# 函数式编程：\n",
    "\n",
    "- 基于lambda演算的一种编程方式\n",
    "    - 程序中只有函数\n",
    "    - 函数可以作为参数，同样可以作为返回值\n",
    "    - 纯函数式编程语言：LISP， Haskell\n",
    "    - Python 函数式编程只是借鉴函数式编程的一些特点，可以理解成一半函数式，一般Python\n",
    "    \n",
    "- 主要讲解：\n",
    "    - 高阶函数\n",
    "    - 返回函数\n",
    "    - 匿名函数\n",
    "    - 装饰器\n",
    "    - 偏函数"
   ]
  },
  {
   "cell_type": "markdown",
   "metadata": {},
   "source": [
    "### lambda表达式\n",
    "\n",
    "- lambda：是Python的匿名函数\n",
    "- 函数：做大程度复用代码\n",
    "    - 存在问题：如果函数很小，则会造成啰嗦\n",
    "    - 小程序使用函数，函数都会产生跳转，从调用到返回到定义去寻找函数内容\n",
    "    - 对阅读者来说，也会造成阅读流程中断\n",
    "    \n",
    "- lambda 表达式（匿名函数）：\n",
    "    - 一个表达式，函数体相对简单\n",
    "    - 不是一个代码块，仅仅是一个表达式\n",
    "    - 可以有多个参数，多个参数用逗号隔开"
   ]
  },
  {
   "cell_type": "code",
   "execution_count": 1,
   "metadata": {},
   "outputs": [
    {
     "name": "stdout",
     "output_type": "stream",
     "text": [
      "200\n"
     ]
    }
   ],
   "source": [
    "# lambda表达式的用法\n",
    "# 以lambda开始，紧跟一定的参数（如果有的话）\n",
    "# 参数后用冒号和表达式主题隔开\n",
    "# 只是一个表达式，所以没有return\n",
    "\n",
    "# 计算一个数字的100倍\n",
    "\n",
    "num = lambda x: 100 * x\n",
    "# 使用上跟函数一样的\n",
    "print(num(2))"
   ]
  },
  {
   "cell_type": "code",
   "execution_count": 2,
   "metadata": {},
   "outputs": [
    {
     "data": {
      "text/plain": [
       "9"
      ]
     },
     "execution_count": 2,
     "metadata": {},
     "output_type": "execute_result"
    }
   ],
   "source": [
    "fun1 = lambda a: a ** 2\n",
    "fun1(3)"
   ]
  },
  {
   "cell_type": "code",
   "execution_count": 5,
   "metadata": {},
   "outputs": [
    {
     "name": "stdout",
     "output_type": "stream",
     "text": [
      "321\n"
     ]
    }
   ],
   "source": [
    "num2 = lambda x,y,z:x+y*10+z*100\n",
    "print(num2(1,2,3))"
   ]
  },
  {
   "cell_type": "markdown",
   "metadata": {},
   "source": [
    "## 递归\n",
    "\n",
    "- 常见的递归是自己调用自己，还有其他形式，比如相互调用，环形调用\n",
    "- 递归的优点就是定义简单，逻辑清晰。\n",
    "- 递归一般需要做优化防止栈溢出，但是现在貌似Python还没做尾递归优化"
   ]
  },
  {
   "cell_type": "code",
   "execution_count": 12,
   "metadata": {},
   "outputs": [
    {
     "data": {
      "text/plain": [
       "3628800"
      ]
     },
     "execution_count": 12,
     "metadata": {},
     "output_type": "execute_result"
    }
   ],
   "source": [
    "def f(n):\n",
    "    if n == 1:\n",
    "        return 1\n",
    "    return f(n-1)*n\n",
    "\n",
    "f(10)"
   ]
  },
  {
   "cell_type": "markdown",
   "metadata": {},
   "source": [
    "# 高阶函数：\n",
    "\n",
    "- 把函数作为参数使用的函数，高阶函数\n",
    "- 函数名可以作为变量，只是一个代号，指向内存中的一个函数的地址"
   ]
  },
  {
   "cell_type": "code",
   "execution_count": 22,
   "metadata": {},
   "outputs": [
    {
     "name": "stdout",
     "output_type": "stream",
     "text": [
      "8\n",
      "80\n"
     ]
    }
   ],
   "source": [
    "def funA(n):\n",
    "    return n**2\n",
    "\n",
    "def funB(n):\n",
    "    # 这里函数名要写全，如果没有括号和参数的话，会报错\n",
    "    return funA(n) * 10\n",
    "\n",
    "# print(funB(10))\n",
    "\n",
    "# 在这里，funB 只是个参数，也可以写成a  或者b 都可以，调用的时候，放进去那个就是哪个\n",
    "def funC(n,a):\n",
    "    return a(n) * 2\n",
    "\n",
    "print(f(2,funA))\n",
    "print(f(2,funB))"
   ]
  },
  {
   "cell_type": "markdown",
   "metadata": {},
   "source": [
    "## 高阶函数 - map\n",
    "\n",
    "- map 原意就是映射，即把集合或者列表的元素，每一个元素都按照一定的规则进行操作，生成一个新的列表或者集合\n",
    "- map函数是系统提供的具有映射功能的函数，返回值是一个迭代对象。\n",
    "\n",
    "- 对于所有可迭代对象，都可以用for循环来打印（对应上面的map是一个可迭代的东西）\n",
    "- map函数可以作为list函数的参数，来生成一个列表，而不能直接生成列表\n",
    "    - list的参数必须是可迭代对象，map函数正好满足\n",
    "\n",
    "        #### 迭代概念解析\n",
    "        - 迭代一般都可以用for循环来进行遍历，比如list和tuple\n",
    "        - 可迭代对象一般有下标，比如list和tuple，但是其他数据类型，比如dict，只要是可迭代，没有下标也可以使用for循环遍历\n",
    "            - 一般情况下，dict迭代的是key，如果要迭代value，需要使用for value in d.values()\n",
    "            - 同时迭代key 和 value 需要使用for key,value in d.items()\n",
    "\n",
    "        - 字符串也是可迭代对象。\n",
    "\n",
    "        - 如果判断一个对象是否是可迭代对象呢？通过collections 模块的Iterable类型判断\n",
    "            - iterable：可迭代的，迭代器\n",
    "            - 判断某个东西是不是另外一个东西，使用内置函数isinstance（A，B），判断A是不是B"
   ]
  },
  {
   "cell_type": "code",
   "execution_count": 25,
   "metadata": {},
   "outputs": [
    {
     "data": {
      "text/plain": [
       "True"
      ]
     },
     "execution_count": 25,
     "metadata": {},
     "output_type": "execute_result"
    }
   ],
   "source": [
    "# isinstance 使用实例\n",
    "# 使用前要先导入\n",
    "# isinstance可以作为 if条件语句的条件判断式\n",
    "from collections import Iterable\n",
    "isinstance('abc',Iterable)"
   ]
  },
  {
   "cell_type": "code",
   "execution_count": 28,
   "metadata": {},
   "outputs": [
    {
     "name": "stdout",
     "output_type": "stream",
     "text": [
      "0 A\n",
      "1 B\n",
      "2 C\n"
     ]
    }
   ],
   "source": [
    "for i, value in enumerate(['A','B','C']):\n",
    "    print(i, value)"
   ]
  },
  {
   "cell_type": "code",
   "execution_count": 58,
   "metadata": {},
   "outputs": [
    {
     "name": "stdout",
     "output_type": "stream",
     "text": [
      "<map object at 0x000001EBA4EA9908>\n",
      "10\n",
      "20\n",
      "30\n",
      "40\n",
      "50\n",
      "[]\n",
      "* * * * * * * * * * * * * * * * * * * * \n",
      "[10, 20, 30, 40, 50]\n",
      "* * * * * * * * * * * * * * * * * * * * \n",
      "[10, 20, 30, 40, 50]\n"
     ]
    }
   ],
   "source": [
    "# map 举例\n",
    "# 有一个列表，将每个值乘以10，并得到一个新列表\n",
    "\n",
    "list1 = [1,2,3,4,5]\n",
    "def f(n):\n",
    "    return n * 10\n",
    "\n",
    "list2 = map(f,list1)\n",
    "print(list2)\n",
    "for i in list2:\n",
    "    print(i)\n",
    "      \n",
    "    \n",
    "# 这个暂时还不知道为什么    \n",
    "list3 = [i for i in list2]\n",
    "print(list3)\n",
    "print('* ' * 20)\n",
    "\n",
    "list4 = [i for i in map(f,list1)]\n",
    "print(list4)\n",
    "\n",
    "print('* ' * 20)\n",
    "print(list(map(f,list1)))"
   ]
  },
  {
   "cell_type": "markdown",
   "metadata": {},
   "source": [
    "## 高阶函数 - reduce\n",
    "- 原意是归并，缩减\n",
    "- 把一个可迭代对象最后归并成一个结果\n",
    "    - 对于作为参数的函数有要求：\n",
    "        - 必须有两个参数\n",
    "        - 必须有返回结果\n",
    "        \n",
    "- reduce需要导入functools包\n",
    "- reduce([1,2,3,4]) = f(f(f(1,2),3),4)"
   ]
  },
  {
   "cell_type": "code",
   "execution_count": 56,
   "metadata": {},
   "outputs": [
    {
     "data": {
      "text/plain": [
       "10"
      ]
     },
     "execution_count": 56,
     "metadata": {},
     "output_type": "execute_result"
    }
   ],
   "source": [
    "from functools import reduce\n",
    "\n",
    "def my_add(x,y):\n",
    "    return x + y\n",
    "\n",
    "#  对于列表执行my_add 的reduce操作\n",
    "reduce(my_add,[1,2,3,4])"
   ]
  },
  {
   "cell_type": "markdown",
   "metadata": {},
   "source": [
    "## 高阶函数 -  filter \n",
    "\n",
    "- 过滤函数： 对一组数据进行过滤，符合条件的数据会生成一个新的类表并返回。\n",
    "- 跟map比较：\n",
    "    - 相同：都对类表的每一个元素逐一进行操作\n",
    "    - 不同：\n",
    "        - map会生成一个跟原来的数据相对应的新队列\n",
    "        - filter不一定，只要符合条件的才会进入新的数据集合\n",
    "    - filter函数怎么写：\n",
    "        - 利用给定函数进行判断\n",
    "        - 返回值一定是一个布尔值\n",
    "        - 调用格式：filter(f, data), f是过滤函数， data是数据\n",
    "        "
   ]
  },
  {
   "cell_type": "code",
   "execution_count": 60,
   "metadata": {},
   "outputs": [
    {
     "name": "stdout",
     "output_type": "stream",
     "text": [
      "<class 'filter'>\n",
      "<filter object at 0x000001EBA4EA9BA8>\n",
      "[64, 34, 4, 6, 12, 54, 24]\n",
      "* * * * * * * * * * * * * * * * * * * * \n",
      "[64, 34, 4, 6, 12, 54, 24]\n",
      "[]\n"
     ]
    }
   ],
   "source": [
    "# 定义过滤函数\n",
    "# 过滤函数要求有输入，返回布尔值\n",
    "# 对于一个列表进行过滤，偶数组成一个新列表\n",
    "def isEven(a):\n",
    "    return a % 2 == 0 \n",
    "\n",
    "l = {12,23,54,5,4,6,64,6,34,5,43,24,34}\n",
    "rst = filter(isEven, l)\n",
    "print(type(rst))\n",
    "print(rst)   # 其实返回的是一个filter对象，不过是可迭代的对象\n",
    "\n",
    "print([i for i in rst])\n",
    "print('* ' * 20)\n",
    "\n",
    "print(list(filter(isEven,l)))\n",
    "print(list(rst))\n",
    "#  有没有可能跟map一样，是单向的循环的"
   ]
  },
  {
   "cell_type": "markdown",
   "metadata": {},
   "source": [
    "##  高阶函数 - 排序\n",
    "\n",
    "- 把一个序列按照给定算法进行排序\n",
    "- key参数：在排序前对每一个元素进行key函数运算，可以理解成按照key函数定义的逻辑进行排序\n",
    "- Python2 和python3相差巨大 \n",
    "\n",
    "- 内建函数排序：sorted   \n",
    "    - 跟list 的方法 sort 不一样 "
   ]
  },
  {
   "cell_type": "code",
   "execution_count": 63,
   "metadata": {},
   "outputs": [
    {
     "name": "stdout",
     "output_type": "stream",
     "text": [
      "[23, 234, 324, 2323, 45345]\n",
      "[45345, 2323, 324, 234, 23]\n"
     ]
    }
   ],
   "source": [
    "# 排序案例\n",
    "a = [2323,45345,324,23,234]\n",
    "a1 = sorted(a)\n",
    "a2 = sorted(a,reverse=True)\n",
    "print(a1)\n",
    "print(a2)"
   ]
  },
  {
   "cell_type": "code",
   "execution_count": 3,
   "metadata": {},
   "outputs": [
    {
     "name": "stdout",
     "output_type": "stream",
     "text": [
      "[-23, 32, 45, 65, -77]\n"
     ]
    }
   ],
   "source": [
    "# 排序案例2\n",
    "a3 = [-23,45,65,32,-77]\n",
    "# 按照绝对值排序\n",
    "a4 = sorted(a3, key=abs)\n",
    "print(a4)"
   ]
  },
  {
   "cell_type": "code",
   "execution_count": 7,
   "metadata": {},
   "outputs": [
    {
     "name": "stdout",
     "output_type": "stream",
     "text": [
      "[23, 45, 62, 67, 84, 121, 232, 344, 423, 677]\n",
      "[121, 423, 45, 677, 23, 67, 232, 84, 344, 62]\n"
     ]
    }
   ],
   "source": [
    "a5 = [121,232,423,45,677,23,67,84,344,62]\n",
    "print(sorted(a5))\n",
    "print(sorted(a5, key = lambda x:x%2==0))"
   ]
  },
  {
   "cell_type": "markdown",
   "metadata": {},
   "source": [
    "# 返回函数\n",
    "\n",
    "- 函数可以返回具体的值\n",
    "- 也可以返回一个函数作为结果"
   ]
  },
  {
   "cell_type": "code",
   "execution_count": 9,
   "metadata": {
    "collapsed": true
   },
   "outputs": [],
   "source": [
    "# 函数作为返回值， 被返回的函数在函数体内定义\n",
    "\n",
    "def myF2():\n",
    "    def myF3():\n",
    "        print(\"In myF3\")\n",
    "        return 3\n",
    "    return myF3   # 注意这里跟 定义 myF3 是一个缩进\n"
   ]
  },
  {
   "cell_type": "code",
   "execution_count": 12,
   "metadata": {},
   "outputs": [
    {
     "name": "stdout",
     "output_type": "stream",
     "text": [
      "<class 'function'>\n",
      "<function myF2.<locals>.myF3 at 0x000001D5828B79D8>\n",
      "In myF3\n"
     ]
    },
    {
     "data": {
      "text/plain": [
       "3"
      ]
     },
     "execution_count": 12,
     "metadata": {},
     "output_type": "execute_result"
    }
   ],
   "source": [
    "#  调用myF2,  返回一个函数myF3, 赋值给f3\n",
    "  \n",
    "f3 = myF2()   \n",
    "print(type(f3))    \n",
    "print(f3)\n",
    "# f3 的类型，所有的函数的类型都是一个叫  class function的类型\n",
    "#  myF2 里有一个local的变量，变量叫 myF3 \n",
    "\n",
    "f3()\n"
   ]
  },
  {
   "cell_type": "code",
   "execution_count": 72,
   "metadata": {},
   "outputs": [
    {
     "name": "stdout",
     "output_type": "stream",
     "text": [
      "10\n",
      "150\n"
     ]
    }
   ],
   "source": [
    "# 复杂一些的返回函数的例子\n",
    "# args 参数列表\n",
    "\n",
    "def myF4(*args):  # args 在函数中的地位是全局变量，因此内部的函数可以调用\n",
    "    def myF5():\n",
    "        rst = 0\n",
    "        for n in args:\n",
    "            rst += n\n",
    "        return rst\n",
    "    return myF5\n",
    "\n",
    "# 上面函数的调用流程是：\n",
    "# 调用myF4, 继续执行下面的语句，然后是定义myF5，到返回rst这里，但是定义的部分并不会执行\n",
    "# myF4 函数体末尾是返回myF5， 因为之前已经定义好了，所以返回的时候，会执行这个函数\n",
    "# 再一次回到前面，从rst=0开始，一直到 return rst \n",
    "f1 = myF4(1,2,3,4)\n",
    "print(f1())\n",
    "f2 = myF4(10,20,30,40,50)\n",
    "print(f2())"
   ]
  },
  {
   "cell_type": "markdown",
   "metadata": {},
   "source": [
    "# 闭包（closure）\n",
    "\n",
    "- 当一个函数，在其内部定义另一个函数，并且内部的函数应用外部函数的参数或者局部变量，当内部函数被当做返回值的时候，相关参数和变量保存在返回的函数中，这种结果，叫：闭包\n",
    "\n",
    "- 返回闭包的时候，不能引用任何的循环变量，就是因为 闭包 不是立即执行\\\n",
    "- \n",
    "- 在闭包中避免使用循环变量，如果必须要使用，则要添加函数去绑定循环变量，参加最下面两个例子"
   ]
  },
  {
   "cell_type": "code",
   "execution_count": 2,
   "metadata": {},
   "outputs": [
    {
     "name": "stdout",
     "output_type": "stream",
     "text": [
      "9\n",
      "9\n",
      "9\n"
     ]
    }
   ],
   "source": [
    "# 关于闭包的坑\n",
    "def count():\n",
    "    fs = []\n",
    "    for i in range(1,4):\n",
    "        # 定义一个函数f，它是一个闭包结构\n",
    "        def f():\n",
    "            return i * i\n",
    "        fs.append(f)\n",
    "    return fs\n",
    "\n",
    "f1,f2,f3 = count()\n",
    "print(f1())\n",
    "print(f2())\n",
    "print(f3())\n",
    "# 其实我们的期望是，f1,f2,f3分别是1 ，4， 9，因为相当于循环中的每个值都做了一个自乘\n",
    "# 这就是闭包的一个坑，在定义三个函数的时候，并没有立即去执行闭包的函数，而是在循环结束才进行执行，\n",
    "# 此时的i 已经循环到3了。\n",
    "\n",
    "# 视频里的解释是：返回函数f 引用了变量i ，i并非立即执行，而是等三个函数都返回的时候才统一使用\n",
    "# 此时i 已经变成了3，最终调用的时候，都返回的是3 * 3"
   ]
  },
  {
   "cell_type": "code",
   "execution_count": 4,
   "metadata": {},
   "outputs": [
    {
     "name": "stdout",
     "output_type": "stream",
     "text": [
      "1\n",
      "4\n",
      "9\n"
     ]
    }
   ],
   "source": [
    "def count():\n",
    "    fs = []\n",
    "    for i in range(1,4):\n",
    "        def g(a):   #定义一个g函数，参数为a，返回函数f的返回值被绑定\n",
    "            f = lambda : a*a\n",
    "            return f\n",
    "        fs.append(g(i))\n",
    "    return fs\n",
    "\n",
    "f1,f2,f3 =count()\n",
    "\n",
    "print(f1())\n",
    "print(f2())\n",
    "print(f3())"
   ]
  },
  {
   "cell_type": "code",
   "execution_count": 5,
   "metadata": {},
   "outputs": [
    {
     "name": "stdout",
     "output_type": "stream",
     "text": [
      "1\n",
      "4\n",
      "9\n"
     ]
    }
   ],
   "source": [
    "def count():\n",
    "    def f(j):\n",
    "        def g():\n",
    "            return j*j\n",
    "        return g\n",
    "    fs = []\n",
    "    for i in range(1, 4):\n",
    "        fs.append(f(i)) # f(i)立刻被执行，因此i的当前值被传入f()\n",
    "    return fs\n",
    "\n",
    "f1,f2,f3 = count()\n",
    "print(f1())\n",
    "print(f2())\n",
    "print(f3())"
   ]
  },
  {
   "cell_type": "markdown",
   "metadata": {},
   "source": [
    "#  装饰器 Decrator\n",
    "\n",
    "- 在不改动函数代码的基础上无限制扩展函数功能的一种机制，本质上讲，装饰器是一个返回函数的高阶函数\n",
    "    - 以函数为参数，并且返回一个函数\n",
    "    - 一般是想要被装饰的函数，当做参数传进去\n",
    "- 装饰器的使用：使用 @ 语法，俗称语法糖，即在每次要扩展的函数定义前使用 @+ 函数名\n",
    "\n",
    "- 优点：可以随便装饰任何一个函数，装饰器的功能一旦被确定，那么装饰哪个函数，都先执行装饰器内部函数的语句，即下面例子中的wrapper 下面的print语句。 执行完这句以后，才执行原来的函数。(被装饰的函数)\n"
   ]
  },
  {
   "cell_type": "code",
   "execution_count": 7,
   "metadata": {
    "collapsed": true
   },
   "outputs": [],
   "source": [
    "import time\n",
    "# 高阶函数，以函数作为参数\n",
    "# 下面是装饰器的固定写法\n",
    "# \n",
    "def printTime(f):  # f 就是要传进去的，被装饰的函数，也就是下面的hello，不过这里只是个参数，装饰谁，f就是谁\n",
    "    def wrapper(*args, **keargs): # agrs kwargs 这两个参数是固定写法，名称可不同，必须是收集参数和关键字收集参数\n",
    "        print(\"Time: \", time.ctime())\n",
    "        return f(*args, **keargs)\n",
    "    return wrapper"
   ]
  },
  {
   "cell_type": "code",
   "execution_count": 8,
   "metadata": {},
   "outputs": [
    {
     "name": "stdout",
     "output_type": "stream",
     "text": [
      "Time:  Sun Dec  2 14:48:06 2018\n",
      "Hello world\n"
     ]
    }
   ],
   "source": [
    "# 上面定义了装饰器，使用的时候需要用到 @ ， 此符号是Python的语法糖\n",
    "\n",
    "@printTime\n",
    "def hello():\n",
    "    print(\"Hello world\")\n",
    "    \n",
    "hello()"
   ]
  },
  {
   "cell_type": "code",
   "execution_count": 15,
   "metadata": {
    "collapsed": true
   },
   "outputs": [],
   "source": [
    "def printtime(f):\n",
    "    def fun(*a,**b):                       # 固定写法\n",
    "        print('我是装饰器，我要扩展函数啦')# 这里是一定会执行的，也就是要添加的代码\n",
    "        print('Time:',time.ctime())        #  这里是一定会执行的，也就是要添加的代码 \n",
    "        return f(*a,**b)                   # 固定写法\n",
    "    return fun "
   ]
  },
  {
   "cell_type": "code",
   "execution_count": 17,
   "metadata": {},
   "outputs": [
    {
     "name": "stdout",
     "output_type": "stream",
     "text": [
      "我是装饰器，我要扩展函数啦\n",
      "Time: Sun Dec  2 15:01:45 2018\n",
      "Hello World\n"
     ]
    }
   ],
   "source": [
    "@printtime    # 固定写法\n",
    "def hello():\n",
    "    print('Hello World')\n",
    "    \n",
    "hello()"
   ]
  },
  {
   "cell_type": "code",
   "execution_count": 29,
   "metadata": {},
   "outputs": [
    {
     "name": "stdout",
     "output_type": "stream",
     "text": [
      "我是装饰器，我要扩展函数啦\n",
      "Time: Sun Dec  2 15:29:50 2018\n",
      "这是手动调用装饰器的例子\n"
     ]
    }
   ],
   "source": [
    "# 手动调用装饰器\n",
    "# 先定义函数\n",
    "def fun():   # 这里的fun是以前的函数\n",
    "    print(\"这是手动调用装饰器的例子\")\n",
    "    \n",
    "fun = printtime(fun)  # 在讲fun作为参数传递进printtime后，这里的fun指向了一个新版本的函数\n",
    "fun()               # 然后再调用fun，调用的时候，和作为参数传递、作为返回值不一样，只有调用的时候需要加 括号\n",
    " "
   ]
  },
  {
   "cell_type": "markdown",
   "metadata": {},
   "source": [
    "# 偏函数\n",
    "\n",
    "- 参数固定的函数，相当于一个由特定参数的函数体\n",
    "- functools.partial的作用是，把一个函数的某些参数固定，返回一个新的函数——偏函数"
   ]
  },
  {
   "cell_type": "code",
   "execution_count": 41,
   "metadata": {},
   "outputs": [
    {
     "name": "stdout",
     "output_type": "stream",
     "text": [
      "123\n",
      "83\n",
      "74565\n"
     ]
    }
   ],
   "source": [
    "# int 这个内置函数，只能将 字符串类型的数字转换为十进制的数\n",
    "# 它的参数base，如果不指定，默认字符串的数字是十进制，如果指定，则是相应的类型\n",
    "print(int('123'))\n",
    "print(int('123',base=8))\n",
    "print(int('12345',base=16))"
   ]
  },
  {
   "cell_type": "code",
   "execution_count": 42,
   "metadata": {},
   "outputs": [
    {
     "data": {
      "text/plain": [
       "74565"
      ]
     },
     "execution_count": 42,
     "metadata": {},
     "output_type": "execute_result"
    }
   ],
   "source": [
    "import functools\n",
    "\n",
    "int16 = functools.partial(int, base=16)\n",
    "\n",
    "int16(\"12345\")"
   ]
  },
  {
   "cell_type": "markdown",
   "metadata": {},
   "source": [
    "# 高级函数补充\n",
    "\n",
    "### zip \n",
    "- 把两个可迭代内容生成一个可迭代的tuple元素类型组成的内容"
   ]
  },
  {
   "cell_type": "code",
   "execution_count": 46,
   "metadata": {},
   "outputs": [
    {
     "name": "stdout",
     "output_type": "stream",
     "text": [
      "<zip object at 0x000001F98A313648>\n",
      "[(1, 10), (2, 20), (3, 30), (4, 40), (5, 50)]\n"
     ]
    }
   ],
   "source": [
    "# zip 案例\n",
    "l1 = [1,2,3,4,5,6]\n",
    "l2 = [10,20,30,40,50]\n",
    "z = zip(l1,l2)\n",
    "print(z)\n",
    "a = list(zip(l1,l2))\n",
    "print(a)"
   ]
  },
  {
   "cell_type": "markdown",
   "metadata": {},
   "source": [
    "### enumerate \n",
    "\n",
    "- 跟zip 功能很像，\n",
    "- 对可迭代对象里的每一个元素，配上一个索引，然后元素跟索引构成tuple类型"
   ]
  },
  {
   "cell_type": "code",
   "execution_count": 49,
   "metadata": {},
   "outputs": [
    {
     "name": "stdout",
     "output_type": "stream",
     "text": [
      "[(0, 'A'), (1, 'B'), (2, 'C')]\n"
     ]
    }
   ],
   "source": [
    "l1 = ['A','B','C']\n",
    "a = list(enumerate(l1))\n",
    "print(a)\n"
   ]
  },
  {
   "cell_type": "code",
   "execution_count": 51,
   "metadata": {},
   "outputs": [
    {
     "name": "stdout",
     "output_type": "stream",
     "text": [
      "[(1, 98), (2, 80), (3, 87), (4, 77), (5, 69)]\n"
     ]
    }
   ],
   "source": [
    "# 调整索引开始值\n",
    "l2 = [98,80,87,77,69]\n",
    "enu = enumerate(l2,start=1)\n",
    "l3 = [i for i in enumerate(l2,start=1)]\n",
    "print(l3)"
   ]
  },
  {
   "cell_type": "markdown",
   "metadata": {},
   "source": [
    "### collections \n",
    "\n",
    "- collections 是Python内建的一个集合模块，提供了许多有用的集合类，常用的就是下面的几个\n",
    "\n",
    "    - namedtuple\n",
    "        - 用来创建一个自定义的tuple对象，并且规定了tuple元素的个数，可以用属性而不是索引来引用tuple的某个元素\n",
    "        - 优点：可以很方便的定义一种数据类型，它具备tuple的不变性，又可以根据属性来引用（类的一种）。\n",
    "        - tuple 类型\n",
    "        - 是一个可命名的tuple —— 扩展的 tuple\n",
    "        - 某种意义上，这是tuple子类的实例。\n"
   ]
  },
  {
   "cell_type": "code",
   "execution_count": 6,
   "metadata": {},
   "outputs": [
    {
     "name": "stdout",
     "output_type": "stream",
     "text": [
      "11\n",
      "11\n"
     ]
    }
   ],
   "source": [
    "import collections\n",
    "\n",
    "Point = collections.namedtuple('Point', ['x','y'])  #  注意这里的x , y 要带引号\n",
    "p = Point(11,22)       #  这里相当于类的实例化，这也是为什么namedtuple 用的时候，变量名都要大写的原因，\n",
    "print(p.x)             # 这里的Point 就相当于类名\n",
    "print(p[0])         #  也可以使用索引去访问"
   ]
  },
  {
   "cell_type": "markdown",
   "metadata": {},
   "source": [
    "### deque\n",
    "\n",
    "- 使用list存储数据时，按索引访问元素很快，但是插入和删除元素就很慢了，因为list是线性存储，数据量大的时候，插入和删除的效率很低。例如在中间删除一个元素，后面的每个元素都要往前移一个位置，如果数据量很大， 造成程序缓慢。\n",
    "- deque 是为了搞笑实现插入和删除操作的双向列表，适合用于队列和栈\n",
    "    - deque 除了实现list的append和pop 外，还支持appendleft 和popleft，这样就可以非常高效的往头部添加或删除元素了\n",
    "    \n",
    "    - 通过help(collectiongs.deque) 能看出来，deque是一个名叫deque的class类型"
   ]
  },
  {
   "cell_type": "code",
   "execution_count": 10,
   "metadata": {},
   "outputs": [
    {
     "name": "stdout",
     "output_type": "stream",
     "text": [
      "deque(['a', 'b', 'c'])\n",
      "deque(['a', 'b', 'c', 'd'])\n",
      "deque(['x', 'a', 'b', 'c', 'd'])\n"
     ]
    }
   ],
   "source": [
    "from collections import deque\n",
    "\n",
    "q = deque(['a','b','c'])\n",
    "print(q)\n",
    "\n",
    "q.append('d')\n",
    "print(q)\n",
    "\n",
    "q.appendleft('x')\n",
    "print(q)\n"
   ]
  },
  {
   "cell_type": "markdown",
   "metadata": {},
   "source": [
    "### defaultdict \n",
    "\n",
    "- 使用dict时，如果引用的key不存在，就会抛出keyerror。 \n",
    "- 如果希望可以不存在的时候，返回一个默认值，就可以用defaultdict\n",
    "- 在没有的情况下，是调用函数返回默认值，最简单的函数：lambda 函数（匿名函数，不需要管那么多）"
   ]
  },
  {
   "cell_type": "code",
   "execution_count": 15,
   "metadata": {},
   "outputs": [
    {
     "name": "stdout",
     "output_type": "stream",
     "text": [
      "1\n"
     ]
    },
    {
     "ename": "KeyError",
     "evalue": "'four'",
     "output_type": "error",
     "traceback": [
      "\u001b[1;31m---------------------------------------------------------------------------\u001b[0m",
      "\u001b[1;31mKeyError\u001b[0m                                  Traceback (most recent call last)",
      "\u001b[1;32m<ipython-input-15-5b9baad6f4b4>\u001b[0m in \u001b[0;36m<module>\u001b[1;34m()\u001b[0m\n\u001b[0;32m      1\u001b[0m \u001b[0md1\u001b[0m \u001b[1;33m=\u001b[0m \u001b[1;33m{\u001b[0m\u001b[1;34m'one'\u001b[0m\u001b[1;33m:\u001b[0m\u001b[1;36m1\u001b[0m\u001b[1;33m,\u001b[0m\u001b[1;34m'two'\u001b[0m\u001b[1;33m:\u001b[0m\u001b[1;36m2\u001b[0m\u001b[1;33m,\u001b[0m\u001b[1;34m'three'\u001b[0m\u001b[1;33m:\u001b[0m\u001b[1;36m3\u001b[0m\u001b[1;33m}\u001b[0m\u001b[1;33m\u001b[0m\u001b[0m\n\u001b[0;32m      2\u001b[0m \u001b[0mprint\u001b[0m\u001b[1;33m(\u001b[0m\u001b[0md1\u001b[0m\u001b[1;33m[\u001b[0m\u001b[1;34m'one'\u001b[0m\u001b[1;33m]\u001b[0m\u001b[1;33m)\u001b[0m  \u001b[1;31m# 在 键存在的情况下，如果没有就报错\u001b[0m\u001b[1;33m\u001b[0m\u001b[0m\n\u001b[1;32m----> 3\u001b[1;33m \u001b[0mprint\u001b[0m\u001b[1;33m(\u001b[0m\u001b[0md1\u001b[0m\u001b[1;33m[\u001b[0m\u001b[1;34m'four'\u001b[0m\u001b[1;33m]\u001b[0m\u001b[1;33m)\u001b[0m\u001b[1;33m\u001b[0m\u001b[0m\n\u001b[0m",
      "\u001b[1;31mKeyError\u001b[0m: 'four'"
     ]
    }
   ],
   "source": [
    "d1 = {'one':1,'two':2,'three':3}\n",
    "print(d1['one'])  # 在 键存在的情况下，如果没有就报错\n",
    "print(d1['four'])"
   ]
  },
  {
   "cell_type": "code",
   "execution_count": 20,
   "metadata": {},
   "outputs": [
    {
     "name": "stdout",
     "output_type": "stream",
     "text": [
      "1\n",
      "没有你要的键，我是默认值\n"
     ]
    }
   ],
   "source": [
    "from collections import defaultdict\n",
    "f = lambda : \"没有你要的键，我是默认值\"\n",
    "d2 = defaultdict(f,{'one':1,'two':2,'three':3})\n",
    "print(d2['one'])\n",
    "print(d2['four'])"
   ]
  },
  {
   "cell_type": "markdown",
   "metadata": {},
   "source": [
    "### Counter\n",
    "\n",
    "- 注意Counter是大写字母\n",
    "- 统计字符串的个数\n",
    "- 只有一个参数\n",
    "- Counter 可以理解为dict的一个子类\n",
    "    - 所以看下面的例子，结果是一个dict的可迭代的内容"
   ]
  },
  {
   "cell_type": "code",
   "execution_count": 25,
   "metadata": {},
   "outputs": [
    {
     "name": "stdout",
     "output_type": "stream",
     "text": [
      "Counter({'a': 9, 'd': 5, 'f': 5, 'v': 2, 'c': 2})\n"
     ]
    }
   ],
   "source": [
    "from collections import Counter\n",
    "\n",
    "# 为什么不把下面的字符串作为键值，而是以其中的每一个字母作为键值\n",
    "# 是因为需要括号里内容为可迭代\n",
    "a = Counter('aadfadffaavafdadfadvcac')\n",
    "print(a)"
   ]
  },
  {
   "cell_type": "code",
   "execution_count": 28,
   "metadata": {},
   "outputs": [
    {
     "ename": "TypeError",
     "evalue": "expected at most 1 arguments, got 5",
     "output_type": "error",
     "traceback": [
      "\u001b[1;31m---------------------------------------------------------------------------\u001b[0m",
      "\u001b[1;31mTypeError\u001b[0m                                 Traceback (most recent call last)",
      "\u001b[1;32m<ipython-input-28-3af06903b530>\u001b[0m in \u001b[0;36m<module>\u001b[1;34m()\u001b[0m\n\u001b[1;32m----> 1\u001b[1;33m \u001b[0mb\u001b[0m \u001b[1;33m=\u001b[0m \u001b[0mCounter\u001b[0m\u001b[1;33m(\u001b[0m\u001b[1;34m'wo'\u001b[0m\u001b[1;33m,\u001b[0m\u001b[1;34m'wo'\u001b[0m\u001b[1;33m,\u001b[0m\u001b[1;34m'wo'\u001b[0m\u001b[1;33m,\u001b[0m\u001b[1;34m'ni'\u001b[0m\u001b[1;33m,\u001b[0m\u001b[1;34m'ta'\u001b[0m\u001b[1;33m)\u001b[0m\u001b[1;33m\u001b[0m\u001b[0m\n\u001b[0m\u001b[0;32m      2\u001b[0m \u001b[0mprint\u001b[0m\u001b[1;33m(\u001b[0m\u001b[0mb\u001b[0m\u001b[1;33m)\u001b[0m\u001b[1;33m\u001b[0m\u001b[0m\n",
      "\u001b[1;32mC:\\ProgramData\\Anaconda3\\lib\\collections\\__init__.py\u001b[0m in \u001b[0;36m__init__\u001b[1;34m(*args, **kwds)\u001b[0m\n\u001b[0;32m    531\u001b[0m         \u001b[0mself\u001b[0m\u001b[1;33m,\u001b[0m \u001b[1;33m*\u001b[0m\u001b[0margs\u001b[0m \u001b[1;33m=\u001b[0m \u001b[0margs\u001b[0m\u001b[1;33m\u001b[0m\u001b[0m\n\u001b[0;32m    532\u001b[0m         \u001b[1;32mif\u001b[0m \u001b[0mlen\u001b[0m\u001b[1;33m(\u001b[0m\u001b[0margs\u001b[0m\u001b[1;33m)\u001b[0m \u001b[1;33m>\u001b[0m \u001b[1;36m1\u001b[0m\u001b[1;33m:\u001b[0m\u001b[1;33m\u001b[0m\u001b[0m\n\u001b[1;32m--> 533\u001b[1;33m             \u001b[1;32mraise\u001b[0m \u001b[0mTypeError\u001b[0m\u001b[1;33m(\u001b[0m\u001b[1;34m'expected at most 1 arguments, got %d'\u001b[0m \u001b[1;33m%\u001b[0m \u001b[0mlen\u001b[0m\u001b[1;33m(\u001b[0m\u001b[0margs\u001b[0m\u001b[1;33m)\u001b[0m\u001b[1;33m)\u001b[0m\u001b[1;33m\u001b[0m\u001b[0m\n\u001b[0m\u001b[0;32m    534\u001b[0m         \u001b[0msuper\u001b[0m\u001b[1;33m(\u001b[0m\u001b[0mCounter\u001b[0m\u001b[1;33m,\u001b[0m \u001b[0mself\u001b[0m\u001b[1;33m)\u001b[0m\u001b[1;33m.\u001b[0m\u001b[0m__init__\u001b[0m\u001b[1;33m(\u001b[0m\u001b[1;33m)\u001b[0m\u001b[1;33m\u001b[0m\u001b[0m\n\u001b[0;32m    535\u001b[0m         \u001b[0mself\u001b[0m\u001b[1;33m.\u001b[0m\u001b[0mupdate\u001b[0m\u001b[1;33m(\u001b[0m\u001b[1;33m*\u001b[0m\u001b[0margs\u001b[0m\u001b[1;33m,\u001b[0m \u001b[1;33m**\u001b[0m\u001b[0mkwds\u001b[0m\u001b[1;33m)\u001b[0m\u001b[1;33m\u001b[0m\u001b[0m\n",
      "\u001b[1;31mTypeError\u001b[0m: expected at most 1 arguments, got 5"
     ]
    }
   ],
   "source": [
    "b = Counter('wo','wo','wo','ni','ta')\n",
    "print(b)"
   ]
  },
  {
   "cell_type": "code",
   "execution_count": 31,
   "metadata": {},
   "outputs": [
    {
     "name": "stdout",
     "output_type": "stream",
     "text": [
      "Counter({'wo': 3, 'ni': 1, 'ta': 1})\n"
     ]
    }
   ],
   "source": [
    "# 因为Counter 只能有一个参数，因此必须使用变量去过渡下\n",
    "b = ['wo','wo','wo','ni','ta']\n",
    "c = Counter(b)\n",
    "print(c)"
   ]
  }
 ],
 "metadata": {
  "kernelspec": {
   "display_name": "Python 3",
   "language": "python",
   "name": "python3"
  },
  "language_info": {
   "codemirror_mode": {
    "name": "ipython",
    "version": 3
   },
   "file_extension": ".py",
   "mimetype": "text/x-python",
   "name": "python",
   "nbconvert_exporter": "python",
   "pygments_lexer": "ipython3",
   "version": "3.6.3"
  }
 },
 "nbformat": 4,
 "nbformat_minor": 2
}
