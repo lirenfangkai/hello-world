{
 "cells": [
  {
   "cell_type": "markdown",
   "metadata": {},
   "source": [
    "# 调试\n",
    "\n",
    "- 程序写好了，转给专门测试的人员进行程序测试，第一次写程序就成功的概率是1%。\n",
    "- 调试流程：单元测试-> 集成测试 -> 交测试部\n",
    "    - 作为程序员，基本的要求是你写的代码在交给别人时，不管是测试还是交付，起码要求能跑的起来\n",
    "- 调试分类：\n",
    "    - 静态测试\n",
    "        - 看代码\n",
    "        - 找找字面上的错误\n",
    "    - 动态测试\n",
    "        - pdb调试，是在命令行下进行调试，但是可能绝大多数人用不到\n",
    "            - 命令行，Windows下就是cmd 命令窗口\n",
    "            \n",
    "        - pycharm 调试（这里主要用pycharm调试，丘比特笔记本暂时不知道怎么用，这里只是做笔记） \n",
    "            - run 模式，让写好的程序运行\n",
    "            - debug模式，可以清楚的看到跑的内部状况，然后还能根据我们的命令，随时停止\n",
    "            \n",
    "        - 断点：程序的某一行，程序在debug模式下，遇到断点就会暂停，等待下一步命令\n",
    "            - 尽量用step over（F8）,因为这样比较快\n",
    "            - 然后跳进程序去执行可以用step into（F7）\n",
    "                - step into 进去以后，可以用step out跳出来\n",
    "                - Process finished with exit code 0 这是Linux的一个习惯，0表示程序正常执行了\n",
    "                    - process vt处理、加工  n 过程，方法，步骤，程序，这里意思是程序\n",
    "        \n",
    "        - 单元测试\n",
    "            - 现在的编程趋势是，在项目立项以后，还没开始写代码，就把单元测试代码写好，然后在写的过程中，一遍一遍的测试，知道满意为止\n",
    "            - 好处是，代码写好以后，不用费劲的去调试，直接测试就行了 "
   ]
  },
  {
   "cell_type": "markdown",
   "metadata": {},
   "source": [
    "# 文件\n",
    "\n",
    "- 长久保存信息的一种数据信息集合\n",
    "- 常用操作\n",
    "    - 打开关闭（文件一旦打开，需要关闭操作） 文件打开必须要关闭。以免发生意外情况\n",
    "    - 读写内容\n",
    "    - 查找\n",
    "    \n",
    "\n",
    "## open 函数\n",
    "\n",
    "- open 函数负责打开文件，带有很多参数\n",
    "    - 第一个参数：必须有：文件的路径和名称\n",
    "    - mode：表明文件用什么方式打开  \n",
    "        - r：只读模式打开\n",
    "        - w：只写模式打开——覆盖以前内容  \n",
    "        - a：添加模式，append方式，以追加的方式对文件内容进行写入\n",
    "        - x：创建模式打开——如果文件存在，报错\n",
    "        - b: binary方式，二进制方式写入\n",
    "        - +：可读写\n",
    "        - 如果不指定目录，只写文件名称，默认是创建在当前程序的目录\n",
    "    - 如果要写的文件不存在，讲自动创建\n",
    "\n",
    "- 使用with语句，可以默认在不使用的时候，关闭文件，不需要单独使用close关闭了\n",
    "\n",
    "### with 语句\n",
    "- with语句使用的技术是一种成为上下文管理协议的技术（CountextManagementProtocal）\n",
    "- 自动判断文件的 作用域， 自动关闭不再使用的打开的文件句柄\n",
    "- \n",
    "- readline() 就是按行读取的意思\n",
    "- read() 是按照字符读取文件内容\n",
    "    - 允许输入参数决定读取几个字符，如果没有限定，则默认从头读到尾\n",
    "    \n",
    "    \n",
    "    \n",
    "### open 函数的写法，括号内，逗号后如果有参数，需要空格，然后如果有值，不要留空格\n",
    "    - open(r'lianxi.txt', 'r', a=10)\n",
    "        strline = f.readline()\n",
    "    - open 函数下面的语句，如果有赋值，需要等号前后有空格\n"
   ]
  },
  {
   "cell_type": "code",
   "execution_count": 2,
   "metadata": {},
   "outputs": [
    {
     "name": "stdout",
     "output_type": "stream",
     "text": [
      "try to write sth\n",
      "\n",
      "鹅鹅鹅\n",
      "\n",
      "曲项向天歌\n",
      "\n",
      "白毛浮绿水\n",
      "\n",
      "红掌拨清波\n",
      "\n"
     ]
    }
   ],
   "source": [
    "# 按行读取，使用readline\n",
    "# 下面的结构保证能够完整读取文件直到结束\n",
    "with open(r'lianxi.txt','r') as f:\n",
    "    strline = f.readline()    \n",
    "    while strline:      # 但是这里，前面必须有一个strline = f.readline 否则while 循环没法开始\n",
    "        print(strline)  #  有信息就打印出来\n",
    "        strline = f.readline()  # 然后继续读取，直到读完为止\n"
   ]
  },
  {
   "cell_type": "code",
   "execution_count": 18,
   "metadata": {},
   "outputs": [
    {
     "name": "stdout",
     "output_type": "stream",
     "text": [
      "try to write sth\n",
      "\n",
      "鹅鹅鹅\n",
      "\n",
      "曲项向天歌\n",
      "\n",
      "白毛浮绿水\n",
      "\n",
      "红掌拨清波\n",
      "\n",
      "['try to write sth\\n', '鹅鹅鹅\\n', '曲项向天歌\\n', '白毛浮绿水\\n', '红掌拨清波\\n']\n"
     ]
    }
   ],
   "source": [
    "#  整个读取，使用list\n",
    "with open(r'lianxi.txt','r') as f:\n",
    "    list1 = list(f)\n",
    "    for i in list1:\n",
    "        print(i)\n",
    "    print(list1)"
   ]
  },
  {
   "cell_type": "code",
   "execution_count": 17,
   "metadata": {},
   "outputs": [
    {
     "name": "stdout",
     "output_type": "stream",
     "text": [
      "25\n",
      "try to write sth\n",
      "鹅鹅鹅\n",
      "曲项向天\n"
     ]
    }
   ],
   "source": [
    "# 使用read来读取\n",
    "with open(r'lianxi.txt', 'r') as f:\n",
    "    a = f.read(25)\n",
    "    print(len(a))\n",
    "    print(a)\n",
    "# 作业，使用read读取文件，每次读一个，使用循环读完\n",
    "    "
   ]
  },
  {
   "cell_type": "code",
   "execution_count": 17,
   "metadata": {
    "scrolled": true
   },
   "outputs": [
    {
     "name": "stdout",
     "output_type": "stream",
     "text": [
      "t-r-y- -t-o- -w-r-i-t-e- -s-t-h-\n",
      "-鹅-鹅-鹅-\n",
      "-曲-项-向-天-歌-\n",
      "-白-毛-浮-绿-水-\n",
      "-红-掌-拨-清-波-\n",
      "--"
     ]
    }
   ],
   "source": [
    "# 上面的 作业\n",
    "with open(r'lianxi.txt', 'r') as f:\n",
    "    \n",
    "    while True:\n",
    "        string = f.read(1)\n",
    "        print(string,end='-')\n",
    "        \n",
    "        if len(string) == 0:\n",
    "            break"
   ]
  },
  {
   "cell_type": "code",
   "execution_count": 1,
   "metadata": {},
   "outputs": [
    {
     "name": "stdout",
     "output_type": "stream",
     "text": [
      "t-y-t- -r-t- -t-\n",
      "-鹅-\n",
      "-项-天-\n",
      "-毛-绿-\n",
      "-掌-清-\n",
      "-"
     ]
    }
   ],
   "source": [
    "# 上面的 作业\n",
    "with open(r'lianxi.txt', 'r') as f:\n",
    "    \n",
    "    while True:\n",
    "        string = f.read(1)\n",
    "        print(string,end='-')\n",
    "        \n",
    "        if len(f.read(1)) == 0:\n",
    "            break\n",
    "            \n",
    "# 关于为什么这里的结果，中间少了一个字符，是因为下面的read（1）也被执行了\n",
    "# 而open打开一个文件后，每读一次，相关的信息就消失了。也就是同样的内容只能read一次"
   ]
  },
  {
   "cell_type": "code",
   "execution_count": 5,
   "metadata": {},
   "outputs": [
    {
     "name": "stdout",
     "output_type": "stream",
     "text": [
      "t *** r *** y ***   *** t *** o ***   *** w *** r *** i *** t *** e ***   *** s *** t *** h *** \n",
      " *** 鹅 *** 鹅 *** 鹅 *** \n",
      " *** 曲 *** 项 *** 向 *** 天 *** 歌 *** \n",
      " *** 白 *** 毛 *** 浮 *** 绿 *** 水 *** \n",
      " *** 红 *** 掌 *** 拨 *** 清 *** 波 *** \n",
      " *** "
     ]
    }
   ],
   "source": [
    "# 上面作业的另外一个版本\n",
    "# 这个是使用将要读取的信息，作为条件语句，比我之前写的版本巧妙，简洁了\n",
    "# 以为正好读取的信息也是在不断的变化\n",
    "with open(r'lianxi.txt', 'r') as f:\n",
    "    \n",
    "    string = f.read(1)\n",
    "    while string:   # 我之前的代码是用True 做条件语句，然后再循环结尾break掉。\n",
    "        print(string,end = ' *** ')\n",
    "        string = f.read(1)"
   ]
  },
  {
   "cell_type": "markdown",
   "metadata": {},
   "source": [
    "###  seek( offset, from)\n",
    "\n",
    "- 移动文件的读取位置，也叫读取指针\n",
    "- offset 偏移量，from 从何处开始偏移\n",
    "- from的取值范围：\n",
    "    - 0：从文件开头 开始偏移\n",
    "    - 1：从文件的当前位置开始偏移\n",
    "    - 2：从文件末尾开始偏移\n",
    "\n",
    "- read 的单位是字符，可以理解成一个汉字就是一个字符\n",
    "- 移动的单位是字节（byte）\n",
    "- 一个汉字由若干个字节构成\n",
    "- 返回文件只针对 当前位置"
   ]
  },
  {
   "cell_type": "code",
   "execution_count": 19,
   "metadata": {},
   "outputs": [
    {
     "name": "stdout",
     "output_type": "stream",
     "text": [
      "鹅鹅鹅\n",
      "曲项向天歌\n",
      "白毛浮绿水\n",
      "红掌拨清波\n",
      "\n"
     ]
    }
   ],
   "source": [
    "# seek 案例\n",
    "# 打开文件后，从第五个字节处开始读取\n",
    "# 打开后，读写指针在0处，即文件的开头\n",
    "\n",
    "with open(r'lianxi.txt', 'r') as f1:\n",
    "    \n",
    "    f1.seek(18,0)\n",
    "    string = f1.read()\n",
    "    print(string)"
   ]
  },
  {
   "cell_type": "code",
   "execution_count": 26,
   "metadata": {},
   "outputs": [
    {
     "name": "stdout",
     "output_type": "stream",
     "text": [
      "tr\n",
      "y \n",
      "to\n",
      " w\n",
      "ri\n",
      "te\n",
      " s\n",
      "th\n",
      "\n",
      "鹅\n",
      "鹅鹅\n",
      "\n",
      "曲\n",
      "项向\n",
      "天歌\n",
      "\n",
      "白\n",
      "毛浮\n",
      "绿水\n",
      "\n",
      "红\n",
      "掌拨\n",
      "清波\n",
      "\n",
      "\n"
     ]
    }
   ],
   "source": [
    "# 读取文件的练习，打开文件，三个字符一组读出内容，然后显示在屏幕上\n",
    "# 每读一次，休息一秒钟。需要使用time模块，需要导入。\n",
    "import time\n",
    "\n",
    "with open(r'lianxi.txt', 'r') as f3:\n",
    "    \n",
    "    string = f3.read(2)\n",
    "    while string:\n",
    "        print(string)\n",
    "        time.sleep(1)\n",
    "        string = f3.read(2)\n",
    "        \n",
    "    "
   ]
  },
  {
   "cell_type": "code",
   "execution_count": null,
   "metadata": {
    "collapsed": true
   },
   "outputs": [],
   "source": []
  },
  {
   "cell_type": "code",
   "execution_count": 23,
   "metadata": {},
   "outputs": [
    {
     "name": "stdout",
     "output_type": "stream",
     "text": [
      "try\n",
      " to\n",
      " wr\n",
      "ite\n",
      " st\n",
      "h\n",
      "鹅\n",
      "鹅鹅\n",
      "\n",
      "曲项向\n",
      "天歌\n",
      "\n",
      "白毛浮\n",
      "绿水\n",
      "\n",
      "红掌拨\n",
      "清波\n",
      "\n"
     ]
    }
   ],
   "source": [
    "import time\n",
    "\n",
    "with open(r'lianxi.txt', 'r') as f3:\n",
    "    \n",
    "    string = f3.read(3)\n",
    "    while string:\n",
    "        print(string)\n",
    "        time.sleep(1)\n",
    "        string = f3.read(3)"
   ]
  },
  {
   "cell_type": "code",
   "execution_count": 24,
   "metadata": {},
   "outputs": [
    {
     "name": "stdout",
     "output_type": "stream",
     "text": [
      "try \n",
      "to w\n",
      "rite\n",
      " sth\n",
      "\n",
      "鹅鹅鹅\n",
      "\n",
      "曲项向\n",
      "天歌\n",
      "白\n",
      "毛浮绿水\n",
      "\n",
      "红掌拨\n",
      "清波\n",
      "\n"
     ]
    }
   ],
   "source": [
    "import time\n",
    "\n",
    "with open(r'lianxi.txt', 'r') as f3:\n",
    "    \n",
    "    string = f3.read(4)\n",
    "    while string:\n",
    "        print(string)\n",
    "        time.sleep(1)\n",
    "        string = f3.read(4)"
   ]
  },
  {
   "cell_type": "markdown",
   "metadata": {},
   "source": [
    "### tell函数\n",
    "\n",
    "- 用来显示文件读写指针的当前位置"
   ]
  },
  {
   "cell_type": "code",
   "execution_count": 29,
   "metadata": {},
   "outputs": [
    {
     "name": "stdout",
     "output_type": "stream",
     "text": [
      "try\n",
      "3\n",
      " to\n",
      "6\n",
      " wr\n",
      "9\n",
      "ite\n",
      "12\n",
      " st\n",
      "15\n",
      "h\n",
      "鹅\n",
      "21\n",
      "鹅鹅\n",
      "\n",
      "26\n",
      "曲项向\n",
      "32\n",
      "天歌\n",
      "\n",
      "39\n",
      "白毛浮\n",
      "44\n",
      "绿水\n",
      "\n",
      "51\n",
      "红掌拨\n",
      "57\n",
      "清波\n",
      "\n",
      "62\n"
     ]
    }
   ],
   "source": [
    "with open(r'lianxi.txt', 'r') as f:\n",
    "    \n",
    "    string = f.read(3)\n",
    "    position = f.tell()\n",
    "    \n",
    "    while string:\n",
    "        print(string)\n",
    "        print(position)\n",
    "        string = f.read(3)\n",
    "        position = f.tell()"
   ]
  },
  {
   "cell_type": "markdown",
   "metadata": {},
   "source": [
    "###  文件写操作\n",
    "\n",
    "- write(str) ：把字符串写入文件\n",
    "- writeline(str): 把字符串按行写入文件\n",
    "- 区别：\n",
    "    - write函数参数只能是字符串\n",
    "    - writeline 参数可以是字符串，也可以是字符序列\n",
    "- \n",
    "- 每运行一次write，代表写入一次，多次运行，写入多次\n",
    "- a 只是追加，并不能打开"
   ]
  },
  {
   "cell_type": "code",
   "execution_count": 42,
   "metadata": {},
   "outputs": [],
   "source": [
    "# write 案例\n",
    "# a 代表追加的方式打开\n",
    "\n",
    "with open(r'lianxi.txt', 'a') as f:\n",
    "    \n",
    "    f.write('这首诗的作者我记不得了\\n')\n",
    "    f.write('想知道可以网上查一下')"
   ]
  },
  {
   "cell_type": "code",
   "execution_count": 43,
   "metadata": {},
   "outputs": [
    {
     "name": "stdout",
     "output_type": "stream",
     "text": [
      "try to write sth\n",
      "鹅鹅鹅\n",
      "曲项向天歌\n",
      "白毛浮绿水\n",
      "红掌拨清波\n",
      "这首诗的作者我记不得了\n",
      "这首诗的作者我记不得了\n",
      "想知道可以网上查一下\n"
     ]
    }
   ],
   "source": [
    "with open(r'lianxi.txt', 'r') as f:\n",
    "    print(f.read())"
   ]
  },
  {
   "cell_type": "code",
   "execution_count": 47,
   "metadata": {},
   "outputs": [],
   "source": [
    "# 可以直接写入行，用writelines\n",
    "# writ\n",
    "\n",
    "with open(r'lianxi.txt', 'a') as f:\n",
    "    \n",
    "    f.writelines('\\n窗前明月光，\\n疑似地上霜，\\n举头望明月，\\n低头思故乡')"
   ]
  },
  {
   "cell_type": "code",
   "execution_count": 53,
   "metadata": {},
   "outputs": [],
   "source": [
    "# writelines 还可以是用list作为参数\n",
    "\n",
    "list1 = ['\\n人之初', '性本善', '性相近', '习相远']\n",
    "with open(r'lianxi.txt', 'a') as f:\n",
    "    \n",
    "    f.writelines(list1)"
   ]
  },
  {
   "cell_type": "code",
   "execution_count": 54,
   "metadata": {},
   "outputs": [
    {
     "name": "stdout",
     "output_type": "stream",
     "text": [
      "try to write sth\n",
      "鹅鹅鹅\n",
      "曲项向天歌\n",
      "白毛浮绿水\n",
      "红掌拨清波\n",
      "这首诗的作者我记不得了\n",
      "这首诗的作者我记不得了\n",
      "想知道可以网上查一下窗前明月光，\n",
      "疑似地上霜，\n",
      "举头望明月，\n",
      "低头思故乡\n",
      "窗前明月光，\n",
      "疑似地上霜，\n",
      "举头望明月，\n",
      "低头思故乡人之初性本善性相近习相远\n",
      "人之初性本善性相近习相远\n"
     ]
    }
   ],
   "source": [
    "with open(r'lianxi.txt', 'r') as f:\n",
    "    print(f.read())"
   ]
  }
 ],
 "metadata": {
  "kernelspec": {
   "display_name": "Python 3",
   "language": "python",
   "name": "python3"
  },
  "language_info": {
   "codemirror_mode": {
    "name": "ipython",
    "version": 3
   },
   "file_extension": ".py",
   "mimetype": "text/x-python",
   "name": "python",
   "nbconvert_exporter": "python",
   "pygments_lexer": "ipython3",
   "version": "3.6.3"
  }
 },
 "nbformat": 4,
 "nbformat_minor": 2
}
