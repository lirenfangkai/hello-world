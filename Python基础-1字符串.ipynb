{
 "cells": [
  {
   "cell_type": "markdown",
   "metadata": {
    "collapsed": true
   },
   "source": [
    "# 基础知识"
   ]
  },
  {
   "cell_type": "markdown",
   "metadata": {},
   "source": [
    "### 算法：\n",
    "    - 详尽的描述如何完成某项任务。\n",
    "   "
   ]
  },
  {
   "cell_type": "markdown",
   "metadata": {},
   "source": [
    "## 语句和表达式\n",
    "    - 语句：做一些事情，所有语句的根本特征——执行修改操作。\n",
    "    - 表达式：是一些东西"
   ]
  },
  {
   "cell_type": "markdown",
   "metadata": {},
   "source": [
    "### 一些常用操作\n",
    "\n",
    "    - pow：执行幂运算\n",
    "    - abs:求绝对值\n",
    "    - round:浮点数取整数，首先取最接近的，如果相等，就取偶数的整数。\n",
    "    - floor：向下取整数，需要先导入math模块。\n",
    "    - ceil：返回小数的整数加一\n",
    "    - int()也可以，且不需要导入math模块。\n",
    "    - input() 要求用户输入，并且返回字符串\n",
    "    - sqrt（）计算平方根\n",
    "    - math是一个处理浮点数的模块\n",
    "    - cmath是一个处理复数的模块\n",
    "    - turtle模块，提供绘图的模块，forward、backward、right、left等等\n",
    "    - str:将输入的内容以字符串形式打印出来\n",
    "    - repr： 将内容原模原样打印出来 print(repr('hello world'))  结果就是：'hello world'是带引号的\n",
    "    "
   ]
  }
 ],
 "metadata": {
  "kernelspec": {
   "display_name": "Python 3",
   "language": "python",
   "name": "python3"
  },
  "language_info": {
   "codemirror_mode": {
    "name": "ipython",
    "version": 3
   },
   "file_extension": ".py",
   "mimetype": "text/x-python",
   "name": "python",
   "nbconvert_exporter": "python",
   "pygments_lexer": "ipython3",
   "version": "3.6.3"
  }
 },
 "nbformat": 4,
 "nbformat_minor": 2
}
