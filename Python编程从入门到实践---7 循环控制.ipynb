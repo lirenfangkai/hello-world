{
 "cells": [
  {
   "cell_type": "markdown",
   "metadata": {},
   "source": [
    "# while 循环及获取用户输入\n",
    "- \n",
    "- 获取用户输入  input()函数\n",
    "- while 循环\n",
    "- 使用while循环来出列列表和字典"
   ]
  },
  {
   "cell_type": "markdown",
   "metadata": {},
   "source": [
    "## 7.1 函数input()原理\n",
    "    - 让函数暂停运行, 等待用户输入一些文本. 其存入一个变量中, 以方便调用.\n",
    "    - input 可以在获取用户输入时, 想用户提示一些信息, 将这些信息作为参数, 放到 括号内.\n",
    "    - input函数 获取的数据都是字符串, 不管用户输入的是什么内容\n",
    "    - int 函数可以负责将字符串中的数字,转变成整数类型 . \n",
    "        - int 只能 转化整数的字符串类型 .\n",
    "    - 求模运算符: %   两个数相除, 返回余数\n",
    "    "
   ]
  },
  {
   "cell_type": "markdown",
   "metadata": {},
   "source": [
    "## 7.2 while循环\n",
    "    - 类似for循环, 但是while循环可以用条件去控制循环的进行, 可以让用户选择何时 退出循环 . \n",
    "    - 和if 分支类似, while循环后面也有一个条件表达式, 这里可以使用一个标志 来做判断\n",
    "        - 标志: 定义一个变量, 作为程序运行的信号灯, 当变量为真 循环继续, 当变量为假, 停止循环\n",
    "        - 使用break . 无条件退出循环, 不再执行后面的 while循环代码 \n",
    "        - 使用continue , 不再继续执行代码, 返回到程序开头 重新循环. \n",
    "    - "
   ]
  },
  {
   "cell_type": "markdown",
   "metadata": {},
   "source": [
    "## 7.3 使用while循环来处理列表和字典\n",
    "    - 在列表之间移动元素:\n",
    "        -  while循环的判断条件是,某个列表为空, 则终止循环\n",
    "    \n",
    "    - 删除包含特定值的所有列表元素\n",
    "        - 直接使用 元素是否在列表中 最为判断条件\n",
    "    \n",
    "    - 使用用户输入来填充字典:\n",
    "        - 使用标志来作为循环判断条件"
   ]
  },
  {
   "cell_type": "code",
   "execution_count": 1,
   "metadata": {},
   "outputs": [
    {
     "name": "stdout",
     "output_type": "stream",
     "text": [
      "[11, 22, 33, 6, 8, 11, 21]\n",
      "[22, 33, 6, 8, 21]\n"
     ]
    }
   ],
   "source": [
    "nums = [11,22,33,6,8,11,21,]\n",
    "print(nums)\n",
    "active = True\n",
    "while active:\n",
    "    nums.remove(11)    \n",
    "    if 11 not in nums:\n",
    "        active = False\n",
    "print(nums)\n",
    "\n",
    "# 将列表中的特定元素删除. 删除的这个动作的方法是 .remove(要删除的值)\n",
    "# 然后就是执行删除这个动作\n",
    "# 执行结束以后, 进行条件判断 ,如果没有了 ,那么不再循环,也就是将循环的条件 变成 False\n",
    "# 如果还有要删除的值, 那么条件判断不成立,  while循环条件成立, 继续循环"
   ]
  },
  {
   "cell_type": "code",
   "execution_count": null,
   "metadata": {
    "collapsed": true
   },
   "outputs": [],
   "source": []
  }
 ],
 "metadata": {
  "kernelspec": {
   "display_name": "Python 3",
   "language": "python",
   "name": "python3"
  },
  "language_info": {
   "codemirror_mode": {
    "name": "ipython",
    "version": 3
   },
   "file_extension": ".py",
   "mimetype": "text/x-python",
   "name": "python",
   "nbconvert_exporter": "python",
   "pygments_lexer": "ipython3",
   "version": "3.6.3"
  }
 },
 "nbformat": 4,
 "nbformat_minor": 2
}
