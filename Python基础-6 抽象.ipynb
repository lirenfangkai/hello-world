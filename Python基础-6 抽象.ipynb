{
 "cells": [
  {
   "cell_type": "markdown",
   "metadata": {},
   "source": [
    "# 6 抽象\n",
    "\n",
    "- 抽象可以节省人力\n",
    "- 抽象是程序能够被人理解的关键所在。\n",
    "- 函数是结构化编程的核心。"
   ]
  },
  {
   "cell_type": "markdown",
   "metadata": {},
   "source": [
    "## 6.1 函数定义和函数文档\n",
    "\n",
    "### 6.1.1 函数定义：\n",
    "\n",
    "    - 使用def 语句定义函数。\n",
    "    - 后面函数内容使用相同的缩进块。\n",
    "    \n",
    "### 6.1.2 函数文档：\n",
    "\n",
    "    - def 语句下第一行，使用三引号标注内的语句，用来对函数进行说明。\n",
    "    - 三个单引号，双引号都可以，但是在IDLE中，只能使用三个双引号，后期在使用中，默认使用三个双引号。\n",
    "    \n",
    "### 6.1.3 函数返回值：\n",
    "\n",
    "    - 函数都有返回值，如果没有值，那么返回的是None。\n",
    "    - return 可以结束函数语句。"
   ]
  },
  {
   "cell_type": "markdown",
   "metadata": {},
   "source": [
    "## 6.2 函数参数：\n",
    "\n",
    "### 6.2.1 函数参数的修改：\n",
    "\n",
    "    - 函数内部对参数进行修改或者赋值，对外部的使用、赋值没有影响。\n",
    "    - 但是，可变数据结构，列表， 对它进行修改会影响内外变量"
   ]
  }
 ],
 "metadata": {
  "kernelspec": {
   "display_name": "Python 3",
   "language": "python",
   "name": "python3"
  },
  "language_info": {
   "codemirror_mode": {
    "name": "ipython",
    "version": 3
   },
   "file_extension": ".py",
   "mimetype": "text/x-python",
   "name": "python",
   "nbconvert_exporter": "python",
   "pygments_lexer": "ipython3",
   "version": "3.6.3"
  }
 },
 "nbformat": 4,
 "nbformat_minor": 2
}
