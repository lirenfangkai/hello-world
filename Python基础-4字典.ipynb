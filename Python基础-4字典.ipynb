{
 "cells": [
  {
   "cell_type": "markdown",
   "metadata": {
    "collapsed": true
   },
   "source": [
    "# 字典\n",
    "\n",
    "\n",
    "\n",
    "### 概述：\n",
    "\n",
    "    - 需要将一系列数值组成数据结构，并通过编号来访问各个值时，列表很有用。\n",
    "    - 字典是一种通过名称来访问值的数据结构，这种方式叫映射，字典是python中唯一的内置映射类型。\n",
    "    - 字典的值，不按顺序排列，而是存储在键下。字典的键可以是：数、字符串或者元组。\n",
    "    - 字典的值可以相同，但是键必须是独一无二的。\n",
    "    - 字典中的每个键值对，成为项 英文item。\n",
    "    \n",
    "    - 函数dict从其他键值对序列或者其他映射，创建字典\n",
    "    - dict函数不带参数，将创建一个空字典。"
   ]
  },
  {
   "cell_type": "markdown",
   "metadata": {},
   "source": [
    "## 字典的基本操作：\n",
    "\n",
    "    - len()返回字典中，项的个数。\n",
    "    - d(k)，返回与键 k 相关联的值。\n",
    "    - d(k) = v, 将v 的值关联到k 这个键\n",
    "    - del d(k) 删除键为k 的值。\n",
    "    - k in d 检查字典是否包含键为 k 的项。\n",
    "    \n",
    "    - 字典的键可是任何不可变的类型：整数，浮点数，字符串或者元组。\n",
    "    - 字典中原本没有的键，也可以赋值。\n",
    "    - 表达式 k in dict，查找的是键，而不是值。v in list 查找是值，而不是索引。因为字典中键是唯一的，有了键，方便找到值。"
   ]
  },
  {
   "cell_type": "markdown",
   "metadata": {},
   "source": [
    "## 字典方法：\n",
    "\n",
    "    - Clear：删除所有的字典项。\n",
    "    \n",
    "    - copy 返回一个新字典。这是浅复制，做替换，原件不受影响，修改则不行\n",
    "        - 如果需要深复制，则需要使用copy模块中的 deepcopy函数："
   ]
  },
  {
   "cell_type": "code",
   "execution_count": 1,
   "metadata": {},
   "outputs": [
    {
     "name": "stdout",
     "output_type": "stream",
     "text": [
      "{'names': ['Alfred', 'Bertrand']}\n",
      "{'names': ['Alfred', 'Bertrand']}\n",
      "{'names': ['Alfred', 'Bertrand', 'Clive']}\n",
      "{'names': ['Alfred', 'Bertrand']}\n"
     ]
    }
   ],
   "source": [
    "# 下面的例子可以看出deepcopy 深拷贝，不受修改原件值的影响。\n",
    "from copy import deepcopy\n",
    "d = {}\n",
    "d['names'] = ['Alfred','Bertrand']\n",
    "c = d.copy()\n",
    "print(c)\n",
    "dc = deepcopy(d)\n",
    "print(dc)\n",
    "d['names'].append('Clive')\n",
    "print(c)\n",
    "print(dc)\n"
   ]
  },
  {
   "cell_type": "markdown",
   "metadata": {},
   "source": [
    "    - fromkeys:创建一个新字典，其中包含指定的键，且每个键对应的值，都是Mone.\n",
    "        - 如果不想使用None,可以在后面添加参数"
   ]
  },
  {
   "cell_type": "code",
   "execution_count": 10,
   "metadata": {},
   "outputs": [
    {
     "name": "stdout",
     "output_type": "stream",
     "text": [
      "{'name': None, 'age': None}\n",
      "{}\n",
      "{'name': 'unknown', 'age': 'unknown', 'job': 'unknown'}\n"
     ]
    }
   ],
   "source": [
    "a = dict.fromkeys(['name','age'])\n",
    "print(a)\n",
    "b = dict()  # 创建空字典\n",
    "print(b)\n",
    "c = dict.fromkeys(['name','age','job'],'unknown')\n",
    "print(c)"
   ]
  },
  {
   "cell_type": "markdown",
   "metadata": {},
   "source": [
    "    - get:为访问字典提供宽松的环境。通常访问没有的键时，会报错。使用get，则会返回None。\n",
    "        - 还可以在后面提供参数，让Python返回你指定的值\n",
    "        \n",
    "        - get 的使用增加了程序的灵活性，让用户输入并没有的数据的时候，返回提示形式，而不是出错终止程序。"
   ]
  },
  {
   "cell_type": "code",
   "execution_count": 15,
   "metadata": {},
   "outputs": [
    {
     "name": "stdout",
     "output_type": "stream",
     "text": [
      "None\n",
      "0\n"
     ]
    }
   ],
   "source": [
    "a = {}\n",
    "print(a.get('name'))\n",
    "print(a.get('age',0))"
   ]
  },
  {
   "cell_type": "markdown",
   "metadata": {},
   "source": [
    "    - items ：方法items返回一个包含所有字典项的类表， 列表中的每个元素，都是字典的键值对。\n",
    "        - 返回值属于一种名为：字典视图的特殊类型。\n",
    "        - 视图的一个优点是不复制（暂时还不懂），好像是说字典视图的值与字典指向同一个位置，彼此修改，都会让对方的值改变。\n",
    "        "
   ]
  },
  {
   "cell_type": "markdown",
   "metadata": {},
   "source": [
    "    - keys: 返回一个字典视图，其中包含指定字典的键\n",
    "    - pop：可用于获取与指定键相关联的值，并且将该键值对从字典中删除。\n",
    "    - popitem: 随机弹出一个字典项，因为字典本身没有顺序。\n",
    "        - 字典没有类似于list列表的append的方法，因为字典本身顺序是不确定的。\n",
    "        - 空字典的添加值，直接在一个一个赋值就可以了。\n",
    "        - 添加键值对，参见上面的字典基本操作，直接对没有的键进行赋值即可。\n",
    "        \n",
    "    - setdefault: 有点类似get，获得指定键的值，但是，它还可以在没有键的时候，自动添加这个键上去。\n",
    "        - 后面的参数，第一个是要获得值的键，第二是没有键时，创建的键值对中的值，如果没有，默认值为None。\n",
    "        \n",
    "    - update ： 使用字典中的一个项，来更新另一个字典。\n",
    "    - values ：返回一个由字典值组成的字典视图，因为值可能存在重复，所以会有重复。"
   ]
  }
 ],
 "metadata": {
  "kernelspec": {
   "display_name": "Python 3",
   "language": "python",
   "name": "python3"
  },
  "language_info": {
   "codemirror_mode": {
    "name": "ipython",
    "version": 3
   },
   "file_extension": ".py",
   "mimetype": "text/x-python",
   "name": "python",
   "nbconvert_exporter": "python",
   "pygments_lexer": "ipython3",
   "version": "3.6.3"
  }
 },
 "nbformat": 4,
 "nbformat_minor": 2
}
