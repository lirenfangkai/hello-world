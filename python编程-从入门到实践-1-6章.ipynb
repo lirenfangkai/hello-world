{
 "cells": [
  {
   "cell_type": "markdown",
   "metadata": {},
   "source": [
    "# 程序概述 :\n",
    "- \n",
    "- 大多数程序都是定义并收集各种数据 , 然后使用这些数据来完成一些 任务\n",
    "- 数据, 可以是数字, 字母, 字符串 等等各种信息, 在程序看来皆为数据 \n",
    "- \n",
    "- 程序就是来 各种处理数据 各种方式处理"
   ]
  },
  {
   "cell_type": "markdown",
   "metadata": {},
   "source": [
    "#  变量和简单的数据类型"
   ]
  },
  {
   "cell_type": "markdown",
   "metadata": {},
   "source": [
    "## 变量的定义:\n",
    "- \n",
    "- 用来关联一些,可能会不断变化的值\n",
    "- 在程序中可随时修改变量的值, 而python始终记录最新的值 \n",
    "\n",
    "## 变量的命名\n",
    "- \n",
    "- 只能包含字母, 数字, 下划线, 不能包含空格\n",
    "- 数字不能开头\n",
    "- \n",
    "- 建议就是字母或者单词开头 ,中间下划线\n",
    "- \n",
    "- Python不关心拼写是否正确, 但是必须上下行程序中的 变量名 一致"
   ]
  },
  {
   "cell_type": "markdown",
   "metadata": {},
   "source": [
    "## 字符串 \n",
    "- 在python中, 用括号括起来的 都是字符串 , 括号有单引号,双引号,三引号.\n",
    "- "
   ]
  },
  {
   "cell_type": "markdown",
   "metadata": {},
   "source": [
    "### 字符串的操作 1 \n",
    "- \n",
    "- 首字母大写, 一般用于输出姓名, 将每个单词的首字母大写   .title()\n",
    "- 全部大写    .upper()\n",
    "- 全部小写    .lower()\n",
    "- 以上方法可以直接对字符串操作, 详情见下面的 实例 2 "
   ]
  },
  {
   "cell_type": "code",
   "execution_count": 10,
   "metadata": {},
   "outputs": [
    {
     "name": "stdout",
     "output_type": "stream",
     "text": [
      "Legal Status\n",
      "Student\n"
     ]
    }
   ],
   "source": [
    "#  实例1 字母大小写操作\n",
    "words = \"legal status\"\n",
    "a = words.title()   # 方法 1 \n",
    "print(a)\n",
    "word1 = \"student\"\n",
    "print(word1.title()) # 方法 2"
   ]
  },
  {
   "cell_type": "markdown",
   "metadata": {},
   "source": [
    "###  字符串操作  2\n",
    "- 拼接字符串 使用 + 号 可以直接对字符串拼接, 或者通过变量\n",
    "- 字符串不能直接跟数字拼接,  可以使用str()来把数字 转换为 字符串类型 \n",
    "- 使用 int()  来将用户输入的 字符串 类型的数字转换为 数字类型 .\n",
    "- 注意上句话最后说的是类型, python 的数据中,关于类型的 要求需要注意 "
   ]
  },
  {
   "cell_type": "code",
   "execution_count": 17,
   "metadata": {},
   "outputs": [
    {
     "name": "stdout",
     "output_type": "stream",
     "text": [
      "Audi Benz\n",
      "\n",
      "Audi Benz\n"
     ]
    }
   ],
   "source": [
    "# 实例 2 \n",
    "name1 = \"audi\"\n",
    "name2 = \"benz\"\n",
    "name3 = name1.title() + ' ' + name2.title()\n",
    "print(name3)\n",
    "print()\n",
    "print(\"audi\".title() + \" benz\".title())"
   ]
  },
  {
   "cell_type": "code",
   "execution_count": 35,
   "metadata": {},
   "outputs": [
    {
     "name": "stdout",
     "output_type": "stream",
     "text": [
      "audi geely\n",
      "audi1\n"
     ]
    }
   ],
   "source": [
    "## 字符串可以跟变量拼接  但是 不能直接跟数字拼接\n",
    "name4 = name1 + \" geely\"\n",
    "print(name4)\n",
    "name5 = name1 + str(   1)#  不加str() 就会报错   并且 1 与前面有空格也不会显示出来, 只能单独加一个空格的字符串.\n",
    "print(name5)"
   ]
  },
  {
   "cell_type": "markdown",
   "metadata": {},
   "source": [
    "## 字符串操作 3 \n",
    "- 打印字符串中, 包含\\t  就是一个tab距离\n",
    "- 字符串中 \\n 代表换行"
   ]
  },
  {
   "cell_type": "code",
   "execution_count": 29,
   "metadata": {},
   "outputs": [
    {
     "name": "stdout",
     "output_type": "stream",
     "text": [
      "大家好\n",
      "你是哪国人\n",
      "\n",
      "我是中国人\n",
      "\n",
      "\t他是美国人\n"
     ]
    }
   ],
   "source": [
    "print(\"大家好\")\n",
    "print(\"你是哪国人\")\n",
    "print(\"\\n我是中国人\")\n",
    "print(\"\\n\\t他是美国人\")"
   ]
  },
  {
   "cell_type": "markdown",
   "metadata": {},
   "source": [
    "## 字符串操作 4 删除空白\n",
    "- 输入的字符串前面,或者后面有空格, 可以去除空白\n",
    "- 语法:\n",
    "              前空白: .lstrip()\n",
    "              后空白: .rstrip()\n",
    "              两头空白:  .strip()"
   ]
  },
  {
   "cell_type": "code",
   "execution_count": 36,
   "metadata": {},
   "outputs": [
    {
     "name": "stdout",
     "output_type": "stream",
     "text": [
      "are you china?\n",
      " are you china?\n"
     ]
    }
   ],
   "source": [
    "namex = \" are you china?\"\n",
    "print(namex.lstrip())\n",
    "print(namex)"
   ]
  },
  {
   "cell_type": "markdown",
   "metadata": {},
   "source": [
    "# 列表\n",
    "\n",
    "- 列表定义: 一系列按照特定顺序排列的元素  , 用方括号表示 [ ]\n",
    "- 列表里的数据可以是任意类型\n",
    "\n"
   ]
  },
  {
   "cell_type": "markdown",
   "metadata": {},
   "source": [
    "### 访问列表\n",
    "- 使用列表名[索引值] 即可\n",
    "- 列表的索引值从0 开始\n",
    "- 可以使用 -1 这个索引直接访问类表最后一个元素, 而不需要知道 列表的具体索引值 \n",
    "- 使用负数 索引值 从列表 倒数开始访问"
   ]
  },
  {
   "cell_type": "code",
   "execution_count": 39,
   "metadata": {},
   "outputs": [
    {
     "name": "stdout",
     "output_type": "stream",
     "text": [
      "7\n",
      "5\n"
     ]
    }
   ],
   "source": [
    "nums = [1,2,3,4,5,6,7]\n",
    "print(nums[-1])\n",
    "print(nums[-3])   # 从后往前数第三个 "
   ]
  },
  {
   "cell_type": "markdown",
   "metadata": {},
   "source": [
    "# 修改 添加 删除列表元素\n",
    "\n",
    "### 修改元素\n",
    "    - 直接使用 列表名[需要修改值的 索引] = 新修改的值\n",
    "\n",
    "### 添加元素\n",
    "    -  .append(待添加的 值)  默认添加到列表最后\n",
    "    -  .insert(待添加的位置索引,待添加的 值)  添加以后, 原有的索引位置 自动后移一个\n",
    "    \n",
    "### 删除元素\n",
    "    - del语句    del 语句删除的值, 无法再进行访问, python 会在系统中清除 这个值\n",
    "                del 列表名[索引值]  待删除的索引值\n",
    "    -  .pop()方法  默认弹出列表最后一个元素 ,被弹出的值,可以继续引用\n",
    "             .pop(索引值) 弹出任意位置的值\n",
    "    - .remove()  根据值来删除 ,被删除的值,可以继续使用\n",
    "    -  pop()有返回值 ,可以直接用print语句打印 , remove( ) 没有返回值 使用print的话 会输出None"
   ]
  },
  {
   "cell_type": "markdown",
   "metadata": {},
   "source": [
    "## 组织列表\n",
    "\n",
    "### 列表排序\n",
    "    - 方法 .sort() 永久排序 \n",
    "        - 列表是字母的话, 是按照首字母 顺序\n",
    "        - 数字按照大小写\n",
    "        - 方法sort() 没有返回值\n",
    "        - 方法sort( )内可以使用参数来改变排序  .sort(reverse=True) 倒着排序\n",
    "    - 函数 sorted() 可以对列表进行临时排序  同样可以用参数 reverse = True 进行调整\n",
    "        - 注意 这是函数  使用方法: sorted(列表名) \n",
    "        - sorted()函数有返回值  可以直接使用 print语句    print(sorted(列表名))\n",
    "        \n",
    "    - 倒着排序打印列表 .reverse()\n",
    "        - 注意,这是倒着打印列表, 不是对列表进行排序 \n",
    "        - 没有返回值\n",
    "        \n",
    "### 列表长度 \n",
    "    - 函数len( 列表名 ) 可以确定列表长度\n",
    "    - 常用来确定 列表中 元素的 数量 \n",
    "    - 还可以用来 确定 列表索引  以用来使用循环"
   ]
  },
  {
   "cell_type": "code",
   "execution_count": 43,
   "metadata": {},
   "outputs": [
    {
     "name": "stdout",
     "output_type": "stream",
     "text": [
      "[3, 2, 6, 4, 9, 1]\n"
     ]
    }
   ],
   "source": [
    "num_word = [1,9,4,6,2,3]\n",
    "num_word.reverse()\n",
    "print(num_word)\n"
   ]
  },
  {
   "cell_type": "markdown",
   "metadata": {},
   "source": [
    "# 使用循环操作列表\n",
    "\n",
    "### 循环解析\n",
    "    - 循环 是程序的重要结构之一. 列表, 常常需要用循环来进行 遍历\n",
    "    - 循环的内在逻辑: 在循环中, python 获取列表的第一个值, 然后将值存储到 变量中,然后执行下一个缩进的代码\n",
    "        - 然后 python返回头继续获取列表的第二个值,然后重复操作.\n",
    "    - for 循环下面 相同缩进的代码都属于 for循环.\n",
    "    \n",
    "### 创建数字列表\n",
    "    - 使用range()\n",
    "                for i in range():\n",
    "    - 使用函数list()\n",
    "                list(range())\n",
    "    - 什么样的数据可以使用 list函数 来创建列表: 必须是可迭代的 .\n",
    "    - range( )里面的参数, 除了列表的上下线, 还可以增加 步进参数\n",
    "                list(range(1,10,2)) 创建1到9的类表, 每个数字之间相隔 2 \n",
    "    - 数字列表的简单计算:\n",
    "            min(列表名) 最小值\n",
    "            max(列表名) 最大值\n",
    "            sum(列表名) 求和\n",
    "            \n",
    "### 列表解析\n",
    "\n",
    "    - 将for循环 和 创建新元素的 代码合并一行,并自动附加新元素\n",
    "    - 列表名 = [元素变量或者表达式 for循环]  实例见下面代码\n",
    "    - for循环是给元素变量或者表达式赋值的\n",
    "    \n",
    "### 列表切片\n",
    "\n",
    "    - 索引从0开始, 从开始要使用的元素索引 , 到结束的元素的索引+1\n",
    "            - 列表名[ : ] 全部使用\n",
    "            - 列表名[ :8]从第一个到第7个\n",
    "            - 列表名[4: ]从第五个到最后一个\n",
    "            - 列表名[-3:]倒数3个\n",
    "    - 切片遍历\n",
    "            - 可使用for循环\n",
    "            - for 变量 in 列表名[:]\n",
    "    - 赋值列表\n",
    "        - 新列表 = 列表[:] 即可\n",
    "        - 生成一个全新列表\n",
    "        - 新列表 = 列表,只是简单的把列表的值关联新列表 ."
   ]
  },
  {
   "cell_type": "code",
   "execution_count": 3,
   "metadata": {},
   "outputs": [
    {
     "name": "stdout",
     "output_type": "stream",
     "text": [
      "5\n"
     ]
    }
   ],
   "source": [
    "num_a = list(range(1,6))\n",
    "print(min(num_a))\n",
    "num_b = max(num_a)\n",
    "print(num_b)"
   ]
  },
  {
   "cell_type": "code",
   "execution_count": 5,
   "metadata": {},
   "outputs": [
    {
     "name": "stdout",
     "output_type": "stream",
     "text": [
      "[1, 2, 3]\n",
      "[3, 6, 9]\n"
     ]
    }
   ],
   "source": [
    "#  代码解析 实例\n",
    "num_1 = [num for num in range(1,4)]\n",
    "print(num_1)\n",
    "num_2 = [num*3 for num in range(1,4)]\n",
    "print(num_2)"
   ]
  },
  {
   "cell_type": "markdown",
   "metadata": {
    "collapsed": true
   },
   "source": [
    "# 元组\n",
    "    \n",
    "- 列表适合存储的数据随时变化\n",
    "- 元组 存储的值,不可修改. 使用括号来表示  元组 = ( ),可以有空元组\n",
    "         - 可以使用索引来访问元组的值 \n",
    "            - 元组[索引值]\n",
    "         - 可以使用for循环来遍历元组\n",
    "- 元组的值不可以修改, 但是可以给存储元组的变量赋值, 实例见下"
   ]
  },
  {
   "cell_type": "code",
   "execution_count": 1,
   "metadata": {},
   "outputs": [
    {
     "name": "stdout",
     "output_type": "stream",
     "text": [
      "100\n",
      "1338789062664\n",
      "200\n",
      "1338789062664\n",
      "120\n",
      "1338789063304\n",
      "220\n",
      "1338789063304\n"
     ]
    }
   ],
   "source": [
    "juxing = (100,200)\n",
    "for bianchang in juxing:\n",
    "    print(bianchang)\n",
    "    print(id(juxing))\n",
    "juxing = (120,220)\n",
    "for bianchang in juxing:\n",
    "    print(bianchang)\n",
    "    print(id(juxing))"
   ]
  },
  {
   "cell_type": "markdown",
   "metadata": {
    "collapsed": true
   },
   "source": [
    "# if 语句\n",
    "\n",
    "        - 语法结构: if 条件测试:\n",
    "                    执行语句    (条件为真时)\n",
    "                    执行语句    (条件为真时)\n",
    "        - if else 语句\n",
    "        - if elif elif else 语句 多个条件判断\n",
    "        - 如果有多个条件测试,可以使用\n",
    "                if 条件测试:\n",
    "                if 条件测试:\n",
    "                ......\n",
    "- 如何确定 列表不是空列表\n",
    "        - if 列表名:    空列表则返回False  列表内有元素则返回True.\n",
    "        "
   ]
  },
  {
   "cell_type": "markdown",
   "metadata": {
    "collapsed": true
   },
   "source": [
    "# 字典\n",
    "\n",
    "### 1, 字典定义:\n",
    "    - 字典名 {键 : 值, 键 : 值......}\n",
    "    - 可以有空字典\n",
    "    - 字典是一种动态结构, 类似列表 ,可以随时 添加-删除 键值对\n",
    "    \n",
    "### 2, 使用字典\n",
    "    - 使用键来访问关联的值, 也只能使用键来访问值 ,否则会报错\n",
    "            dict[键]\n",
    "    - 添加键-值对\n",
    "            语法 : dict[键] = 值\n",
    "            可以先定义一个空字典,然后不断的用上面的方法添加 键-值 对\n",
    "    - 修改字典中的值,注意是修改值, 而不是把 键-值 对全部修改\n",
    "            语法 : dict[原来的键] = 新的值\n",
    "            \n",
    "    - 删除 键-值 对.\n",
    "            语法: del dict[键]   删除键,python会同时删除值\n",
    "            注意: 被删除的值,不可再用, 在系统中被清除了 .\n",
    "            \n",
    "    - python中使用字典储存 多个对象的信息 : 可以分几行去写,但是要在字典名后方保持 相同的缩进."
   ]
  },
  {
   "cell_type": "code",
   "execution_count": null,
   "metadata": {
    "collapsed": true
   },
   "outputs": [],
   "source": []
  },
  {
   "cell_type": "code",
   "execution_count": 13,
   "metadata": {},
   "outputs": [
    {
     "name": "stdout",
     "output_type": "stream",
     "text": [
      "\n",
      "String: A series of characters.\n",
      "\n",
      "Comment: A note in a program that the Python interpreter ignores.\n",
      "\n",
      "List: A collection of items in a particular order.\n",
      "\n",
      "Loop: Work through a collection of items, one at a time.\n",
      "\n",
      "Dictionary: A collection of key-value pairs.\n"
     ]
    }
   ],
   "source": [
    "# 这是 书本上练习题的 代码\n",
    "# 这里有一个很好的参考,就是当需要输出 键的时候, 使用一个变量来进行 传递数据 很好用. \n",
    "glossary = {\n",
    "    'string': 'A series of characters.',\n",
    "    'comment': 'A note in a program that the Python interpreter ignores.',\n",
    "    'list': 'A collection of items in a particular order.',\n",
    "    'loop': 'Work through a collection of items, one at a time.',\n",
    "    'dictionary': \"A collection of key-value pairs.\",\n",
    "    }\n",
    "\n",
    "word = 'string'\n",
    "print(\"\\n\" + word.title() + \": \" + glossary[word])\n",
    "\n",
    "word = 'comment'\n",
    "print(\"\\n\" + word.title() + \": \" + glossary[word])\n",
    "\n",
    "word = 'list'\n",
    "print(\"\\n\" + word.title() + \": \" + glossary[word])\n",
    "\n",
    "word = 'loop'\n",
    "print(\"\\n\" + word.title() + \": \" + glossary[word])\n",
    "\n",
    "word = 'dictionary'\n",
    "print(\"\\n\" + word.title() + \": \" + glossary[word])"
   ]
  },
  {
   "cell_type": "code",
   "execution_count": 9,
   "metadata": {},
   "outputs": [
    {
     "name": "stdout",
     "output_type": "stream",
     "text": [
      "{'张三': '男', '小静': '女', '李四': '男'}\n"
     ]
    }
   ],
   "source": [
    "zidian = {\n",
    "    '张三':'男',\n",
    "    '小静':'女',\n",
    "    '李四':'男'\n",
    "    }\n",
    "print(zidian)"
   ]
  },
  {
   "cell_type": "markdown",
   "metadata": {},
   "source": [
    "### 3,遍历字典\n",
    "         \n",
    "        - 可遍历字典的 键-值 对, 也可遍历字典的 健或值.\n",
    "            - 遍历字典的健-值对\n",
    "                语法: for key,value in dict.items():\n",
    "                        print('key' + key)\n",
    "                        print('value' + value)\n",
    "            - 遍历字典的顺序, 跟原来的顺序可能不同,python 值关心 键-值 对的顺序,不关心排序.\n",
    "            \n",
    "            - 遍历所有的健:\n",
    "                语法: for 变量 in dict.keys()\n",
    "            - 遍历所有的值:\n",
    "                语法: for 变量 in dict.values()"
   ]
  },
  {
   "cell_type": "code",
   "execution_count": 15,
   "metadata": {},
   "outputs": [
    {
     "name": "stdout",
     "output_type": "stream",
     "text": [
      "string: A series of characters.\n",
      "comment: A note in a program that the Python interpreter ignores.\n",
      "list: A collection of items in a particular order.\n",
      "loop: Work through a collection of items, one at a time.\n",
      "dictionary: A collection of key-value pairs.\n"
     ]
    }
   ],
   "source": [
    "# 上面的例子, 遍历每一个 键-值对 \n",
    "glossary = {\n",
    "    'string': 'A series of characters.',\n",
    "    'comment': 'A note in a program that the Python interpreter ignores.',\n",
    "    'list': 'A collection of items in a particular order.',\n",
    "    'loop': 'Work through a collection of items, one at a time.',\n",
    "    'dictionary': \"A collection of key-value pairs.\",\n",
    "    }\n",
    "\n",
    "\n",
    "for key,value in glossary.items():\n",
    "    print(key + \": \" + glossary[key])"
   ]
  },
  {
   "cell_type": "code",
   "execution_count": 28,
   "metadata": {},
   "outputs": [
    {
     "name": "stdout",
     "output_type": "stream",
     "text": [
      "The Nile runs through Egypt.\n",
      "The Huanghe runs through China.\n",
      "The Mississippi runs through American.\n",
      "\n",
      "Nile\n",
      "\n",
      "Huanghe\n",
      "\n",
      "Mississippi\n",
      "\tEgypt \tChina \tAmerican "
     ]
    }
   ],
   "source": [
    "rivers = {'nile':'egypt','huanghe':'china','mississippi':'american'}\n",
    "for key,value in rivers.items():\n",
    "    print('The ' + key.title() + ' runs through ' + value.title() + '.') # 这里的value.title() 等同 rivers[key].title()\n",
    "for key in rivers.keys():\n",
    "    print('\\n' + key.title())\n",
    "for value in rivers.values():\n",
    "    print('\\t' + value.title(),end=' ')"
   ]
  },
  {
   "cell_type": "markdown",
   "metadata": {},
   "source": [
    "## 4,嵌套\n",
    "\n",
    "### 4,1 字典列表\n",
    "    - 列表中包含字典 "
   ]
  },
  {
   "cell_type": "code",
   "execution_count": 33,
   "metadata": {},
   "outputs": [
    {
     "name": "stdout",
     "output_type": "stream",
     "text": [
      "[{'color': 'yellow', 'age': '22'}, {'color': 'yellow', 'age': '22'}, {'color': 'yellow', 'age': '22'}, {'color': 'red', 'age': '22'}, {'color': 'red', 'age': '22'}, {'color': 'red', 'age': '22'}, {'color': 'red', 'age': '22'}, {'color': 'red', 'age': '22'}, {'color': 'red', 'age': '22'}, {'color': 'red', 'age': '22'}]\n"
     ]
    }
   ],
   "source": [
    "# 创建很多个同样的列表,里面的元素是字典.\n",
    "aliens = []\n",
    "for nums in range(10):\n",
    "    alien = {'color':'red','age':'22'}\n",
    "    aliens.append(alien)\n",
    "#  讲列表里的前三个,颜色为红色的 改成黄色\n",
    "# 这里为什么要用循环  因为重复做同样的事: 讲前三个里每个红色都改成黄色. 所以需要用for循环 , 后面是一个列表切片.\n",
    "for alien in aliens[0:3]:\n",
    "    if alien['color'] == 'red':\n",
    "        alien['color'] = 'yellow'\n",
    "print(aliens)\n"
   ]
  },
  {
   "cell_type": "markdown",
   "metadata": {},
   "source": [
    "## 4,2 字典中包含列表\n",
    "\n",
    "    - 在字典中,需要将一个键,关联到多个值的时候 \n",
    "    - 字典中嵌套列表的实例"
   ]
  },
  {
   "cell_type": "code",
   "execution_count": 1,
   "metadata": {},
   "outputs": [
    {
     "name": "stdout",
     "output_type": "stream",
     "text": [
      "kai最喜欢的地方是: \n",
      "\thefei\n",
      "\twuhu\n",
      "\tshanghai\n",
      "feng最喜欢的地方是: \n",
      "\thefei\n",
      "\tchangfeng\n",
      "jun最喜欢的地方是: \n",
      "\tshenzhen\n"
     ]
    }
   ],
   "source": [
    "favorite_places = {'kai':['hefei','wuhu','shanghai'],'feng':['hefei','changfeng'],'jun':['shenzhen']}\n",
    "for name,places in favorite_places.items():  # 遍历 字典中的每个 键值对\n",
    "    print(name + '最喜欢的地方是: ')\n",
    "    for place in places:   # 对于每个值,都是一个列表,当for循环获取第一个键值对的时候, 对 值这个列表做一次循环\n",
    "        print('\\t' + place) # 在子循环结束一次以后, 打印一下."
   ]
  },
  {
   "cell_type": "markdown",
   "metadata": {},
   "source": [
    "## 4.3 在字典中包含字典\n",
    "\n",
    "    - 用途,比如网站中包含很多用户, 其中用户名为键, 对应的用户信息是一个字典, 将这个字典作为值 关联到前面的键."
   ]
  }
 ],
 "metadata": {
  "kernelspec": {
   "display_name": "Python 3",
   "language": "python",
   "name": "python3"
  },
  "language_info": {
   "codemirror_mode": {
    "name": "ipython",
    "version": 3
   },
   "file_extension": ".py",
   "mimetype": "text/x-python",
   "name": "python",
   "nbconvert_exporter": "python",
   "pygments_lexer": "ipython3",
   "version": "3.6.3"
  }
 },
 "nbformat": 4,
 "nbformat_minor": 2
}
